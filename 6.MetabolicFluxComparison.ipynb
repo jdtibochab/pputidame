{
 "cells": [
  {
   "cell_type": "code",
   "execution_count": 1,
   "id": "80c32d0f-07e1-4aa2-adbb-4c340ab012ac",
   "metadata": {},
   "outputs": [],
   "source": [
    "import coralme\n",
    "import pandas\n",
    "from coralme.solver.solver import ME_NLP\n",
    "import cobra\n",
    "import numpy\n",
    "import matplotlib.pyplot as plt\n",
    "plt.rcParams['svg.fonttype'] = 'none'\n",
    "pandas.set_option('display.max_colwidth', None)"
   ]
  },
  {
   "cell_type": "code",
   "execution_count": 2,
   "id": "866fde13-aee7-49ea-b69a-e617eefb0d71",
   "metadata": {},
   "outputs": [],
   "source": [
    "# From https://journals.asm.org/doi/10.1128/aem.01643-14\n",
    "glucose_uptake = -2.21"
   ]
  },
  {
   "cell_type": "markdown",
   "id": "f1bc4c8a-aa17-49f8-9d9e-d23b29cf915c",
   "metadata": {},
   "source": [
    "### Load"
   ]
  },
  {
   "cell_type": "code",
   "execution_count": 3,
   "id": "2dc35d40-7d87-4dca-b75a-3278a066017e",
   "metadata": {},
   "outputs": [
    {
     "name": "stdout",
     "output_type": "stream",
     "text": [
      "Set parameter Username\n",
      "Academic license - for non-commercial use only - expires 2025-09-03\n"
     ]
    }
   ],
   "source": [
    "model = cobra.io.load_json_model(\"./pputidame/inputs/m_model.json\")"
   ]
  },
  {
   "cell_type": "code",
   "execution_count": 4,
   "id": "719902db-1e77-40db-a41e-9468a35cb4e2",
   "metadata": {},
   "outputs": [],
   "source": [
    "me = coralme.io.pickle.load_pickle_me_model(\"./pputidame/MEModel-step3-pputida-Keff.pkl\")"
   ]
  },
  {
   "cell_type": "code",
   "execution_count": 5,
   "id": "e62622ab-2e8b-42e8-80c0-137d60b37efe",
   "metadata": {},
   "outputs": [],
   "source": [
    "medium = pandas.read_csv(\"./media/M9.txt\",index_col=\"ID\",comment=\"#\")[\"Bound\"]\n",
    "def enforce_medium(model,medium):\n",
    "    for r in model.reactions.query(\"^EX_\"):\n",
    "        r.lower_bound = 0\n",
    "    for r,lb in medium.items():\n",
    "        model.reactions.get_by_id(r).lower_bound = lb\n",
    "\n",
    "enforce_medium(model,medium)\n",
    "assert model.optimize().objective_value > 1e-3\n",
    "enforce_medium(me,medium)\n",
    "assert me.optimize() == True"
   ]
  },
  {
   "cell_type": "markdown",
   "id": "6f205ad4-aa80-49c6-8953-1a6f495858b4",
   "metadata": {},
   "source": [
    "### M-model"
   ]
  },
  {
   "cell_type": "code",
   "execution_count": 95,
   "id": "15db4abf-2bf3-4415-a029-cb60d305be31",
   "metadata": {},
   "outputs": [],
   "source": [
    "model.reactions.EX_glc__D_e.bounds = (glucose_uptake,0)\n",
    "sol1 = model.optimize().to_frame()[\"fluxes\"]"
   ]
  },
  {
   "cell_type": "code",
   "execution_count": 98,
   "id": "4ad4e28f-e707-4f79-8422-214eec037bb3",
   "metadata": {},
   "outputs": [],
   "source": [
    "sol1.to_csv(\"./datasets/metabolic-flux-analysis/m_model.csv\")"
   ]
  },
  {
   "cell_type": "markdown",
   "id": "f65ea29d-f367-4dac-a4f2-59962b4f3dc5",
   "metadata": {},
   "source": [
    "### ME-model"
   ]
  },
  {
   "cell_type": "code",
   "execution_count": 9,
   "id": "c6aa72ad-9f1a-46d2-a1d7-5cc3cf5e229b",
   "metadata": {},
   "outputs": [
    {
     "name": "stdout",
     "output_type": "stream",
     "text": [
      "Iteration\t Solution to check\tSolver Status\n",
      "---------\t------------------\t-------------\n",
      "        1\t0.3000000000000000\tNot feasible\n",
      "        2\t0.1500000000000000\tOptimal\n",
      "        3\t0.2250000000000000\tNot feasible\n",
      "        4\t0.1875000000000000\tNot feasible\n",
      "        5\t0.1687500000000000\tOptimal\n",
      "        6\t0.1781250000000000\tOptimal\n",
      "        7\t0.1828125000000000\tOptimal\n",
      "        8\t0.1851562500000000\tOptimal\n",
      "        9\t0.1863281250000000\tNot feasible\n",
      "       10\t0.1857421875000000\tOptimal\n",
      "       11\t0.1860351562500000\tNot feasible\n",
      "       12\t0.1858886718750000\tNot feasible\n",
      "       13\t0.1858154296875000\tNot feasible\n",
      "       14\t0.1857788085937500\tNot feasible\n",
      "       15\t0.1857604980468750\tOptimal\n",
      "       16\t0.1857696533203125\tNot feasible\n",
      "       17\t0.1857650756835937\tNot feasible\n",
      "       18\t0.1857627868652344\tNot feasible\n",
      "       19\t0.1857616424560547\tOptimal\n",
      "       20\t0.1857622146606445\tNot feasible\n"
     ]
    },
    {
     "data": {
      "text/plain": [
       "True"
      ]
     },
     "execution_count": 9,
     "metadata": {},
     "output_type": "execute_result"
    }
   ],
   "source": [
    "me.reactions.EX_glc__D_e.bounds = (glucose_uptake,0)\n",
    "me.optimize(max_mu=0.6)"
   ]
  },
  {
   "cell_type": "code",
   "execution_count": 23,
   "id": "8d021a6e-1fe6-4bb9-b83a-ddf5269f83a5",
   "metadata": {},
   "outputs": [
    {
     "name": "stderr",
     "output_type": "stream",
     "text": [
      "Building reaction dictionary...                                            : 100.0%|██████████|  2563/ 2563 [00:00<00:00]\n",
      "Processing ME-model Reactions...                                           : 100.0%|██████████| 14418/14418 [00:00<00:00]\n"
     ]
    }
   ],
   "source": [
    "sol2 = pandas.Series(me.get_metabolic_flux()).rename(\"fluxes\")"
   ]
  },
  {
   "cell_type": "code",
   "execution_count": 14,
   "id": "ab8e405b-34d6-4cf7-857c-c98c94c7c0ab",
   "metadata": {},
   "outputs": [],
   "source": [
    "sol2.to_csv(\"./datasets/metabolic-flux-analysis/me_model.csv\")"
   ]
  },
  {
   "cell_type": "markdown",
   "id": "77858f96-b297-4997-9ef5-4945048bb1aa",
   "metadata": {},
   "source": [
    "### Comparison"
   ]
  },
  {
   "cell_type": "code",
   "execution_count": 38,
   "id": "b9fbb16b-f78d-416f-bcd3-d503176eb766",
   "metadata": {},
   "outputs": [],
   "source": [
    "import statsmodels.api as sm\n",
    "from statsmodels.stats.outliers_influence import summary_table\n",
    "from scipy import stats\n",
    "from scipy.stats import pearsonr"
   ]
  },
  {
   "cell_type": "code",
   "execution_count": 65,
   "id": "12022751-e7f0-4496-b2db-85074e5f355c",
   "metadata": {},
   "outputs": [],
   "source": [
    "df = pandas.concat([sol1.rename(\"M\"),sol2.rename(\"ME\")],axis=1).dropna()"
   ]
  },
  {
   "cell_type": "code",
   "execution_count": 75,
   "id": "f30aeaeb-8417-4c40-a658-18f998ceb3a7",
   "metadata": {},
   "outputs": [],
   "source": [
    "df = numpy.log10(df.abs()).dropna()"
   ]
  },
  {
   "cell_type": "code",
   "execution_count": 82,
   "id": "e6e58805-4c88-465e-b65d-d07b037ac916",
   "metadata": {},
   "outputs": [
    {
     "name": "stdout",
     "output_type": "stream",
     "text": [
      "PearsonRResult(statistic=0.8076826884028974, pvalue=0.0) 0.6523513251457318\n"
     ]
    },
    {
     "data": {
      "image/png": "[encoded data removed]",
      "text/plain": [
       "<Figure size 640x480 with 1 Axes>"
      ]
     },
     "metadata": {},
     "output_type": "display_data"
    }
   ],
   "source": [
    "# colors = [\"brown\",\"blue\",\"green\"]\n",
    "X = df[\"M\"].values\n",
    "y = df[\"ME\"].values\n",
    "\n",
    "X2 = sm.add_constant(X)\n",
    "est = sm.OLS(y, X2)\n",
    "est2 = est.fit()\n",
    "# print(est2.summary())\n",
    "fig,ax = plt.subplots(1,1)\n",
    "df.plot.scatter(x=\"M\",y=\"ME\",ax=ax)\n",
    "plt.plot(X,est2.predict(),color=\"black\")\n",
    "\n",
    "res = pearsonr(numpy.squeeze(y),numpy.squeeze(est2.predict().reshape(-1,1)))\n",
    "print(res,res.statistic**2)\n",
    "\n",
    "\n",
    "# Confidence interval\n",
    "st, data, ss2 = summary_table(est2, alpha=0.05)\n",
    "fittedvalues = data[:, 2]\n",
    "predict_mean_se  = data[:, 3]\n",
    "predict_mean_ci_low, predict_mean_ci_upp = data[:, 4:6].T\n",
    "predict_ci_low, predict_ci_upp = data[:, 6:8].T\n",
    "plt.plot(X, predict_ci_low, color=\"gray\")\n",
    "plt.plot(X, predict_ci_upp, color=\"gray\")\n",
    "plt.text(-2.3,0.4,f\"PCC={round(res.statistic,2)}\")\n",
    "plt.text(-2.3,0.2,f\"R2={round(res.statistic**2,2)}\")\n",
    "plt.text(-2.3,0.,f\"p={round(res.pvalue,2)}\")\n",
    "# plt.plot([-15,15],[-15,15],linestyle='--',color=\"gray\")\n",
    "plt.xlabel(\"Metabolic fluxes in M-model, log10\")\n",
    "plt.ylabel(\"Metabolic fluxes in ME-model, log10\")\n",
    "plt.savefig(\"./figures/M-vs-ME-metabolic-fluxes.svg\",format=\"svg\")"
   ]
  },
  {
   "cell_type": "markdown",
   "id": "58b977de-3bc7-4f70-b0e2-dacb65d7886b",
   "metadata": {},
   "source": [
    "### Save as HTML"
   ]
  },
  {
   "cell_type": "code",
   "execution_count": 115,
   "id": "152719b2-1f51-4ca1-bce9-ffc4345c1cf1",
   "metadata": {},
   "outputs": [],
   "source": [
    "import escher\n",
    "from escher import Builder\n",
    "import cobra\n",
    "from time import sleep\n",
    "escher.rc['never_ask_before_quit'] = True"
   ]
  },
  {
   "cell_type": "code",
   "execution_count": 116,
   "id": "cc017169-9ad4-4278-8027-5267128e951f",
   "metadata": {},
   "outputs": [],
   "source": [
    "builder = Builder(\n",
    "    model_json='./pputidame/inputs/m_model.json',\n",
    "    map_json=\"./datasets/metabolic-flux-analysis/e_coli_core.Core metabolism (23).json\",\n",
    "    reaction_data = sol1,\n",
    ")\n",
    "builder.save_html('datasets/metabolic-flux-analysis/m_model_map.html')"
   ]
  },
  {
   "cell_type": "code",
   "execution_count": 122,
   "id": "c4f9ec7c-550f-47c7-abbc-e43aa396db9e",
   "metadata": {},
   "outputs": [],
   "source": [
    "builder = Builder(\n",
    "    model_json='./pputidame/inputs/m_model.json',\n",
    "    map_json=\"./datasets/metabolic-flux-analysis/e_coli_core.Core metabolism (23).json\",\n",
    "    reaction_data = sol2,\n",
    ")\n",
    "builder.save_html('datasets/metabolic-flux-analysis/me_model_map.html')"
   ]
  },
  {
   "cell_type": "markdown",
   "id": "19f3b3a6-d782-4c1a-8bae-088073cd8d8f",
   "metadata": {},
   "source": [
    "### Save simulation conditions"
   ]
  },
  {
   "cell_type": "code",
   "execution_count": 8,
   "id": "c9cb4132-aa31-4ff2-b1ec-d74768d659e1",
   "metadata": {},
   "outputs": [],
   "source": [
    "def save_dict_of_dataframes_to_excel(dict_of_dataframes, excel_filename):\n",
    "    \"\"\"\n",
    "    Save a dictionary of dataframes into an Excel worksheet, with each dataframe in a separate sheet.\n",
    "\n",
    "    Parameters:\n",
    "    - dict_of_dataframes (dict): A dictionary where keys are sheet names and values are dataframes.\n",
    "    - excel_filename (str): The name of the Excel file to be created.\n",
    "\n",
    "    Example:\n",
    "    ```python\n",
    "    dataframes_dict = {'Sheet1': df1, 'Sheet2': df2, 'Sheet3': df3}\n",
    "    save_dict_of_dataframes_to_excel(dataframes_dict, 'output.xlsx')\n",
    "    ```\n",
    "    \"\"\"\n",
    "    with pandas.ExcelWriter(excel_filename, engine='xlsxwriter') as writer:\n",
    "        for sheet_name, dataframe in dict_of_dataframes.items():\n",
    "            dataframe.to_excel(writer, sheet_name=sheet_name, index=True)\n"
   ]
  },
  {
   "cell_type": "code",
   "execution_count": 9,
   "id": "7ca5ddfd-afe0-4cbd-85b5-5e0a26b354f0",
   "metadata": {},
   "outputs": [],
   "source": [
    "dct = {\n",
    "    \"Constraints\" : pandas.Series({r.id:r.lower_bound for r in model.reactions.query(\"^EX_\") if r.lower_bound<0}),\n",
    "    \"ME-model simulations\" : pandas.read_csv(\"./datasets/metabolic-flux-analysis/me_model.csv\",index_col=0),\n",
    "    \"M-model simulations\" : pandas.read_csv(\"./datasets/metabolic-flux-analysis/m_model.csv\",index_col=0),\n",
    "}"
   ]
  },
  {
   "cell_type": "code",
   "execution_count": 11,
   "id": "38195f9d-4ac0-408f-9960-00249f9245c0",
   "metadata": {},
   "outputs": [],
   "source": [
    "save_dict_of_dataframes_to_excel(dct,\"./datasets/supplementary/SupplementaryTable1.xlsx\")"
   ]
  }
 ],
 "metadata": {
  "kernelspec": {
   "display_name": "coralme-1.1.5",
   "language": "python",
   "name": "coralme-1.1.5"
  },
  "language_info": {
   "codemirror_mode": {
    "name": "ipython",
    "version": 3
   },
   "file_extension": ".py",
   "mimetype": "text/x-python",
   "name": "python",
   "nbconvert_exporter": "python",
   "pygments_lexer": "ipython3",
   "version": "3.10.12"
  }
 },
 "nbformat": 4,
 "nbformat_minor": 5
}
