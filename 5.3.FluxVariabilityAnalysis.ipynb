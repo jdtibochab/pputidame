{
 "cells": [
  {
   "cell_type": "code",
   "execution_count": 1,
   "id": "80c32d0f-07e1-4aa2-adbb-4c340ab012ac",
   "metadata": {},
   "outputs": [],
   "source": [
    "import coralme\n",
    "import pandas\n",
    "from coralme.solver.solver import ME_NLP\n",
    "import cobra\n",
    "import numpy\n",
    "import matplotlib.pyplot as plt\n",
    "plt.rcParams['svg.fonttype'] = 'none'\n",
    "pandas.set_option('display.max_colwidth', None)"
   ]
  },
  {
   "cell_type": "markdown",
   "id": "42a1b5ce-ba2a-4463-8f56-5a76e0711f7c",
   "metadata": {},
   "source": [
    "### Function to cast a COBRA model to coralME to perform FVA using QMINOS"
   ]
  },
  {
   "cell_type": "code",
   "execution_count": 2,
   "id": "e695378f-b42c-4e29-bc64-ab104c0ec621",
   "metadata": {},
   "outputs": [],
   "source": [
    "def from_cobra(model, objective = None):\n",
    "    from coralme.core.model import MEModel\n",
    "    from coralme.core.component import Metabolite\n",
    "    from coralme.core.reaction import MEReaction\n",
    "    import copy\n",
    "    def reaction_from_cobra_model(model, reaction):\n",
    "        new_reaction = MEReaction(reaction.id)\n",
    "        new_reaction.name = reaction.name\n",
    "        new_reaction.subsystem = reaction.subsystem\n",
    "        new_reaction.lower_bound = reaction.lower_bound\n",
    "        new_reaction.upper_bound = reaction.upper_bound\n",
    "        new_reaction.gpr = reaction.gpr\n",
    "        for met, stoichiometry in reaction.metabolites.items():\n",
    "            new_reaction.add_metabolites({ model.metabolites.get_by_id(met.id): stoichiometry })\n",
    "        return new_reaction\n",
    "\n",
    "    def metabolite_from_cobra_model(model, metabolite):\n",
    "        new_metabolite = Metabolite(metabolite.id)\n",
    "        new_metabolite.name = metabolite.name\n",
    "        new_metabolite.formula = metabolite.formula\n",
    "        new_metabolite.compartment = metabolite.compartment\n",
    "        new_metabolite.charge = metabolite.charge\n",
    "        new_metabolite.annotation = metabolite.annotation\n",
    "        new_metabolite.notes = metabolite.notes\n",
    "        return new_metabolite\n",
    "\n",
    "    new_model = MEModel()\n",
    "    new_model.metabolites[0].remove_from_model()\n",
    "    new_model.add_metabolites([ metabolite_from_cobra_model(model, x) for x in model.metabolites ])\n",
    "    new_model.reactions[0].remove_from_model()\n",
    "    new_model.add_reactions([ reaction_from_cobra_model(model, x) for x in model.reactions ])\n",
    "    if objective is not None:\n",
    "        new_model.reactions.get_by_id(objective).objective_coefficient = +1\n",
    "    else:\n",
    "        # bof: defaultdict = { (optlang.gurobi_interface.Variable, coeff) }\n",
    "        bof = model.objective.expression.as_coefficients_dict()\n",
    "        for variable, objective_coefficient in bof.items():\n",
    "            if 'reverse' in variable.name:\n",
    "                continue\n",
    "            new_model.reactions.get_by_id(variable.name).objective_coefficient = objective_coefficient\n",
    "    new_model.gem = copy.deepcopy(model)\n",
    "    new_model.notes = {\n",
    "        'from cobra' : True\n",
    "        }\n",
    "\n",
    "    return new_model"
   ]
  },
  {
   "cell_type": "markdown",
   "id": "c002b57b-3377-41a2-b71a-bee36070d432",
   "metadata": {},
   "source": [
    "### Function optimize an M-model using QMINOS (copied from model.optimize() in [coralme-1.1.12](https://github.com/jdtibochab/coralme/releases/tag/v1.1.12))\n",
    "\n",
    "This version solved issues with solving M-models cast to a ME-model instance."
   ]
  },
  {
   "cell_type": "code",
   "execution_count": 3,
   "id": "6d53595f-5ded-4127-b6f9-71f60e465890",
   "metadata": {},
   "outputs": [],
   "source": [
    "def optimize(model,\n",
    "    max_mu = 2.8100561374051836, min_mu = 0., maxIter = 100, lambdify = True, basis = None,\n",
    "    tolerance = 1e-6, precision = 'quad', verbose = True, get_reduced_costs = False, solver=\"qminos\"):\n",
    "\n",
    "    \"\"\"Solves the NLP problem to obtain reaction fluxes for a ME-model.\n",
    "\n",
    "    Parameters\n",
    "    ----------\n",
    "    max_mu : float\n",
    "        Maximum growth rate for initializing the growth rate binary search (GRBS).\n",
    "    min_mu : float\n",
    "        Minimum growth rate for initializing GRBS.\n",
    "    maxIter : int\n",
    "        Maximum number of iterations for GRBS.\n",
    "    lambdify : bool\n",
    "        If True, returns a dictionary of lambda functions for each symbolic\n",
    "        stoichiometric coefficient.\n",
    "    tolerance : float\n",
    "        Tolerance for the convergence of GRBS.\n",
    "    precision : str, {\"quad\", \"double\", \"dq\", \"dqq\"}\n",
    "        Precision (quad or double precision) for the GRBS\n",
    "    verbose : bool\n",
    "        If True, allow printing.\n",
    "    get_reduced_costs : bool\n",
    "        If True, re-optimize but changing the objective function to 'biomass_dilution'\n",
    "        and its bounds. New reduced costs and shadow prices will be returned.\n",
    "    \"\"\"\n",
    "\n",
    "    # max_mu is constrained by the fastest-growing bacterium (14.8 min, doubling time)\n",
    "    # https://www.nature.com/articles/s41564-019-0423-8\n",
    "\n",
    "    if model.notes.get('from cobra', False) and solver != \"qminos\":\n",
    "        return NotImplemented\n",
    "\n",
    "    if solver != \"qminos\":\n",
    "        return model.optimize_windows(max_mu = max_mu, min_mu = min_mu, maxIter = maxIter, lambdify = lambdify,\n",
    "            tolerance = tolerance, precision = precision, verbose = verbose, solver = solver)\n",
    "\n",
    "    # check options\n",
    "    min_mu = min_mu if min_mu >= 0. else 0.\n",
    "    max_mu = max_mu if max_mu <= 2.8100561374051836 else 2.8100561374051836\n",
    "    tolerance = tolerance if tolerance >= 1e-15 else 1e-6\n",
    "    precision = precision if precision in [ 'quad', 'double', 'dq', 'dqq' ] else 'quad'\n",
    "\n",
    "    assert get_reduced_costs == False or get_reduced_costs == lambdify == True, \"get_reduced_costs requires lambdify=True\"\n",
    "    per_position = bool(get_reduced_costs)\n",
    "\n",
    "    if hasattr(model, 'troubleshooting') and not model.troubleshooting or not hasattr(model, 'troubleshooting'):\n",
    "        print('The MINOS and quad MINOS solvers are a courtesy of Prof Michael A. Saunders. Please cite Ma, D., Yang, L., Fleming, R. et al. Reliable and efficient solution of genome-scale models of Metabolism and macromolecular Expression. Sci Rep 7, 40863 (2017). https://doi.org/10.1038/srep40863\\n')\n",
    "\n",
    "    # populate with stoichiometry, no replacement of mu's\n",
    "    if hasattr(model, 'construct_lp_problem') and not model.notes.get('from cobra', False):\n",
    "        Sf, Se, lb, ub, b, c, cs, atoms, lambdas, Lr, Lm = model.construct_lp_problem(lambdify = lambdify,per_position=per_position)\n",
    "    else:\n",
    "        Sf, Se, lb, ub, b, c, cs, atoms, lambdas, Lr, Lm = coralme.core.model.MEModel.construct_lp_problem(model,per_position=per_position)\n",
    "        me_nlp = coralme.solver.solver.ME_NLP(Sf, Se, b, c, lb, ub, cs, atoms, lambdas)\n",
    "        xopt, yopt, zopt, stat, basis = me_nlp.solvelp(.1, None, 'quad', probname = 'lp')\n",
    "\n",
    "        if stat == 'optimal':\n",
    "            muopt = float(sum([ x*c for x,c in zip(xopt, c) if c != 0 ]))\n",
    "            model.solution = coralme.core.model.MEModel._solver_solution_to_cobrapy_solution(model, muopt, xopt, yopt, zopt, stat)\n",
    "            return True\n",
    "        else:\n",
    "            if hasattr(model, 'solution'):\n",
    "                del model.solution\n",
    "            return False\n",
    "\n",
    "    if len(atoms) > 1:\n",
    "        print('Use `me_model.map_feasibility()` to obtain the boundary of feasible solutions.')\n",
    "        print('Optimization will proceed replacing all growth keys with the same value.')\n",
    "\n",
    "    me_nlp = coralme.solver.solver.ME_NLP(Sf, Se, b, c, lb, ub, cs, atoms, lambdas)\n",
    "    muopt, xopt, yopt, zopt, basis, stat = me_nlp.bisectmu(\n",
    "            mumax = max_mu,\n",
    "            mumin = min_mu,\n",
    "            maxIter = maxIter,\n",
    "            basis = basis,\n",
    "            tolerance = tolerance,\n",
    "            precision = precision,\n",
    "            verbose = verbose)\n",
    "\n",
    "    if stat == 'optimal':\n",
    "        # Adapted from Maxwell Neal, 2024\n",
    "        if get_reduced_costs:\n",
    "            rxn_idx =  {rxn.id : idx for idx, rxn in enumerate(model.reactions)}\n",
    "            # Open biomass dilution bounds\n",
    "            me_nlp.xl[rxn_idx[\"biomass_dilution\"]] = lambda mu : 0.\n",
    "            me_nlp.xu[rxn_idx[\"biomass_dilution\"]] = lambda mu : 1000.\n",
    "            # Set new objective coefficient\n",
    "            me_nlp.c = [1.0 if r==\"biomass_dilution\" else 0.0 for r in rxn_idx]\n",
    "            # Solve at muopt\n",
    "            _xopt, yopt, zopt, _stat, _basis = me_nlp.solvelp(muf = muopt, basis = basis, precision = precision)\n",
    "\n",
    "        model.solution = coralme.core.model.MEModel._solver_solution_to_cobrapy_solution(model, muopt, xopt, yopt, zopt, stat)\n",
    "        model.basis = basis\n",
    "        return True\n",
    "    else:\n",
    "        if hasattr(model, 'solution'):\n",
    "            del model.solution\n",
    "        if hasattr(model, 'basis'):\n",
    "            model.basis = None\n",
    "        return False\n"
   ]
  },
  {
   "cell_type": "markdown",
   "id": "693f5979-cc84-4c68-a46f-67e23f84da54",
   "metadata": {},
   "source": [
    "### Load"
   ]
  },
  {
   "cell_type": "code",
   "execution_count": 3,
   "id": "719902db-1e77-40db-a41e-9468a35cb4e2",
   "metadata": {},
   "outputs": [
    {
     "name": "stdout",
     "output_type": "stream",
     "text": [
      "Set parameter Username\n",
      "Academic license - for non-commercial use only - expires 2025-09-03\n"
     ]
    }
   ],
   "source": [
    "me = coralme.io.pickle.load_pickle_me_model(\"./pputidame/MEModel-step3-pputida-Keff.pkl\")"
   ]
  },
  {
   "cell_type": "code",
   "execution_count": 4,
   "id": "2dc35d40-7d87-4dca-b75a-3278a066017e",
   "metadata": {},
   "outputs": [
    {
     "name": "stdout",
     "output_type": "stream",
     "text": [
      "Set parameter Username\n",
      "Academic license - for non-commercial use only - expires 2025-09-03\n"
     ]
    }
   ],
   "source": [
    "model = cobra.io.load_json_model(\"./pputidame/inputs/m_model.json\")"
   ]
  },
  {
   "cell_type": "code",
   "execution_count": 5,
   "id": "e62622ab-2e8b-42e8-80c0-137d60b37efe",
   "metadata": {},
   "outputs": [],
   "source": [
    "medium = pandas.read_csv(\"./media/M9.txt\",index_col=\"ID\",comment=\"#\")[\"Bound\"]\n",
    "def enforce_medium(model,medium):\n",
    "    for r in model.reactions.query(\"^EX_\"):\n",
    "        r.lower_bound = 0\n",
    "    for r,lb in medium.items():\n",
    "        model.reactions.get_by_id(r).lower_bound = lb\n",
    "\n",
    "enforce_medium(model,medium)\n",
    "assert model.optimize().objective_value > 1e-3\n",
    "enforce_medium(me,medium)\n",
    "assert me.optimize() == True"
   ]
  },
  {
   "cell_type": "markdown",
   "id": "daf65bc5-d4f0-4e02-8ef8-4709d596e8eb",
   "metadata": {},
   "source": [
    "### M"
   ]
  },
  {
   "cell_type": "code",
   "execution_count": 6,
   "id": "ce309f9c-a11c-4a6e-b53c-e2819ec1da23",
   "metadata": {},
   "outputs": [
    {
     "name": "stdout",
     "output_type": "stream",
     "text": [
      "Read LP format model from file /tmp/tmp4s_ulhmp.lp\n",
      "Reading time = 0.01 seconds\n",
      ": 2153 rows, 5854 columns, 23272 nonzeros\n"
     ]
    }
   ],
   "source": [
    "model_ = from_cobra(model)"
   ]
  },
  {
   "cell_type": "code",
   "execution_count": 9,
   "id": "12f5e0bc-32cc-4cb2-a3fd-67578729074e",
   "metadata": {},
   "outputs": [
    {
     "name": "stdout",
     "output_type": "stream",
     "text": [
      "The MINOS and quad MINOS solvers are a courtesy of Prof Michael A. Saunders. Please cite Ma, D., Yang, L., Fleming, R. et al. Reliable and efficient solution of genome-scale models of Metabolism and macromolecular Expression. Sci Rep 7, 40863 (2017). https://doi.org/10.1038/srep40863\n",
      "\n"
     ]
    },
    {
     "data": {
      "text/html": [
       "<strong><em>Optimal</em> solution with objective value 0.488</strong><br><div>\n",
       "<style scoped>\n",
       "    .dataframe tbody tr th:only-of-type {\n",
       "        vertical-align: middle;\n",
       "    }\n",
       "\n",
       "    .dataframe tbody tr th {\n",
       "        vertical-align: top;\n",
       "    }\n",
       "\n",
       "    .dataframe thead th {\n",
       "        text-align: right;\n",
       "    }\n",
       "</style>\n",
       "<table border=\"1\" class=\"dataframe\">\n",
       "  <thead>\n",
       "    <tr style=\"text-align: right;\">\n",
       "      <th></th>\n",
       "      <th>fluxes</th>\n",
       "      <th>reduced_costs</th>\n",
       "    </tr>\n",
       "  </thead>\n",
       "  <tbody>\n",
       "    <tr>\n",
       "      <th>3HAD160</th>\n",
       "      <td>1.740931e-02</td>\n",
       "      <td>0.000000e+00</td>\n",
       "    </tr>\n",
       "    <tr>\n",
       "      <th>13DAMPPabcpp</th>\n",
       "      <td>0.000000e+00</td>\n",
       "      <td>-2.332225e-37</td>\n",
       "    </tr>\n",
       "    <tr>\n",
       "      <th>13DAMPPtex</th>\n",
       "      <td>2.702713e-55</td>\n",
       "      <td>0.000000e+00</td>\n",
       "    </tr>\n",
       "    <tr>\n",
       "      <th>15DAPabcpp</th>\n",
       "      <td>0.000000e+00</td>\n",
       "      <td>-3.008570e-35</td>\n",
       "    </tr>\n",
       "    <tr>\n",
       "      <th>1P2CBXLCYCL</th>\n",
       "      <td>0.000000e+00</td>\n",
       "      <td>1.390941e-35</td>\n",
       "    </tr>\n",
       "    <tr>\n",
       "      <th>...</th>\n",
       "      <td>...</td>\n",
       "      <td>...</td>\n",
       "    </tr>\n",
       "    <tr>\n",
       "      <th>4HTHRS</th>\n",
       "      <td>0.000000e+00</td>\n",
       "      <td>2.512870e-36</td>\n",
       "    </tr>\n",
       "    <tr>\n",
       "      <th>4MBZALDH</th>\n",
       "      <td>0.000000e+00</td>\n",
       "      <td>0.000000e+00</td>\n",
       "    </tr>\n",
       "    <tr>\n",
       "      <th>4MBZDH</th>\n",
       "      <td>0.000000e+00</td>\n",
       "      <td>2.310876e-35</td>\n",
       "    </tr>\n",
       "    <tr>\n",
       "      <th>4MCAT23DOX</th>\n",
       "      <td>0.000000e+00</td>\n",
       "      <td>-1.686704e-35</td>\n",
       "    </tr>\n",
       "    <tr>\n",
       "      <th>4OD</th>\n",
       "      <td>-3.321280e-58</td>\n",
       "      <td>8.660582e-36</td>\n",
       "    </tr>\n",
       "  </tbody>\n",
       "</table>\n",
       "<p>2927 rows × 2 columns</p>\n",
       "</div>"
      ],
      "text/plain": [
       "<Solution 0.488 at 0x71a72ffb9750>"
      ]
     },
     "execution_count": 9,
     "metadata": {},
     "output_type": "execute_result"
    }
   ],
   "source": [
    "optimize(model_)\n",
    "model_.solution"
   ]
  },
  {
   "cell_type": "code",
   "execution_count": 10,
   "id": "1e080f1a-edb1-4dda-a2b5-9bf78f343951",
   "metadata": {},
   "outputs": [
    {
     "name": "stdout",
     "output_type": "stream",
     "text": [
      "Running FVA for 2927 reactions. Maximum growth rate fixed to 0.487738\n"
     ]
    }
   ],
   "source": [
    "m_model_fva = model_.fva(model_.reactions,\n",
    "                      fraction_of_optimum=1.0, objective = \"BIOMASS_KT2440_WT3\")"
   ]
  },
  {
   "cell_type": "code",
   "execution_count": 11,
   "id": "5e753392-b141-4020-99d6-ed21f343efba",
   "metadata": {},
   "outputs": [],
   "source": [
    "m_model_fva.to_csv(\"./datasets/fva/m_model.csv\")"
   ]
  },
  {
   "cell_type": "markdown",
   "id": "f7bcd02f-b4b2-43f0-8845-eb0b74c208ea",
   "metadata": {},
   "source": [
    "### ME"
   ]
  },
  {
   "cell_type": "code",
   "execution_count": 7,
   "id": "8e1b93e2-a44b-43dc-8380-5191b9d05e82",
   "metadata": {},
   "outputs": [
    {
     "name": "stdout",
     "output_type": "stream",
     "text": [
      "Running FVA for 7310 reactions. Maximum growth rate fixed to 0.425932\n"
     ]
    }
   ],
   "source": [
    "me_model_fva = me.fva([r for r in me.reactions if isinstance(r,coralme.core.reaction.MetabolicReaction)],\n",
    "                      fraction_of_optimum=1.0)"
   ]
  },
  {
   "cell_type": "code",
   "execution_count": 8,
   "id": "617a2ebf-6998-499b-9cbe-94db50208632",
   "metadata": {},
   "outputs": [],
   "source": [
    "me_model_fva.to_csv(\"./datasets/fva/me_model.csv\")"
   ]
  },
  {
   "cell_type": "markdown",
   "id": "85099102-52af-46a8-917a-a2ba127cb0eb",
   "metadata": {},
   "source": [
    "### Compare"
   ]
  },
  {
   "cell_type": "code",
   "execution_count": 12,
   "id": "66da65d3-147b-43cd-a698-b68b62e0df17",
   "metadata": {},
   "outputs": [],
   "source": [
    "m_model_fva = pandas.read_csv(\"./datasets/fva/m_model.csv\",index_col=0)\n",
    "me_model_fva = pandas.read_csv(\"./datasets/fva/me_model.csv\",index_col=0)"
   ]
  },
  {
   "cell_type": "code",
   "execution_count": 19,
   "id": "df258c58-0889-4d38-a661-56f1ab647812",
   "metadata": {},
   "outputs": [],
   "source": [
    "def get_deltas(df):\n",
    "    tmp = (df[\"maximum\"] - df[\"minimum\"]).abs()\n",
    "    tmp = tmp[tmp>1e-30]\n",
    "    return numpy.log10(tmp)"
   ]
  },
  {
   "cell_type": "code",
   "execution_count": 20,
   "id": "1b2c5c8c-fd92-4b3c-839e-5526dc3142cd",
   "metadata": {},
   "outputs": [
    {
     "data": {
      "image/png": "[encoded data removed]",
      "text/plain": [
       "<Figure size 800x500 with 1 Axes>"
      ]
     },
     "metadata": {},
     "output_type": "display_data"
    }
   ],
   "source": [
    "import numpy as np\n",
    "import matplotlib.pyplot as plt\n",
    "import seaborn as sns\n",
    "\n",
    "# Generate example data\n",
    "data1 = get_deltas(me_model_fva).values\n",
    "data2 = get_deltas(m_model_fva).values\n",
    "\n",
    "# Create density plot\n",
    "plt.figure(figsize=(8, 5))\n",
    "sns.kdeplot(data1, label='iPpu1676-ME', fill=True, alpha=0.2)\n",
    "sns.kdeplot(data2, label='iJN1462', fill=True, alpha=0.2)\n",
    "plt.hist(data1, bins=75, density=True, alpha=0.5)\n",
    "plt.hist(data2, bins=75, density=True, alpha=0.5)\n",
    "plt.xlim(-30,10)\n",
    "# plt.vlines(x=-16,ymin=0.,ymax=0.35,linestyles=\"--\",color=\"gray\")\n",
    "\n",
    "plt.xlabel(\"FVA range, log10\")\n",
    "plt.ylabel(\"Density\")\n",
    "plt.legend()\n",
    "plt.savefig(\"./figures/FVA-MvsME.svg\",format=\"SVG\")"
   ]
  }
 ],
 "metadata": {
  "kernelspec": {
   "display_name": "coralme-1.1.5",
   "language": "python",
   "name": "coralme-1.1.5"
  },
  "language_info": {
   "codemirror_mode": {
    "name": "ipython",
    "version": 3
   },
   "file_extension": ".py",
   "mimetype": "text/x-python",
   "name": "python",
   "nbconvert_exporter": "python",
   "pygments_lexer": "ipython3",
   "version": "3.10.12"
  }
 },
 "nbformat": 4,
 "nbformat_minor": 5
}
