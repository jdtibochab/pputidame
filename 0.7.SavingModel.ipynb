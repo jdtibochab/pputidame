{
 "cells": [
  {
   "cell_type": "markdown",
   "id": "6763882d-fe9e-4a17-b2ed-02e99e2beea4",
   "metadata": {},
   "source": [
    "# Saving model"
   ]
  },
  {
   "cell_type": "code",
   "execution_count": 1,
   "id": "55a3a551-34a9-4db1-b93b-bc02703dc54b",
   "metadata": {},
   "outputs": [],
   "source": [
    "import coralme"
   ]
  },
  {
   "cell_type": "code",
   "execution_count": 2,
   "id": "4fa12f5f-1b91-40e0-9149-b428273653a9",
   "metadata": {},
   "outputs": [],
   "source": [
    "model = coralme.io.pickle.load_pickle_me_model(\"./pputidame/MEModel-step3-pputida-Keff.pkl\")"
   ]
  },
  {
   "cell_type": "code",
   "execution_count": 4,
   "id": "0ad30488-45a5-424e-ac62-72f01e40c7df",
   "metadata": {},
   "outputs": [
    {
     "name": "stderr",
     "output_type": "stream",
     "text": [
      "2024-12-04 10:30:23,285 Metabolite 'lipoyl_c' does not have a formula. If it is a 'Complex', its formula will be determined from amino acid composition and prosthetic groups stoichiometry. Otherwise, please add it to the M-model.\n",
      "2024-12-04 10:30:23,286 Metabolite 'lipoyl_c' does not have a formula. If it is a 'Complex', its formula will be determined from amino acid composition and prosthetic groups stoichiometry. Otherwise, please add it to the M-model.\n",
      "2024-12-04 10:30:23,286 Metabolite 'hemed_c' does not have a formula. If it is a 'Complex', its formula will be determined from amino acid composition and prosthetic groups stoichiometry. Otherwise, please add it to the M-model.\n",
      "2024-12-04 10:30:23,286 Metabolite 'hemed_c' does not have a formula. If it is a 'Complex', its formula will be determined from amino acid composition and prosthetic groups stoichiometry. Otherwise, please add it to the M-model.\n",
      "2024-12-04 10:30:23,287 Metabolite 'dpm_c' does not have a formula. If it is a 'Complex', its formula will be determined from amino acid composition and prosthetic groups stoichiometry. Otherwise, please add it to the M-model.\n",
      "2024-12-04 10:30:23,287 Metabolite 'dpm_c' does not have a formula. If it is a 'Complex', its formula will be determined from amino acid composition and prosthetic groups stoichiometry. Otherwise, please add it to the M-model.\n",
      "2024-12-04 10:30:23,288 Metabolite 'tl_c' does not have a formula. If it is a 'Complex', its formula will be determined from amino acid composition and prosthetic groups stoichiometry. Otherwise, please add it to the M-model.\n",
      "2024-12-04 10:30:23,288 Metabolite 'tl_c' does not have a formula. If it is a 'Complex', its formula will be determined from amino acid composition and prosthetic groups stoichiometry. Otherwise, please add it to the M-model.\n",
      "2024-12-04 10:30:23,288 Metabolite 'cs_c' does not have a formula. If it is a 'Complex', its formula will be determined from amino acid composition and prosthetic groups stoichiometry. Otherwise, please add it to the M-model.\n",
      "2024-12-04 10:30:23,288 Metabolite 'cs_c' does not have a formula. If it is a 'Complex', its formula will be determined from amino acid composition and prosthetic groups stoichiometry. Otherwise, please add it to the M-model.\n",
      "2024-12-04 10:30:23,289 Metabolite 'coo_c' does not have a formula. If it is a 'Complex', its formula will be determined from amino acid composition and prosthetic groups stoichiometry. Otherwise, please add it to the M-model.\n",
      "2024-12-04 10:30:23,289 Metabolite 'coo_c' does not have a formula. If it is a 'Complex', its formula will be determined from amino acid composition and prosthetic groups stoichiometry. Otherwise, please add it to the M-model.\n",
      "2024-12-04 10:30:23,290 Metabolite 'cosh_c' does not have a formula. If it is a 'Complex', its formula will be determined from amino acid composition and prosthetic groups stoichiometry. Otherwise, please add it to the M-model.\n",
      "2024-12-04 10:30:23,290 Metabolite 'cosh_c' does not have a formula. If it is a 'Complex', its formula will be determined from amino acid composition and prosthetic groups stoichiometry. Otherwise, please add it to the M-model.\n",
      "2024-12-04 10:30:23,290 The metabolite 'li_c' must exist in the ME-model to calculate the element contribution.\n",
      "2024-12-04 10:30:23,290 The metabolite 'li_c' must exist in the ME-model to calculate the element contribution.\n"
     ]
    }
   ],
   "source": [
    "coralme.io.json.save_json_me_model(model,\"./model/iPpu1676-ME.json\")"
   ]
  },
  {
   "cell_type": "code",
   "execution_count": 5,
   "id": "a4b64b9b-542a-423c-958d-534907bac663",
   "metadata": {},
   "outputs": [],
   "source": [
    "coralme.io.pickle.save_pickle_me_model(model,\"./model/iPpu1676-ME.pkl\")"
   ]
  }
 ],
 "metadata": {
  "kernelspec": {
   "display_name": "coralme-1.1.5",
   "language": "python",
   "name": "coralme-1.1.5"
  },
  "language_info": {
   "codemirror_mode": {
    "name": "ipython",
    "version": 3
   },
   "file_extension": ".py",
   "mimetype": "text/x-python",
   "name": "python",
   "nbconvert_exporter": "python",
   "pygments_lexer": "ipython3",
   "version": "3.10.12"
  }
 },
 "nbformat": 4,
 "nbformat_minor": 5
}
