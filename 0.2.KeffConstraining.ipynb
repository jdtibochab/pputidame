{
 "cells": [
  {
   "cell_type": "markdown",
   "id": "79083df2-7d0a-4185-8587-e38d326c9e4d",
   "metadata": {},
   "source": [
    "# Constrain Keff for maximum growth rate"
   ]
  },
  {
   "cell_type": "code",
   "execution_count": 1,
   "id": "55a3a551-34a9-4db1-b93b-bc02703dc54b",
   "metadata": {},
   "outputs": [],
   "source": [
    "import pandas\n",
    "import numpy\n",
    "from Bio import SeqIO\n",
    "import re\n",
    "import coralme\n",
    "pandas.set_option('display.max_colwidth', None)\n",
    "%load_ext autoreload\n",
    "%autoreload 2"
   ]
  },
  {
   "cell_type": "markdown",
   "id": "722eed4c-15d5-4f25-963d-aef1027a9725",
   "metadata": {},
   "source": [
    "## Naive model"
   ]
  },
  {
   "cell_type": "code",
   "execution_count": 2,
   "id": "4fa12f5f-1b91-40e0-9149-b428273653a9",
   "metadata": {},
   "outputs": [],
   "source": [
    "model = coralme.io.pickle.load_pickle_me_model(\"./pputidame/MEModel-step3-pputida-TS.pkl\")"
   ]
  },
  {
   "cell_type": "markdown",
   "id": "09612d5b-ef0b-41d4-a243-33aa49cad7e7",
   "metadata": {},
   "source": [
    "### M9"
   ]
  },
  {
   "cell_type": "code",
   "execution_count": 3,
   "id": "c5d1f87b-2f2d-43e1-9aa3-363a4bac87c2",
   "metadata": {},
   "outputs": [],
   "source": [
    "medium = pandas.read_csv(\"./media/M9.txt\",index_col=\"ID\",comment=\"#\")[\"Bound\"]\n",
    "def enforce_medium(model,medium):\n",
    "    for r in model.reactions.query(\"^EX_\"):\n",
    "        r.lower_bound = 0\n",
    "    for r,lb in medium.items():\n",
    "        model.reactions.get_by_id(r).lower_bound = lb\n",
    "enforce_medium(model,medium)\n",
    "assert model.feasibility() == True"
   ]
  },
  {
   "cell_type": "code",
   "execution_count": 4,
   "id": "89d47966-d0df-4e9d-8cfd-eebdbb28638e",
   "metadata": {},
   "outputs": [],
   "source": [
    "model.reactions.get_by_id(\"EX_glc__D_e\").lower_bound = -1000"
   ]
  },
  {
   "cell_type": "code",
   "execution_count": 5,
   "id": "6203ad89-d71a-4959-a660-9eb1d33c3b8b",
   "metadata": {},
   "outputs": [
    {
     "name": "stdout",
     "output_type": "stream",
     "text": [
      "Iteration\t Solution to check\tSolver Status\n",
      "---------\t------------------\t-------------\n",
      "        1\t0.5000000000000000\tOptimal\n",
      "        2\t0.7500000000000000\tNot feasible\n",
      "        3\t0.6250000000000000\tOptimal\n",
      "        4\t0.6875000000000000\tNot feasible\n",
      "        5\t0.6562500000000000\tNot feasible\n",
      "        6\t0.6406250000000000\tNot feasible\n",
      "        7\t0.6328125000000000\tOptimal\n",
      "        8\t0.6367187500000000\tNot feasible\n",
      "        9\t0.6347656250000000\tOptimal\n",
      "       10\t0.6357421875000000\tNot feasible\n",
      "       11\t0.6352539062500000\tNot feasible\n",
      "       12\t0.6350097656250000\tNot feasible\n",
      "       13\t0.6348876953125000\tOptimal\n",
      "       14\t0.6349487304687500\tNot feasible\n",
      "       15\t0.6349182128906250\tNot feasible\n",
      "       16\t0.6349029541015625\tNot feasible\n",
      "       17\t0.6348953247070312\tNot feasible\n",
      "       18\t0.6348915100097656\tNot feasible\n",
      "       19\t0.6348896026611328\tNot feasible\n",
      "       20\t0.6348886489868164\tOptimal\n"
     ]
    },
    {
     "data": {
      "text/plain": [
       "True"
      ]
     },
     "execution_count": 5,
     "metadata": {},
     "output_type": "execute_result"
    }
   ],
   "source": [
    "model.optimize(max_mu=1.0)"
   ]
  },
  {
   "cell_type": "code",
   "execution_count": 6,
   "id": "26b889c4-b3b6-4564-b286-4219bf665a8b",
   "metadata": {},
   "outputs": [
    {
     "data": {
      "text/html": [
       "\n",
       "\t\t<table>\n",
       "\t\t\t<tr>\n",
       "\t\t\t\t<td><strong>Name</strong></td>\n",
       "\t\t\t\t<td>pputida</td>\n",
       "\t\t\t</tr><tr>\n",
       "\t\t\t\t<td><strong>Memory address</strong></td>\n",
       "\t\t\t\t<td>7a989c070310</td>\n",
       "\t\t\t</tr><tr>\n",
       "\t\t\t\t<td><strong>Number of metabolites</strong></td>\n",
       "\t\t\t\t<td>7528</td>\n",
       "\t\t\t</tr><tr>\n",
       "\t\t\t\t<td><strong>Number of reactions</strong></td>\n",
       "\t\t\t\t<td>14418</td>\n",
       "\t\t\t</tr><tr>\n",
       "\t\t\t\t<td><strong>Number of genes</strong></td>\n",
       "\t\t\t\t<td>1677</td>\n",
       "\t\t\t</tr><tr>\n",
       "\t\t\t\t<td><strong>Number of mRNA genes</strong></td>\n",
       "\t\t\t\t<td>1580</td>\n",
       "\t\t\t</tr><tr>\n",
       "\t\t\t\t<td><strong>Number of rRNA genes</strong></td>\n",
       "\t\t\t\t<td>22</td>\n",
       "\t\t\t</tr><tr>\n",
       "\t\t\t\t<td><strong>Number of tRNA genes</strong></td>\n",
       "\t\t\t\t<td>75</td>\n",
       "\t\t\t</tr><tr>\n",
       "\t\t\t\t<td><strong>Objective expression</strong></td>\n",
       "\t\t\t\t<td>dummy_reaction_FWD_SPONT</td>\n",
       "\t\t\t</tr><tr>\n",
       "\t\t\t\t<td><strong>Compartments</strong></td>\n",
       "\t\t\t\t<td>ME-model Constraint, Cytoplasm, Extracellular, Periplasm, im, m, om</td>\n",
       "\t\t\t</tr>\n",
       "\t\t\t</table>"
      ],
      "text/plain": [
       "<MEModel pputida at 0x7a989c070310>"
      ]
     },
     "execution_count": 6,
     "metadata": {},
     "output_type": "execute_result"
    }
   ],
   "source": [
    "model"
   ]
  },
  {
   "cell_type": "code",
   "execution_count": 7,
   "id": "04d46e62-3620-45bd-92ca-bb1e06e3f68b",
   "metadata": {},
   "outputs": [
    {
     "data": {
      "text/html": [
       "<div>\n",
       "<style scoped>\n",
       "    .dataframe tbody tr th:only-of-type {\n",
       "        vertical-align: middle;\n",
       "    }\n",
       "\n",
       "    .dataframe tbody tr th {\n",
       "        vertical-align: top;\n",
       "    }\n",
       "\n",
       "    .dataframe thead th {\n",
       "        text-align: right;\n",
       "    }\n",
       "</style>\n",
       "<table border=\"1\" class=\"dataframe\">\n",
       "  <thead>\n",
       "    <tr style=\"text-align: right;\">\n",
       "      <th></th>\n",
       "      <th>name</th>\n",
       "      <th>reaction</th>\n",
       "      <th>lower_bound</th>\n",
       "      <th>upper_bound</th>\n",
       "      <th>flux</th>\n",
       "    </tr>\n",
       "    <tr>\n",
       "      <th>id</th>\n",
       "      <th></th>\n",
       "      <th></th>\n",
       "      <th></th>\n",
       "      <th></th>\n",
       "      <th></th>\n",
       "    </tr>\n",
       "  </thead>\n",
       "  <tbody>\n",
       "    <tr>\n",
       "      <th>EX_h2o_e</th>\n",
       "      <td></td>\n",
       "      <td>1.0 h2o_e &lt;=&gt;</td>\n",
       "      <td>-100</td>\n",
       "      <td>999999.0</td>\n",
       "      <td>4.195111e+01</td>\n",
       "    </tr>\n",
       "    <tr>\n",
       "      <th>EX_co2_e</th>\n",
       "      <td></td>\n",
       "      <td>1.0 co2_e --&gt;</td>\n",
       "      <td>0</td>\n",
       "      <td>999999.0</td>\n",
       "      <td>2.471629e+01</td>\n",
       "    </tr>\n",
       "    <tr>\n",
       "      <th>EX_h_e</th>\n",
       "      <td></td>\n",
       "      <td>1.0 h_e &lt;=&gt;</td>\n",
       "      <td>-100</td>\n",
       "      <td>999999.0</td>\n",
       "      <td>6.349591e+00</td>\n",
       "    </tr>\n",
       "    <tr>\n",
       "      <th>biomass_dilution</th>\n",
       "      <td></td>\n",
       "      <td>1.0 biomass --&gt;</td>\n",
       "      <td>mu</td>\n",
       "      <td>mu</td>\n",
       "      <td>6.348886e-01</td>\n",
       "    </tr>\n",
       "    <tr>\n",
       "      <th>EX_ac_e</th>\n",
       "      <td></td>\n",
       "      <td>1.0 ac_e --&gt;</td>\n",
       "      <td>0</td>\n",
       "      <td>999999.0</td>\n",
       "      <td>3.904307e-01</td>\n",
       "    </tr>\n",
       "    <tr>\n",
       "      <th>DM_5drib_c</th>\n",
       "      <td></td>\n",
       "      <td>1.0 5drib_c --&gt;</td>\n",
       "      <td>0.0</td>\n",
       "      <td>999999.0</td>\n",
       "      <td>4.309287e-04</td>\n",
       "    </tr>\n",
       "    <tr>\n",
       "      <th>DM_tripeptide_c</th>\n",
       "      <td></td>\n",
       "      <td>1.0 tripeptide_c --&gt;</td>\n",
       "      <td>0.0</td>\n",
       "      <td>999999.0</td>\n",
       "      <td>1.858929e-04</td>\n",
       "    </tr>\n",
       "    <tr>\n",
       "      <th>DM_amob_c</th>\n",
       "      <td></td>\n",
       "      <td>1.0 amob_c --&gt;</td>\n",
       "      <td>0.0</td>\n",
       "      <td>999999.0</td>\n",
       "      <td>1.477683e-04</td>\n",
       "    </tr>\n",
       "    <tr>\n",
       "      <th>DM_doxopa_c</th>\n",
       "      <td></td>\n",
       "      <td>1.0 doxopa_c --&gt;</td>\n",
       "      <td>0.0</td>\n",
       "      <td>999999.0</td>\n",
       "      <td>1.415802e-04</td>\n",
       "    </tr>\n",
       "    <tr>\n",
       "      <th>EX_5mtr_e</th>\n",
       "      <td></td>\n",
       "      <td>1.0 5mtr_e --&gt;</td>\n",
       "      <td>0</td>\n",
       "      <td>1000.0</td>\n",
       "      <td>6.479183e-05</td>\n",
       "    </tr>\n",
       "    <tr>\n",
       "      <th>DM_RNA_PP_t35</th>\n",
       "      <td></td>\n",
       "      <td>1.0 RNA_PP_t35 + 24.647971757 tRNA_biomass --&gt;</td>\n",
       "      <td>0.0</td>\n",
       "      <td>1000.0</td>\n",
       "      <td>2.730595e-05</td>\n",
       "    </tr>\n",
       "    <tr>\n",
       "      <th>DM_RNA_PP_t24</th>\n",
       "      <td></td>\n",
       "      <td>1.0 RNA_PP_t24 + 24.378898755999998 tRNA_biomass --&gt;</td>\n",
       "      <td>0.0</td>\n",
       "      <td>1000.0</td>\n",
       "      <td>1.365400e-05</td>\n",
       "    </tr>\n",
       "    <tr>\n",
       "      <th>DM_RNA_PP_0440</th>\n",
       "      <td></td>\n",
       "      <td>1.0 RNA_PP_0440 + 383.46967079399997 mRNA_biomass --&gt;</td>\n",
       "      <td>0.0</td>\n",
       "      <td>1000.0</td>\n",
       "      <td>1.173376e-05</td>\n",
       "    </tr>\n",
       "    <tr>\n",
       "      <th>DM_RNA_PP_t04</th>\n",
       "      <td></td>\n",
       "      <td>1.0 RNA_PP_t04 + 24.381853035999995 tRNA_biomass --&gt;</td>\n",
       "      <td>0.0</td>\n",
       "      <td>1000.0</td>\n",
       "      <td>6.334032e-06</td>\n",
       "    </tr>\n",
       "    <tr>\n",
       "      <th>DM_RNA_PP_0816</th>\n",
       "      <td></td>\n",
       "      <td>1.0 RNA_PP_0816 + 285.991429988 mRNA_biomass --&gt;</td>\n",
       "      <td>0.0</td>\n",
       "      <td>1000.0</td>\n",
       "      <td>2.378056e-06</td>\n",
       "    </tr>\n",
       "    <tr>\n",
       "      <th>DM_RNA_PP_5054</th>\n",
       "      <td></td>\n",
       "      <td>1.0 RNA_PP_5054 + 81.808395755 mRNA_biomass --&gt;</td>\n",
       "      <td>0.0</td>\n",
       "      <td>1000.0</td>\n",
       "      <td>1.989599e-06</td>\n",
       "    </tr>\n",
       "    <tr>\n",
       "      <th>DM_RNA_PP_t10</th>\n",
       "      <td></td>\n",
       "      <td>1.0 RNA_PP_t10 + 24.731070257000002 tRNA_biomass --&gt;</td>\n",
       "      <td>0.0</td>\n",
       "      <td>1000.0</td>\n",
       "      <td>1.596394e-06</td>\n",
       "    </tr>\n",
       "    <tr>\n",
       "      <th>DM_RNA_PP_4042</th>\n",
       "      <td></td>\n",
       "      <td>1.0 RNA_PP_4042 + 483.520333246 mRNA_biomass --&gt;</td>\n",
       "      <td>0.0</td>\n",
       "      <td>1000.0</td>\n",
       "      <td>1.506374e-06</td>\n",
       "    </tr>\n",
       "    <tr>\n",
       "      <th>DM_RNA_PP_t21</th>\n",
       "      <td></td>\n",
       "      <td>1.0 RNA_PP_t21 + 24.378898755999998 tRNA_biomass --&gt;</td>\n",
       "      <td>0.0</td>\n",
       "      <td>1000.0</td>\n",
       "      <td>8.062742e-07</td>\n",
       "    </tr>\n",
       "    <tr>\n",
       "      <th>DM_RNA_PP_0452</th>\n",
       "      <td></td>\n",
       "      <td>1.0 RNA_PP_0452 + 383.642761114 mRNA_biomass --&gt;</td>\n",
       "      <td>0.0</td>\n",
       "      <td>1000.0</td>\n",
       "      <td>5.781067e-07</td>\n",
       "    </tr>\n",
       "  </tbody>\n",
       "</table>\n",
       "</div>"
      ],
      "text/plain": [
       "                 name                                                reaction  \\\n",
       "id                                                                              \n",
       "EX_h2o_e                                                       1.0 h2o_e <=>    \n",
       "EX_co2_e                                                       1.0 co2_e -->    \n",
       "EX_h_e                                                           1.0 h_e <=>    \n",
       "biomass_dilution                                             1.0 biomass -->    \n",
       "EX_ac_e                                                         1.0 ac_e -->    \n",
       "DM_5drib_c                                                   1.0 5drib_c -->    \n",
       "DM_tripeptide_c                                         1.0 tripeptide_c -->    \n",
       "DM_amob_c                                                     1.0 amob_c -->    \n",
       "DM_doxopa_c                                                 1.0 doxopa_c -->    \n",
       "EX_5mtr_e                                                     1.0 5mtr_e -->    \n",
       "DM_RNA_PP_t35                 1.0 RNA_PP_t35 + 24.647971757 tRNA_biomass -->    \n",
       "DM_RNA_PP_t24           1.0 RNA_PP_t24 + 24.378898755999998 tRNA_biomass -->    \n",
       "DM_RNA_PP_0440         1.0 RNA_PP_0440 + 383.46967079399997 mRNA_biomass -->    \n",
       "DM_RNA_PP_t04           1.0 RNA_PP_t04 + 24.381853035999995 tRNA_biomass -->    \n",
       "DM_RNA_PP_0816              1.0 RNA_PP_0816 + 285.991429988 mRNA_biomass -->    \n",
       "DM_RNA_PP_5054               1.0 RNA_PP_5054 + 81.808395755 mRNA_biomass -->    \n",
       "DM_RNA_PP_t10           1.0 RNA_PP_t10 + 24.731070257000002 tRNA_biomass -->    \n",
       "DM_RNA_PP_4042              1.0 RNA_PP_4042 + 483.520333246 mRNA_biomass -->    \n",
       "DM_RNA_PP_t21           1.0 RNA_PP_t21 + 24.378898755999998 tRNA_biomass -->    \n",
       "DM_RNA_PP_0452              1.0 RNA_PP_0452 + 383.642761114 mRNA_biomass -->    \n",
       "\n",
       "                 lower_bound upper_bound          flux  \n",
       "id                                                      \n",
       "EX_h2o_e                -100    999999.0  4.195111e+01  \n",
       "EX_co2_e                   0    999999.0  2.471629e+01  \n",
       "EX_h_e                  -100    999999.0  6.349591e+00  \n",
       "biomass_dilution          mu          mu  6.348886e-01  \n",
       "EX_ac_e                    0    999999.0  3.904307e-01  \n",
       "DM_5drib_c               0.0    999999.0  4.309287e-04  \n",
       "DM_tripeptide_c          0.0    999999.0  1.858929e-04  \n",
       "DM_amob_c                0.0    999999.0  1.477683e-04  \n",
       "DM_doxopa_c              0.0    999999.0  1.415802e-04  \n",
       "EX_5mtr_e                  0      1000.0  6.479183e-05  \n",
       "DM_RNA_PP_t35            0.0      1000.0  2.730595e-05  \n",
       "DM_RNA_PP_t24            0.0      1000.0  1.365400e-05  \n",
       "DM_RNA_PP_0440           0.0      1000.0  1.173376e-05  \n",
       "DM_RNA_PP_t04            0.0      1000.0  6.334032e-06  \n",
       "DM_RNA_PP_0816           0.0      1000.0  2.378056e-06  \n",
       "DM_RNA_PP_5054           0.0      1000.0  1.989599e-06  \n",
       "DM_RNA_PP_t10            0.0      1000.0  1.596394e-06  \n",
       "DM_RNA_PP_4042           0.0      1000.0  1.506374e-06  \n",
       "DM_RNA_PP_t21            0.0      1000.0  8.062742e-07  \n",
       "DM_RNA_PP_0452           0.0      1000.0  5.781067e-07  "
      ]
     },
     "execution_count": 7,
     "metadata": {},
     "output_type": "execute_result"
    }
   ],
   "source": [
    "from coralme.util.flux_analysis import exchange_single_model,flux_based_reactions\n",
    "exchange_single_model(model).sort_values(\"flux\",ascending=False).head(20)"
   ]
  },
  {
   "cell_type": "markdown",
   "id": "9e923b26-06e8-40cb-9662-963d30818858",
   "metadata": {},
   "source": [
    "## Keff sweep"
   ]
  },
  {
   "cell_type": "code",
   "execution_count": 8,
   "id": "e7b56692-1c4d-4ecc-b4bf-bb8f1f9b8409",
   "metadata": {},
   "outputs": [],
   "source": [
    "def set_keff(model,keff):\n",
    "    for r in model.reactions:\n",
    "        if not isinstance(r,coralme.core.reaction.MetabolicReaction):\n",
    "            continue\n",
    "        r.keff = keff\n",
    "        r.update()"
   ]
  },
  {
   "cell_type": "code",
   "execution_count": null,
   "id": "62d54ff1-ee01-4017-a0ba-40054f3db799",
   "metadata": {
    "scrolled": true
   },
   "outputs": [
    {
     "name": "stdout",
     "output_type": "stream",
     "text": [
      "15\n",
      "Iteration\t Solution to check\tSolver Status\n",
      "---------\t------------------\t-------------\n",
      "        1\t0.5000000000000000\tNot feasible\n",
      "        2\t0.2500000000000000\tOptimal\n",
      "        3\t0.3750000000000000\tNot feasible\n",
      "        4\t0.3125000000000000\tNot feasible\n",
      "        5\t0.2812500000000000\tOptimal\n",
      "        6\t0.2968750000000000\tOptimal\n",
      "        7\t0.3046875000000000\tOptimal\n",
      "        8\t0.3085937500000000\tOptimal\n",
      "        9\t0.3105468750000000\tOptimal\n",
      "       10\t0.3115234375000000\tNot feasible\n",
      "       11\t0.3110351562500000\tNot feasible\n",
      "       12\t0.3107910156250000\tNot feasible\n",
      "       13\t0.3106689453125000\tNot feasible\n",
      "       14\t0.3106079101562500\tNot feasible\n",
      "       15\t0.3105773925781250\tNot feasible\n",
      "       16\t0.3105621337890625\tNot feasible\n",
      "       17\t0.3105545043945312\tOptimal\n",
      "       18\t0.3105583190917969\tNot feasible\n",
      "       19\t0.3105564117431641\tOptimal\n",
      "       20\t0.3105573654174805\tOptimal\n",
      "20\n",
      "Iteration\t Solution to check\tSolver Status\n",
      "---------\t------------------\t-------------\n",
      "        1\t0.5000000000000000\tNot feasible\n"
     ]
    }
   ],
   "source": [
    "GrowthRates = {}\n",
    "for keff in range(15,40,5):\n",
    "    print(keff)\n",
    "    set_keff(model,keff)\n",
    "    model.optimize(max_mu=1.0)\n",
    "    GrowthRates[keff] = model.solution.fluxes[\"biomass_dilution\"]\n",
    "GrowthRates = pandas.Series(GrowthRates)"
   ]
  },
  {
   "cell_type": "code",
   "execution_count": null,
   "id": "72eab08b-f850-4ecc-a6b6-0ff5d2d6cb54",
   "metadata": {},
   "outputs": [],
   "source": [
    "GrowthRates.to_csv(\"./datasets/growth-rates-per-keff.csv\")"
   ]
  },
  {
   "cell_type": "code",
   "execution_count": null,
   "id": "c6388efb-bddb-4ad3-b49e-5c1965c37bf6",
   "metadata": {},
   "outputs": [],
   "source": [
    "m = (GrowthRates[35]-GrowthRates[30])/(35-30) \n",
    "b = GrowthRates[30] - m*30\n",
    "Keff = (0.576-b)/m"
   ]
  },
  {
   "cell_type": "code",
   "execution_count": null,
   "id": "a73219bc-e4e1-4739-8481-653fabcf9881",
   "metadata": {},
   "outputs": [],
   "source": [
    "Keff"
   ]
  },
  {
   "cell_type": "code",
   "execution_count": null,
   "id": "f261cd4d-f437-47d4-8b30-5d4ab9e24a35",
   "metadata": {},
   "outputs": [],
   "source": [
    "set_keff(model,31)\n",
    "coralme.io.pickle.save_pickle_me_model(model,\"./pputidame/MEModel-step3-pputida-Keff.pkl\")"
   ]
  }
 ],
 "metadata": {
  "kernelspec": {
   "display_name": "coralme-1.1.5",
   "language": "python",
   "name": "coralme-1.1.5"
  },
  "language_info": {
   "codemirror_mode": {
    "name": "ipython",
    "version": 3
   },
   "file_extension": ".py",
   "mimetype": "text/x-python",
   "name": "python",
   "nbconvert_exporter": "python",
   "pygments_lexer": "ipython3",
   "version": "3.10.12"
  }
 },
 "nbformat": 4,
 "nbformat_minor": 5
}
