{
 "cells": [
  {
   "cell_type": "markdown",
   "id": "a4b1202f-9c96-4e76-b364-b4f7f5928cc1",
   "metadata": {},
   "source": [
    "# Correlation CPM vs. M-model Fluxes"
   ]
  },
  {
   "cell_type": "code",
   "execution_count": 1,
   "id": "2d291db0-0b8f-4e58-9af2-280fb85dd583",
   "metadata": {},
   "outputs": [],
   "source": [
    "import pandas\n",
    "import numpy\n",
    "import matplotlib.pyplot as plt\n",
    "from Bio import SeqIO\n",
    "import re\n",
    "import coralme\n",
    "plt.rcParams['svg.fonttype'] = 'none'\n",
    "pandas.set_option('display.max_colwidth', None)\n",
    "%load_ext autoreload\n",
    "%autoreload 2"
   ]
  },
  {
   "cell_type": "code",
   "execution_count": 2,
   "id": "b99faf0e-e92b-477e-8ef8-84d54bc9b441",
   "metadata": {},
   "outputs": [
    {
     "name": "stdout",
     "output_type": "stream",
     "text": [
      "Set parameter Username\n",
      "Academic license - for non-commercial use only - expires 2025-09-03\n"
     ]
    }
   ],
   "source": [
    "import cobra\n",
    "gem = cobra.io.load_json_model(\"./pputidame/inputs/m_model.json\")"
   ]
  },
  {
   "cell_type": "markdown",
   "id": "3d46f31b-bfdd-4e0e-964a-a1094eaceda2",
   "metadata": {},
   "source": [
    "### Load predictions"
   ]
  },
  {
   "cell_type": "code",
   "execution_count": 3,
   "id": "46f6916f-aa1c-4b7f-b585-ba6864a84521",
   "metadata": {},
   "outputs": [],
   "source": [
    "fluxes = pandas.read_csv(\"./predictions/KT2440-MMODEL-M9.csv\",index_col=0)"
   ]
  },
  {
   "cell_type": "code",
   "execution_count": 4,
   "id": "aabcb8a6-c583-463a-a9d3-29a15e80ce5e",
   "metadata": {},
   "outputs": [],
   "source": [
    "pred = pandas.Series({r.subsystem:0 for r in gem.reactions})\n",
    "for r in gem.reactions:\n",
    "    pred[r.subsystem] += fluxes[\"fluxes\"].abs()[r.id]\n",
    "pred.name = \"predicted\""
   ]
  },
  {
   "cell_type": "markdown",
   "id": "8edd775d-fc1f-4f2a-b379-1207631c4888",
   "metadata": {},
   "source": [
    "### Load omics data"
   ]
  },
  {
   "cell_type": "code",
   "execution_count": 5,
   "id": "d31e8427-3ac6-4fde-bae4-01c2c4e298e0",
   "metadata": {},
   "outputs": [],
   "source": [
    "rna = pandas.read_csv(\"./datasets/omics/RNA-counts.csv\",sep=',',index_col=0)[[\"PPutida_1\",\"PPutida_2\",\"PPutida_4\"]]"
   ]
  },
  {
   "cell_type": "code",
   "execution_count": 6,
   "id": "fd268cdb-f93f-46e1-91f7-4476782db250",
   "metadata": {},
   "outputs": [],
   "source": [
    "ribo = pandas.read_csv(\"./datasets/omics/RS-counts.csv\",sep=',',index_col=0)[[\"PPutida_1\",\"PPutida_2\",\"PPutida_4\"]]"
   ]
  },
  {
   "cell_type": "code",
   "execution_count": 7,
   "id": "7f5e1c16-20ec-4bb6-afbd-457afb6a9517",
   "metadata": {},
   "outputs": [],
   "source": [
    "samples = rna.columns.to_list()\n",
    "rna_samples = [i + \"_rna\" for i in samples]\n",
    "colors = [\"#2b83ba\",\"#66bd63\",\"#fdae61\"]"
   ]
  },
  {
   "cell_type": "markdown",
   "id": "6eb3603d-ab80-4df5-bf59-7637484da400",
   "metadata": {},
   "source": [
    "### Load Annotation"
   ]
  },
  {
   "cell_type": "code",
   "execution_count": 8,
   "id": "213c0c2f-a9d2-48da-a88d-9d81e57edb94",
   "metadata": {},
   "outputs": [],
   "source": [
    "Annotation = pandas.read_csv(\"./GeneAnnotation.csv\",index_col=0)"
   ]
  },
  {
   "cell_type": "code",
   "execution_count": 9,
   "id": "392da208-b263-4c73-babf-bc256439e868",
   "metadata": {},
   "outputs": [
    {
     "data": {
      "text/html": [
       "<div>\n",
       "<style scoped>\n",
       "    .dataframe tbody tr th:only-of-type {\n",
       "        vertical-align: middle;\n",
       "    }\n",
       "\n",
       "    .dataframe tbody tr th {\n",
       "        vertical-align: top;\n",
       "    }\n",
       "\n",
       "    .dataframe thead th {\n",
       "        text-align: right;\n",
       "    }\n",
       "</style>\n",
       "<table border=\"1\" class=\"dataframe\">\n",
       "  <thead>\n",
       "    <tr style=\"text-align: right;\">\n",
       "      <th></th>\n",
       "      <th>locus_tag</th>\n",
       "      <th>name</th>\n",
       "      <th>description</th>\n",
       "      <th>type</th>\n",
       "      <th>length</th>\n",
       "      <th>subsystem</th>\n",
       "    </tr>\n",
       "  </thead>\n",
       "  <tbody>\n",
       "    <tr>\n",
       "      <th>PP_0001</th>\n",
       "      <td>PP_RS00005</td>\n",
       "      <td>NaN</td>\n",
       "      <td>ParB/RepB/Spo0J family partition protein</td>\n",
       "      <td>CDS</td>\n",
       "      <td>873.0</td>\n",
       "      <td>NaN</td>\n",
       "    </tr>\n",
       "    <tr>\n",
       "      <th>PP_0002</th>\n",
       "      <td>PP_RS00010</td>\n",
       "      <td>NaN</td>\n",
       "      <td>ParA family protein</td>\n",
       "      <td>CDS</td>\n",
       "      <td>792.0</td>\n",
       "      <td>NaN</td>\n",
       "    </tr>\n",
       "    <tr>\n",
       "      <th>PP_0003</th>\n",
       "      <td>PP_RS00015</td>\n",
       "      <td>rsmG</td>\n",
       "      <td>16S rRNA (guanine(527)-N(7))-methyltransferase RsmG</td>\n",
       "      <td>CDS</td>\n",
       "      <td>651.0</td>\n",
       "      <td>Translation</td>\n",
       "    </tr>\n",
       "    <tr>\n",
       "      <th>PP_0004</th>\n",
       "      <td>PP_RS00020</td>\n",
       "      <td>mnmG</td>\n",
       "      <td>tRNA uridine-5-carboxymethylaminomethyl(34) synthesis enzyme MnmG</td>\n",
       "      <td>CDS</td>\n",
       "      <td>1893.0</td>\n",
       "      <td>NaN</td>\n",
       "    </tr>\n",
       "    <tr>\n",
       "      <th>PP_0005</th>\n",
       "      <td>PP_RS00025</td>\n",
       "      <td>mnmE</td>\n",
       "      <td>tRNA uridine-5-carboxymethylaminomethyl(34) synthesis GTPase MnmE</td>\n",
       "      <td>CDS</td>\n",
       "      <td>1371.0</td>\n",
       "      <td>NaN</td>\n",
       "    </tr>\n",
       "    <tr>\n",
       "      <th>...</th>\n",
       "      <td>...</td>\n",
       "      <td>...</td>\n",
       "      <td>...</td>\n",
       "      <td>...</td>\n",
       "      <td>...</td>\n",
       "      <td>...</td>\n",
       "    </tr>\n",
       "    <tr>\n",
       "      <th>PP_5419</th>\n",
       "      <td>PP_RS28240</td>\n",
       "      <td>atpB</td>\n",
       "      <td>F0F1 ATP synthase subunit A</td>\n",
       "      <td>CDS</td>\n",
       "      <td>870.0</td>\n",
       "      <td>Metabolic:S_Oxidative_Phosphorylation</td>\n",
       "    </tr>\n",
       "    <tr>\n",
       "      <th>PP_5420</th>\n",
       "      <td>PP_RS28245</td>\n",
       "      <td>NaN</td>\n",
       "      <td>F0F1 ATP synthase subunit I</td>\n",
       "      <td>CDS</td>\n",
       "      <td>408.0</td>\n",
       "      <td>Metabolic:S_Oxidative_Phosphorylation</td>\n",
       "    </tr>\n",
       "    <tr>\n",
       "      <th>PP_0688</th>\n",
       "      <td>NaN</td>\n",
       "      <td>NaN</td>\n",
       "      <td>NaN</td>\n",
       "      <td>NaN</td>\n",
       "      <td>NaN</td>\n",
       "      <td>Translation</td>\n",
       "    </tr>\n",
       "    <tr>\n",
       "      <th>PP_t57</th>\n",
       "      <td>NaN</td>\n",
       "      <td>NaN</td>\n",
       "      <td>NaN</td>\n",
       "      <td>NaN</td>\n",
       "      <td>NaN</td>\n",
       "      <td>tRNA-Charging</td>\n",
       "    </tr>\n",
       "    <tr>\n",
       "      <th>dummy</th>\n",
       "      <td>NaN</td>\n",
       "      <td>NaN</td>\n",
       "      <td>NaN</td>\n",
       "      <td>NaN</td>\n",
       "      <td>NaN</td>\n",
       "      <td>Metabolic:S_Phenylalanine_Tyrosine_Tryptophan_Biosynthesis</td>\n",
       "    </tr>\n",
       "  </tbody>\n",
       "</table>\n",
       "<p>5580 rows × 6 columns</p>\n",
       "</div>"
      ],
      "text/plain": [
       "          locus_tag  name  \\\n",
       "PP_0001  PP_RS00005   NaN   \n",
       "PP_0002  PP_RS00010   NaN   \n",
       "PP_0003  PP_RS00015  rsmG   \n",
       "PP_0004  PP_RS00020  mnmG   \n",
       "PP_0005  PP_RS00025  mnmE   \n",
       "...             ...   ...   \n",
       "PP_5419  PP_RS28240  atpB   \n",
       "PP_5420  PP_RS28245   NaN   \n",
       "PP_0688         NaN   NaN   \n",
       "PP_t57          NaN   NaN   \n",
       "dummy           NaN   NaN   \n",
       "\n",
       "                                                               description  \\\n",
       "PP_0001                           ParB/RepB/Spo0J family partition protein   \n",
       "PP_0002                                                ParA family protein   \n",
       "PP_0003                16S rRNA (guanine(527)-N(7))-methyltransferase RsmG   \n",
       "PP_0004  tRNA uridine-5-carboxymethylaminomethyl(34) synthesis enzyme MnmG   \n",
       "PP_0005  tRNA uridine-5-carboxymethylaminomethyl(34) synthesis GTPase MnmE   \n",
       "...                                                                    ...   \n",
       "PP_5419                                        F0F1 ATP synthase subunit A   \n",
       "PP_5420                                        F0F1 ATP synthase subunit I   \n",
       "PP_0688                                                                NaN   \n",
       "PP_t57                                                                 NaN   \n",
       "dummy                                                                  NaN   \n",
       "\n",
       "        type  length  \\\n",
       "PP_0001  CDS   873.0   \n",
       "PP_0002  CDS   792.0   \n",
       "PP_0003  CDS   651.0   \n",
       "PP_0004  CDS  1893.0   \n",
       "PP_0005  CDS  1371.0   \n",
       "...      ...     ...   \n",
       "PP_5419  CDS   870.0   \n",
       "PP_5420  CDS   408.0   \n",
       "PP_0688  NaN     NaN   \n",
       "PP_t57   NaN     NaN   \n",
       "dummy    NaN     NaN   \n",
       "\n",
       "                                                          subsystem  \n",
       "PP_0001                                                         NaN  \n",
       "PP_0002                                                         NaN  \n",
       "PP_0003                                                 Translation  \n",
       "PP_0004                                                         NaN  \n",
       "PP_0005                                                         NaN  \n",
       "...                                                             ...  \n",
       "PP_5419                       Metabolic:S_Oxidative_Phosphorylation  \n",
       "PP_5420                       Metabolic:S_Oxidative_Phosphorylation  \n",
       "PP_0688                                                 Translation  \n",
       "PP_t57                                                tRNA-Charging  \n",
       "dummy    Metabolic:S_Phenylalanine_Tyrosine_Tryptophan_Biosynthesis  \n",
       "\n",
       "[5580 rows x 6 columns]"
      ]
     },
     "execution_count": 9,
     "metadata": {},
     "output_type": "execute_result"
    }
   ],
   "source": [
    "Annotation"
   ]
  },
  {
   "cell_type": "code",
   "execution_count": 10,
   "id": "f19192f4-f900-4535-adc1-5b15cbe8764b",
   "metadata": {},
   "outputs": [],
   "source": [
    "pred = pred.rename({s:\"Metabolic:\"+s for s in pred.index if s not in Annotation[\"subsystem\"]})"
   ]
  },
  {
   "cell_type": "markdown",
   "id": "60020d0c-33a6-41e0-8e9c-12bc68d16307",
   "metadata": {},
   "source": [
    "### Combine results"
   ]
  },
  {
   "cell_type": "code",
   "execution_count": 25,
   "id": "9d119dc2-5606-488b-8945-fcba24676b3d",
   "metadata": {
    "scrolled": true
   },
   "outputs": [],
   "source": [
    "Results = ribo.join(rna,rsuffix=\"_rna\")"
   ]
  },
  {
   "cell_type": "code",
   "execution_count": 26,
   "id": "3207e722-9b34-44fe-95cc-88cc7a8b5608",
   "metadata": {},
   "outputs": [
    {
     "data": {
      "text/html": [
       "<div>\n",
       "<style scoped>\n",
       "    .dataframe tbody tr th:only-of-type {\n",
       "        vertical-align: middle;\n",
       "    }\n",
       "\n",
       "    .dataframe tbody tr th {\n",
       "        vertical-align: top;\n",
       "    }\n",
       "\n",
       "    .dataframe thead th {\n",
       "        text-align: right;\n",
       "    }\n",
       "</style>\n",
       "<table border=\"1\" class=\"dataframe\">\n",
       "  <thead>\n",
       "    <tr style=\"text-align: right;\">\n",
       "      <th></th>\n",
       "      <th>PPutida_1</th>\n",
       "      <th>PPutida_2</th>\n",
       "      <th>PPutida_4</th>\n",
       "      <th>PPutida_1_rna</th>\n",
       "      <th>PPutida_2_rna</th>\n",
       "      <th>PPutida_4_rna</th>\n",
       "      <th>locus_tag</th>\n",
       "      <th>name</th>\n",
       "      <th>description</th>\n",
       "      <th>type</th>\n",
       "      <th>length</th>\n",
       "      <th>subsystem</th>\n",
       "    </tr>\n",
       "  </thead>\n",
       "  <tbody>\n",
       "    <tr>\n",
       "      <th>PP_0001</th>\n",
       "      <td>4404.0</td>\n",
       "      <td>4187.0</td>\n",
       "      <td>2165.0</td>\n",
       "      <td>64.0</td>\n",
       "      <td>185.0</td>\n",
       "      <td>203.0</td>\n",
       "      <td>PP_RS00005</td>\n",
       "      <td>NaN</td>\n",
       "      <td>ParB/RepB/Spo0J family partition protein</td>\n",
       "      <td>CDS</td>\n",
       "      <td>873.0</td>\n",
       "      <td>NaN</td>\n",
       "    </tr>\n",
       "    <tr>\n",
       "      <th>PP_0010</th>\n",
       "      <td>24817.0</td>\n",
       "      <td>27045.0</td>\n",
       "      <td>10591.0</td>\n",
       "      <td>130.0</td>\n",
       "      <td>329.0</td>\n",
       "      <td>274.0</td>\n",
       "      <td>PP_RS00050</td>\n",
       "      <td>dnaA</td>\n",
       "      <td>chromosomal replication initiator protein DnaA</td>\n",
       "      <td>CDS</td>\n",
       "      <td>1521.0</td>\n",
       "      <td>NaN</td>\n",
       "    </tr>\n",
       "    <tr>\n",
       "      <th>PP_0097</th>\n",
       "      <td>790.0</td>\n",
       "      <td>615.0</td>\n",
       "      <td>401.0</td>\n",
       "      <td>8.0</td>\n",
       "      <td>58.0</td>\n",
       "      <td>47.0</td>\n",
       "      <td>PP_RS00495</td>\n",
       "      <td>NaN</td>\n",
       "      <td>YheV family putative zinc ribbon protein</td>\n",
       "      <td>CDS</td>\n",
       "      <td>282.0</td>\n",
       "      <td>NaN</td>\n",
       "    </tr>\n",
       "    <tr>\n",
       "      <th>PP_0947</th>\n",
       "      <td>1253.0</td>\n",
       "      <td>1395.0</td>\n",
       "      <td>735.0</td>\n",
       "      <td>13.0</td>\n",
       "      <td>21.0</td>\n",
       "      <td>20.0</td>\n",
       "      <td>PP_RS04975</td>\n",
       "      <td>NaN</td>\n",
       "      <td>ZIP family metal transporter</td>\n",
       "      <td>CDS</td>\n",
       "      <td>894.0</td>\n",
       "      <td>NaN</td>\n",
       "    </tr>\n",
       "    <tr>\n",
       "      <th>PP_0948</th>\n",
       "      <td>539.0</td>\n",
       "      <td>585.0</td>\n",
       "      <td>541.0</td>\n",
       "      <td>7.0</td>\n",
       "      <td>16.0</td>\n",
       "      <td>16.0</td>\n",
       "      <td>PP_RS04980</td>\n",
       "      <td>NaN</td>\n",
       "      <td>HPr family phosphocarrier protein</td>\n",
       "      <td>CDS</td>\n",
       "      <td>273.0</td>\n",
       "      <td>NaN</td>\n",
       "    </tr>\n",
       "  </tbody>\n",
       "</table>\n",
       "</div>"
      ],
      "text/plain": [
       "         PPutida_1  PPutida_2  PPutida_4  PPutida_1_rna  PPutida_2_rna  \\\n",
       "PP_0001     4404.0     4187.0     2165.0           64.0          185.0   \n",
       "PP_0010    24817.0    27045.0    10591.0          130.0          329.0   \n",
       "PP_0097      790.0      615.0      401.0            8.0           58.0   \n",
       "PP_0947     1253.0     1395.0      735.0           13.0           21.0   \n",
       "PP_0948      539.0      585.0      541.0            7.0           16.0   \n",
       "\n",
       "         PPutida_4_rna   locus_tag  name  \\\n",
       "PP_0001          203.0  PP_RS00005   NaN   \n",
       "PP_0010          274.0  PP_RS00050  dnaA   \n",
       "PP_0097           47.0  PP_RS00495   NaN   \n",
       "PP_0947           20.0  PP_RS04975   NaN   \n",
       "PP_0948           16.0  PP_RS04980   NaN   \n",
       "\n",
       "                                            description type  length subsystem  \n",
       "PP_0001        ParB/RepB/Spo0J family partition protein  CDS   873.0       NaN  \n",
       "PP_0010  chromosomal replication initiator protein DnaA  CDS  1521.0       NaN  \n",
       "PP_0097        YheV family putative zinc ribbon protein  CDS   282.0       NaN  \n",
       "PP_0947                    ZIP family metal transporter  CDS   894.0       NaN  \n",
       "PP_0948               HPr family phosphocarrier protein  CDS   273.0       NaN  "
      ]
     },
     "execution_count": 26,
     "metadata": {},
     "output_type": "execute_result"
    }
   ],
   "source": [
    "ResultsAnnotated = pandas.concat([Results,Annotation],axis=1).loc[Results.index]\n",
    "ResultsAnnotated.head()"
   ]
  },
  {
   "cell_type": "markdown",
   "id": "a953097e-75da-4095-97c7-da7dfbf4cabe",
   "metadata": {},
   "source": [
    "###  Group by subsystem"
   ]
  },
  {
   "cell_type": "code",
   "execution_count": 76,
   "id": "b91ddc18-f2d1-4e36-b54c-497b565b21ca",
   "metadata": {},
   "outputs": [
    {
     "name": "stderr",
     "output_type": "stream",
     "text": [
      "/tmp/ipykernel_53991/4173035433.py:1: FutureWarning: The default value of numeric_only in DataFrameGroupBy.sum is deprecated. In a future version, numeric_only will default to False. Either specify numeric_only or select only columns which should be valid for the function.\n",
      "  ResultsGrouped = ResultsAnnotated.groupby(\"subsystem\").sum()\n"
     ]
    }
   ],
   "source": [
    "ResultsGrouped = ResultsAnnotated.groupby(\"subsystem\").sum()"
   ]
  },
  {
   "cell_type": "code",
   "execution_count": 77,
   "id": "0760abcd-5a88-43a7-8230-0fc562fa25b2",
   "metadata": {},
   "outputs": [],
   "source": [
    "ResultsGrouped = pandas.concat([ResultsGrouped,pred],axis=1)"
   ]
  },
  {
   "cell_type": "code",
   "execution_count": 78,
   "id": "4b4f87be-6898-45ee-8663-b74d6e55850d",
   "metadata": {},
   "outputs": [],
   "source": [
    "ResultsGrouped[\"predicted\"] = ResultsGrouped[\"predicted\"] + 1"
   ]
  },
  {
   "cell_type": "code",
   "execution_count": 79,
   "id": "c7380d6a-9233-4437-b71d-ec7cf9949c3f",
   "metadata": {},
   "outputs": [],
   "source": [
    "# ResultsGrouped = ResultsAnnotated[~ResultsAnnotated[\"subsystem\"].str.contains(\"S_Transport__Outer_Membrane\")].groupby(\"subsystem\").sum()"
   ]
  },
  {
   "cell_type": "markdown",
   "id": "9bfd5ad4-9b23-4fd6-9c6a-c7370616085c",
   "metadata": {},
   "source": [
    "### Performance with riboseq"
   ]
  },
  {
   "cell_type": "code",
   "execution_count": 110,
   "id": "57712145-ffa6-411b-ae52-6fdfa1db5f35",
   "metadata": {},
   "outputs": [],
   "source": [
    "import statsmodels.api as sm\n",
    "from statsmodels.stats.outliers_influence import summary_table\n",
    "\n",
    "from scipy import stats\n",
    "from scipy.stats import pearsonr"
   ]
  },
  {
   "cell_type": "code",
   "execution_count": 111,
   "id": "7f441ed9-7e43-4a50-a093-91c09168a3ff",
   "metadata": {},
   "outputs": [
    {
     "name": "stdout",
     "output_type": "stream",
     "text": [
      "                            OLS Regression Results                            \n",
      "==============================================================================\n",
      "Dep. Variable:                      y   R-squared:                       0.255\n",
      "Model:                            OLS   Adj. R-squared:                  0.253\n",
      "Method:                 Least Squares   F-statistic:                     89.91\n",
      "Date:                Thu, 10 Oct 2024   Prob (F-statistic):           1.58e-18\n",
      "Time:                        11:26:00   Log-Likelihood:                -276.79\n",
      "No. Observations:                 264   AIC:                             557.6\n",
      "Df Residuals:                     262   BIC:                             564.7\n",
      "Df Model:                           1                                         \n",
      "Covariance Type:            nonrobust                                         \n",
      "==============================================================================\n",
      "                 coef    std err          t      P>|t|      [0.025      0.975]\n",
      "------------------------------------------------------------------------------\n",
      "const          4.3596      0.049     89.213      0.000       4.263       4.456\n",
      "x1             0.7628      0.080      9.482      0.000       0.604       0.921\n",
      "==============================================================================\n",
      "Omnibus:                       34.870   Durbin-Watson:                   0.610\n",
      "Prob(Omnibus):                  0.000   Jarque-Bera (JB):               44.449\n",
      "Skew:                          -0.947   Prob(JB):                     2.23e-10\n",
      "Kurtosis:                       3.673   Cond. No.                         2.11\n",
      "==============================================================================\n",
      "\n",
      "Notes:\n",
      "[1] Standard Errors assume that the covariance matrix of the errors is correctly specified.\n",
      "PearsonRResult(statistic=0.5054670856602589, pvalue=1.579502269598623e-18)\n"
     ]
    },
    {
     "data": {
      "image/png": "[encoded data removed]",
      "text/plain": [
       "<Figure size 640x480 with 1 Axes>"
      ]
     },
     "metadata": {},
     "output_type": "display_data"
    }
   ],
   "source": [
    "slist = samples\n",
    "tmp = numpy.log10(ResultsGrouped[slist+[\"predicted\"]]).replace([numpy.inf, -numpy.inf], numpy.nan, inplace=False).dropna()\n",
    "# colors = [\"brown\",\"blue\",\"green\"]\n",
    "X = pandas.concat([tmp[[\"predicted\"]],tmp[[\"predicted\"]],tmp[[\"predicted\"]]],axis=1).stack().values\n",
    "y = tmp[slist].stack().values\n",
    "\n",
    "X2 = sm.add_constant(X)\n",
    "est = sm.OLS(y, X2)\n",
    "est2 = est.fit()\n",
    "print(est2.summary())\n",
    "fig,ax = plt.subplots(1,1)\n",
    "for idx,s in enumerate(slist):\n",
    "    tmp.plot.scatter(\"predicted\",s,ax=ax,color=colors[idx],label=s)\n",
    "plt.plot(X,est2.predict(),color=\"black\")\n",
    "plt.ylabel(\"experimental\")\n",
    "print(pearsonr(numpy.squeeze(y),numpy.squeeze(est2.predict().reshape(-1,1))))\n",
    "\n",
    "# Confidence interval\n",
    "st, data, ss2 = summary_table(est2, alpha=0.05)\n",
    "fittedvalues = data[:, 2]\n",
    "predict_mean_se  = data[:, 3]\n",
    "predict_mean_ci_low, predict_mean_ci_upp = data[:, 4:6].T\n",
    "predict_ci_low, predict_ci_upp = data[:, 6:8].T\n",
    "plt.plot(X, predict_ci_low, color=\"gray\")\n",
    "plt.plot(X, predict_ci_upp, color=\"gray\")\n",
    "plt.title(\"Ribo-Seq vs. M-model\")\n",
    "\n",
    "plt.savefig(\"./figures/riboseq-counts-bysubsystem-performance-m.svg\",format=\"svg\")"
   ]
  },
  {
   "cell_type": "code",
   "execution_count": 112,
   "id": "ba59917f-e17b-4196-b6bb-b2071a969076",
   "metadata": {},
   "outputs": [],
   "source": [
    "ypred = est2.predict()\n",
    "yerr = y-ypred\n",
    "errors = pandas.Series({i:j for i,j in zip(tmp[slist].mean(axis=1).index,yerr)})\n",
    "errors.to_csv(\"datasets/omics/riboseq-mmodel-errors.csv\")"
   ]
  },
  {
   "cell_type": "code",
   "execution_count": 113,
   "id": "74947b51-9b89-474b-9428-ef19829d3f6c",
   "metadata": {},
   "outputs": [
    {
     "name": "stdout",
     "output_type": "stream",
     "text": [
      "                            OLS Regression Results                            \n",
      "==============================================================================\n",
      "Dep. Variable:                      y   R-squared:                       0.258\n",
      "Model:                            OLS   Adj. R-squared:                  0.256\n",
      "Method:                 Least Squares   F-statistic:                     91.32\n",
      "Date:                Thu, 10 Oct 2024   Prob (F-statistic):           9.32e-19\n",
      "Time:                        11:26:00   Log-Likelihood:                -235.06\n",
      "No. Observations:                 264   AIC:                             474.1\n",
      "Df Residuals:                     262   BIC:                             481.3\n",
      "Df Model:                           1                                         \n",
      "Covariance Type:            nonrobust                                         \n",
      "==============================================================================\n",
      "                 coef    std err          t      P>|t|      [0.025      0.975]\n",
      "------------------------------------------------------------------------------\n",
      "const          2.6485      0.042     63.478      0.000       2.566       2.731\n",
      "x1             0.6563      0.069      9.556      0.000       0.521       0.792\n",
      "==============================================================================\n",
      "Omnibus:                        3.592   Durbin-Watson:                   0.770\n",
      "Prob(Omnibus):                  0.166   Jarque-Bera (JB):                3.669\n",
      "Skew:                          -0.276   Prob(JB):                        0.160\n",
      "Kurtosis:                       2.829   Cond. No.                         2.11\n",
      "==============================================================================\n",
      "\n",
      "Notes:\n",
      "[1] Standard Errors assume that the covariance matrix of the errors is correctly specified.\n",
      "PearsonRResult(statistic=0.508385972621398, pvalue=9.321736910018175e-19)\n"
     ]
    },
    {
     "data": {
      "image/png": "[encoded data removed]",
      "text/plain": [
       "<Figure size 640x480 with 1 Axes>"
      ]
     },
     "metadata": {},
     "output_type": "display_data"
    }
   ],
   "source": [
    "slist = rna_samples\n",
    "tmp = numpy.log10(ResultsGrouped[slist+[\"predicted\"]]).replace([numpy.inf, -numpy.inf], numpy.nan, inplace=False).dropna()\n",
    "X = pandas.concat([tmp[[\"predicted\"]],tmp[[\"predicted\"]],tmp[[\"predicted\"]]],axis=1).stack().values\n",
    "y = tmp[slist].stack().values\n",
    "\n",
    "X2 = sm.add_constant(X)\n",
    "est = sm.OLS(y, X2)\n",
    "est2 = est.fit()\n",
    "print(est2.summary())\n",
    "fig,ax = plt.subplots(1,1)\n",
    "for idx,s in enumerate(slist):\n",
    "    tmp.plot.scatter(\"predicted\",s,ax=ax,color=colors[idx],label=s)\n",
    "plt.plot(X,est2.predict(),color=\"black\")\n",
    "plt.ylabel(\"experimental\")\n",
    "print(pearsonr(numpy.squeeze(y),numpy.squeeze(est2.predict().reshape(-1,1))))\n",
    "\n",
    "# Confidence interval\n",
    "st, data, ss2 = summary_table(est2, alpha=0.05)\n",
    "fittedvalues = data[:, 2]\n",
    "predict_mean_se  = data[:, 3]\n",
    "predict_mean_ci_low, predict_mean_ci_upp = data[:, 4:6].T\n",
    "predict_ci_low, predict_ci_upp = data[:, 6:8].T\n",
    "plt.plot(X, predict_ci_low, color=\"gray\")\n",
    "plt.plot(X, predict_ci_upp, color=\"gray\")\n",
    "plt.title(\"RNA-Seq vs. M-model\")\n",
    "\n",
    "plt.savefig(\"./figures/rnaseq-counts-bysubsystem-performance-m.svg\",format=\"svg\")"
   ]
  },
  {
   "cell_type": "code",
   "execution_count": 114,
   "id": "e8497d5d-6dab-4143-b7b0-007e214f7897",
   "metadata": {},
   "outputs": [],
   "source": [
    "ypred = est2.predict()\n",
    "yerr = y-ypred\n",
    "errors = pandas.Series({i:j for i,j in zip(tmp[slist].mean(axis=1).index,yerr)})\n",
    "errors.to_csv(\"datasets/omics/rnaseq-mmodel-errors.csv\")"
   ]
  }
 ],
 "metadata": {
  "kernelspec": {
   "display_name": "Python 3 (ipykernel)",
   "language": "python",
   "name": "python3"
  },
  "language_info": {
   "codemirror_mode": {
    "name": "ipython",
    "version": 3
   },
   "file_extension": ".py",
   "mimetype": "text/x-python",
   "name": "python",
   "nbconvert_exporter": "python",
   "pygments_lexer": "ipython3",
   "version": "3.10.12"
  }
 },
 "nbformat": 4,
 "nbformat_minor": 5
}
