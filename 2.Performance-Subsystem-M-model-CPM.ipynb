{
 "cells": [
  {
   "cell_type": "markdown",
   "id": "39e1f796-4647-4026-aa7d-575d27b775f3",
   "metadata": {},
   "source": [
    "# Correlation CPM vs. M-model Reduced cost"
   ]
  },
  {
   "cell_type": "code",
   "execution_count": 1,
   "id": "2d291db0-0b8f-4e58-9af2-280fb85dd583",
   "metadata": {},
   "outputs": [],
   "source": [
    "import pandas\n",
    "import numpy\n",
    "import matplotlib.pyplot as plt\n",
    "from Bio import SeqIO\n",
    "import re\n",
    "import coralme\n",
    "plt.rcParams['svg.fonttype'] = 'none'\n",
    "pandas.set_option('display.max_colwidth', None)\n",
    "%load_ext autoreload\n",
    "%autoreload 2"
   ]
  },
  {
   "cell_type": "code",
   "execution_count": 2,
   "id": "b99faf0e-e92b-477e-8ef8-84d54bc9b441",
   "metadata": {},
   "outputs": [
    {
     "name": "stdout",
     "output_type": "stream",
     "text": [
      "Set parameter Username\n",
      "Academic license - for non-commercial use only - expires 2025-09-03\n"
     ]
    }
   ],
   "source": [
    "import cobra\n",
    "gem = cobra.io.load_json_model(\"./pputidame/inputs/m_model.json\")"
   ]
  },
  {
   "cell_type": "markdown",
   "id": "3d46f31b-bfdd-4e0e-964a-a1094eaceda2",
   "metadata": {},
   "source": [
    "### Load predictions"
   ]
  },
  {
   "cell_type": "code",
   "execution_count": 3,
   "id": "46f6916f-aa1c-4b7f-b585-ba6864a84521",
   "metadata": {},
   "outputs": [],
   "source": [
    "fluxes = pandas.read_csv(\"./datasets/predictions/KT2440-MMODEL-M9.csv\",index_col=0)"
   ]
  },
  {
   "cell_type": "code",
   "execution_count": 4,
   "id": "aabcb8a6-c583-463a-a9d3-29a15e80ce5e",
   "metadata": {},
   "outputs": [
    {
     "name": "stderr",
     "output_type": "stream",
     "text": [
      "/tmp/ipykernel_198133/3162891843.py:3: FutureWarning: Setting an item of incompatible dtype is deprecated and will raise an error in a future version of pandas. Value '0.01740931048161' has dtype incompatible with int64, please explicitly cast to a compatible dtype first.\n",
      "  pred[r.subsystem] += fluxes[\"fluxes\"].abs()[r.id]\n"
     ]
    }
   ],
   "source": [
    "pred = pandas.Series({r.subsystem:0 for r in gem.reactions})\n",
    "for r in gem.reactions:\n",
    "    pred[r.subsystem] += fluxes[\"fluxes\"].abs()[r.id]\n",
    "pred.name = \"predicted\""
   ]
  },
  {
   "cell_type": "markdown",
   "id": "8edd775d-fc1f-4f2a-b379-1207631c4888",
   "metadata": {},
   "source": [
    "### Load omics data"
   ]
  },
  {
   "cell_type": "code",
   "execution_count": 5,
   "id": "d31e8427-3ac6-4fde-bae4-01c2c4e298e0",
   "metadata": {},
   "outputs": [],
   "source": [
    "rna = pandas.read_csv(\"./datasets/omics/RNA-counts.csv\",sep=',',index_col=0)[[\"PPutida_1\",\"PPutida_2\",\"PPutida_4\"]]"
   ]
  },
  {
   "cell_type": "code",
   "execution_count": 6,
   "id": "fd268cdb-f93f-46e1-91f7-4476782db250",
   "metadata": {},
   "outputs": [],
   "source": [
    "ribo = pandas.read_csv(\"./datasets/omics/RS-counts.csv\",sep=',',index_col=0)[[\"PPutida_1\",\"PPutida_2\",\"PPutida_4\"]]"
   ]
  },
  {
   "cell_type": "code",
   "execution_count": 7,
   "id": "7f5e1c16-20ec-4bb6-afbd-457afb6a9517",
   "metadata": {},
   "outputs": [],
   "source": [
    "samples = rna.columns.to_list()\n",
    "rna_samples = [i + \"_rna\" for i in samples]\n",
    "te_samples = [i + \"_te\" for i in samples]\n",
    "all_samples = samples+rna_samples+te_samples+[\"predicted\"]\n",
    "colors = [\"#2b83ba\",\"#66bd63\",\"#fdae61\"]"
   ]
  },
  {
   "cell_type": "markdown",
   "id": "6eb3603d-ab80-4df5-bf59-7637484da400",
   "metadata": {},
   "source": [
    "### Load Annotation"
   ]
  },
  {
   "cell_type": "code",
   "execution_count": 8,
   "id": "213c0c2f-a9d2-48da-a88d-9d81e57edb94",
   "metadata": {},
   "outputs": [],
   "source": [
    "Annotation = pandas.read_csv(\"./GeneAnnotation.csv\",index_col=0)"
   ]
  },
  {
   "cell_type": "code",
   "execution_count": 9,
   "id": "392da208-b263-4c73-babf-bc256439e868",
   "metadata": {},
   "outputs": [
    {
     "data": {
      "text/html": [
       "<div>\n",
       "<style scoped>\n",
       "    .dataframe tbody tr th:only-of-type {\n",
       "        vertical-align: middle;\n",
       "    }\n",
       "\n",
       "    .dataframe tbody tr th {\n",
       "        vertical-align: top;\n",
       "    }\n",
       "\n",
       "    .dataframe thead th {\n",
       "        text-align: right;\n",
       "    }\n",
       "</style>\n",
       "<table border=\"1\" class=\"dataframe\">\n",
       "  <thead>\n",
       "    <tr style=\"text-align: right;\">\n",
       "      <th></th>\n",
       "      <th>locus_tag</th>\n",
       "      <th>name</th>\n",
       "      <th>description</th>\n",
       "      <th>type</th>\n",
       "      <th>length</th>\n",
       "      <th>subsystem</th>\n",
       "    </tr>\n",
       "  </thead>\n",
       "  <tbody>\n",
       "    <tr>\n",
       "      <th>PP_0001</th>\n",
       "      <td>PP_RS00005</td>\n",
       "      <td>NaN</td>\n",
       "      <td>ParB/RepB/Spo0J family partition protein</td>\n",
       "      <td>CDS</td>\n",
       "      <td>873.0</td>\n",
       "      <td>NaN</td>\n",
       "    </tr>\n",
       "    <tr>\n",
       "      <th>PP_0002</th>\n",
       "      <td>PP_RS00010</td>\n",
       "      <td>NaN</td>\n",
       "      <td>ParA family protein</td>\n",
       "      <td>CDS</td>\n",
       "      <td>792.0</td>\n",
       "      <td>NaN</td>\n",
       "    </tr>\n",
       "    <tr>\n",
       "      <th>PP_0003</th>\n",
       "      <td>PP_RS00015</td>\n",
       "      <td>rsmG</td>\n",
       "      <td>16S rRNA (guanine(527)-N(7))-methyltransferase RsmG</td>\n",
       "      <td>CDS</td>\n",
       "      <td>651.0</td>\n",
       "      <td>Translation</td>\n",
       "    </tr>\n",
       "    <tr>\n",
       "      <th>PP_0004</th>\n",
       "      <td>PP_RS00020</td>\n",
       "      <td>mnmG</td>\n",
       "      <td>tRNA uridine-5-carboxymethylaminomethyl(34) synthesis enzyme MnmG</td>\n",
       "      <td>CDS</td>\n",
       "      <td>1893.0</td>\n",
       "      <td>NaN</td>\n",
       "    </tr>\n",
       "    <tr>\n",
       "      <th>PP_0005</th>\n",
       "      <td>PP_RS00025</td>\n",
       "      <td>mnmE</td>\n",
       "      <td>tRNA uridine-5-carboxymethylaminomethyl(34) synthesis GTPase MnmE</td>\n",
       "      <td>CDS</td>\n",
       "      <td>1371.0</td>\n",
       "      <td>NaN</td>\n",
       "    </tr>\n",
       "    <tr>\n",
       "      <th>...</th>\n",
       "      <td>...</td>\n",
       "      <td>...</td>\n",
       "      <td>...</td>\n",
       "      <td>...</td>\n",
       "      <td>...</td>\n",
       "      <td>...</td>\n",
       "    </tr>\n",
       "    <tr>\n",
       "      <th>PP_5418</th>\n",
       "      <td>PP_RS28235</td>\n",
       "      <td>atpE</td>\n",
       "      <td>F0F1 ATP synthase subunit C</td>\n",
       "      <td>CDS</td>\n",
       "      <td>258.0</td>\n",
       "      <td>Metabolic:S_Oxidative_Phosphorylation</td>\n",
       "    </tr>\n",
       "    <tr>\n",
       "      <th>PP_5419</th>\n",
       "      <td>PP_RS28240</td>\n",
       "      <td>atpB</td>\n",
       "      <td>F0F1 ATP synthase subunit A</td>\n",
       "      <td>CDS</td>\n",
       "      <td>870.0</td>\n",
       "      <td>Metabolic:S_Oxidative_Phosphorylation</td>\n",
       "    </tr>\n",
       "    <tr>\n",
       "      <th>PP_5420</th>\n",
       "      <td>PP_RS28245</td>\n",
       "      <td>NaN</td>\n",
       "      <td>F0F1 ATP synthase subunit I</td>\n",
       "      <td>CDS</td>\n",
       "      <td>408.0</td>\n",
       "      <td>Metabolic:S_Oxidative_Phosphorylation</td>\n",
       "    </tr>\n",
       "    <tr>\n",
       "      <th>PP_0688</th>\n",
       "      <td>NaN</td>\n",
       "      <td>NaN</td>\n",
       "      <td>NaN</td>\n",
       "      <td>NaN</td>\n",
       "      <td>NaN</td>\n",
       "      <td>Translation</td>\n",
       "    </tr>\n",
       "    <tr>\n",
       "      <th>PP_t57</th>\n",
       "      <td>NaN</td>\n",
       "      <td>NaN</td>\n",
       "      <td>NaN</td>\n",
       "      <td>NaN</td>\n",
       "      <td>NaN</td>\n",
       "      <td>Translation</td>\n",
       "    </tr>\n",
       "  </tbody>\n",
       "</table>\n",
       "<p>5579 rows × 6 columns</p>\n",
       "</div>"
      ],
      "text/plain": [
       "          locus_tag  name  \\\n",
       "PP_0001  PP_RS00005   NaN   \n",
       "PP_0002  PP_RS00010   NaN   \n",
       "PP_0003  PP_RS00015  rsmG   \n",
       "PP_0004  PP_RS00020  mnmG   \n",
       "PP_0005  PP_RS00025  mnmE   \n",
       "...             ...   ...   \n",
       "PP_5418  PP_RS28235  atpE   \n",
       "PP_5419  PP_RS28240  atpB   \n",
       "PP_5420  PP_RS28245   NaN   \n",
       "PP_0688         NaN   NaN   \n",
       "PP_t57          NaN   NaN   \n",
       "\n",
       "                                                               description  \\\n",
       "PP_0001                           ParB/RepB/Spo0J family partition protein   \n",
       "PP_0002                                                ParA family protein   \n",
       "PP_0003                16S rRNA (guanine(527)-N(7))-methyltransferase RsmG   \n",
       "PP_0004  tRNA uridine-5-carboxymethylaminomethyl(34) synthesis enzyme MnmG   \n",
       "PP_0005  tRNA uridine-5-carboxymethylaminomethyl(34) synthesis GTPase MnmE   \n",
       "...                                                                    ...   \n",
       "PP_5418                                        F0F1 ATP synthase subunit C   \n",
       "PP_5419                                        F0F1 ATP synthase subunit A   \n",
       "PP_5420                                        F0F1 ATP synthase subunit I   \n",
       "PP_0688                                                                NaN   \n",
       "PP_t57                                                                 NaN   \n",
       "\n",
       "        type  length                              subsystem  \n",
       "PP_0001  CDS   873.0                                    NaN  \n",
       "PP_0002  CDS   792.0                                    NaN  \n",
       "PP_0003  CDS   651.0                            Translation  \n",
       "PP_0004  CDS  1893.0                                    NaN  \n",
       "PP_0005  CDS  1371.0                                    NaN  \n",
       "...      ...     ...                                    ...  \n",
       "PP_5418  CDS   258.0  Metabolic:S_Oxidative_Phosphorylation  \n",
       "PP_5419  CDS   870.0  Metabolic:S_Oxidative_Phosphorylation  \n",
       "PP_5420  CDS   408.0  Metabolic:S_Oxidative_Phosphorylation  \n",
       "PP_0688  NaN     NaN                            Translation  \n",
       "PP_t57   NaN     NaN                            Translation  \n",
       "\n",
       "[5579 rows x 6 columns]"
      ]
     },
     "execution_count": 9,
     "metadata": {},
     "output_type": "execute_result"
    }
   ],
   "source": [
    "Annotation"
   ]
  },
  {
   "cell_type": "code",
   "execution_count": 10,
   "id": "f19192f4-f900-4535-adc1-5b15cbe8764b",
   "metadata": {},
   "outputs": [],
   "source": [
    "pred = pred.rename({s:\"Metabolic:\"+s for s in pred.index if s not in Annotation[\"subsystem\"]})"
   ]
  },
  {
   "cell_type": "markdown",
   "id": "60020d0c-33a6-41e0-8e9c-12bc68d16307",
   "metadata": {},
   "source": [
    "### Combine results"
   ]
  },
  {
   "cell_type": "code",
   "execution_count": 11,
   "id": "6b5b3fdc-cb7d-40cd-b90b-d21e76338983",
   "metadata": {},
   "outputs": [
    {
     "data": {
      "text/html": [
       "<div>\n",
       "<style scoped>\n",
       "    .dataframe tbody tr th:only-of-type {\n",
       "        vertical-align: middle;\n",
       "    }\n",
       "\n",
       "    .dataframe tbody tr th {\n",
       "        vertical-align: top;\n",
       "    }\n",
       "\n",
       "    .dataframe thead th {\n",
       "        text-align: right;\n",
       "    }\n",
       "</style>\n",
       "<table border=\"1\" class=\"dataframe\">\n",
       "  <thead>\n",
       "    <tr style=\"text-align: right;\">\n",
       "      <th></th>\n",
       "      <th>PPutida_1</th>\n",
       "      <th>PPutida_2</th>\n",
       "      <th>PPutida_4</th>\n",
       "      <th>PPutida_1_rna</th>\n",
       "      <th>PPutida_2_rna</th>\n",
       "      <th>PPutida_4_rna</th>\n",
       "      <th>PPutida_1_te</th>\n",
       "      <th>PPutida_2_te</th>\n",
       "      <th>PPutida_4_te</th>\n",
       "      <th>predicted</th>\n",
       "      <th>locus_tag</th>\n",
       "      <th>name</th>\n",
       "      <th>description</th>\n",
       "      <th>type</th>\n",
       "      <th>length</th>\n",
       "      <th>subsystem</th>\n",
       "    </tr>\n",
       "  </thead>\n",
       "  <tbody>\n",
       "    <tr>\n",
       "      <th>PP_0001</th>\n",
       "      <td>115.346129</td>\n",
       "      <td>101.379836</td>\n",
       "      <td>117.392753</td>\n",
       "      <td>145.138868</td>\n",
       "      <td>205.633239</td>\n",
       "      <td>239.660650</td>\n",
       "      <td>0.794729</td>\n",
       "      <td>0.493013</td>\n",
       "      <td>0.489829</td>\n",
       "      <td>NaN</td>\n",
       "      <td>PP_RS00005</td>\n",
       "      <td>NaN</td>\n",
       "      <td>ParB/RepB/Spo0J family partition protein</td>\n",
       "      <td>CDS</td>\n",
       "      <td>873.0</td>\n",
       "      <td>NaN</td>\n",
       "    </tr>\n",
       "    <tr>\n",
       "      <th>PP_0010</th>\n",
       "      <td>649.987487</td>\n",
       "      <td>654.840617</td>\n",
       "      <td>574.275588</td>\n",
       "      <td>294.813326</td>\n",
       "      <td>365.693707</td>\n",
       "      <td>323.482848</td>\n",
       "      <td>2.204743</td>\n",
       "      <td>1.790681</td>\n",
       "      <td>1.775289</td>\n",
       "      <td>NaN</td>\n",
       "      <td>PP_RS00050</td>\n",
       "      <td>dnaA</td>\n",
       "      <td>chromosomal replication initiator protein DnaA</td>\n",
       "      <td>CDS</td>\n",
       "      <td>1521.0</td>\n",
       "      <td>NaN</td>\n",
       "    </tr>\n",
       "    <tr>\n",
       "      <th>PP_0097</th>\n",
       "      <td>20.691063</td>\n",
       "      <td>14.890996</td>\n",
       "      <td>21.743415</td>\n",
       "      <td>18.142359</td>\n",
       "      <td>64.468799</td>\n",
       "      <td>55.487934</td>\n",
       "      <td>1.140484</td>\n",
       "      <td>0.230980</td>\n",
       "      <td>0.391858</td>\n",
       "      <td>NaN</td>\n",
       "      <td>PP_RS00495</td>\n",
       "      <td>NaN</td>\n",
       "      <td>YheV family putative zinc ribbon protein</td>\n",
       "      <td>CDS</td>\n",
       "      <td>282.0</td>\n",
       "      <td>NaN</td>\n",
       "    </tr>\n",
       "    <tr>\n",
       "      <th>PP_0947</th>\n",
       "      <td>32.817598</td>\n",
       "      <td>33.777137</td>\n",
       "      <td>39.853891</td>\n",
       "      <td>29.481333</td>\n",
       "      <td>23.342151</td>\n",
       "      <td>23.611887</td>\n",
       "      <td>1.113165</td>\n",
       "      <td>1.447045</td>\n",
       "      <td>1.687874</td>\n",
       "      <td>NaN</td>\n",
       "      <td>PP_RS04975</td>\n",
       "      <td>NaN</td>\n",
       "      <td>ZIP family metal transporter</td>\n",
       "      <td>CDS</td>\n",
       "      <td>894.0</td>\n",
       "      <td>NaN</td>\n",
       "    </tr>\n",
       "    <tr>\n",
       "      <th>PP_0948</th>\n",
       "      <td>14.117067</td>\n",
       "      <td>14.164606</td>\n",
       "      <td>29.334633</td>\n",
       "      <td>15.874564</td>\n",
       "      <td>17.784496</td>\n",
       "      <td>18.889509</td>\n",
       "      <td>0.889289</td>\n",
       "      <td>0.796458</td>\n",
       "      <td>1.552959</td>\n",
       "      <td>NaN</td>\n",
       "      <td>PP_RS04980</td>\n",
       "      <td>NaN</td>\n",
       "      <td>HPr family phosphocarrier protein</td>\n",
       "      <td>CDS</td>\n",
       "      <td>273.0</td>\n",
       "      <td>NaN</td>\n",
       "    </tr>\n",
       "  </tbody>\n",
       "</table>\n",
       "</div>"
      ],
      "text/plain": [
       "          PPutida_1   PPutida_2   PPutida_4  PPutida_1_rna  PPutida_2_rna  \\\n",
       "PP_0001  115.346129  101.379836  117.392753     145.138868     205.633239   \n",
       "PP_0010  649.987487  654.840617  574.275588     294.813326     365.693707   \n",
       "PP_0097   20.691063   14.890996   21.743415      18.142359      64.468799   \n",
       "PP_0947   32.817598   33.777137   39.853891      29.481333      23.342151   \n",
       "PP_0948   14.117067   14.164606   29.334633      15.874564      17.784496   \n",
       "\n",
       "         PPutida_4_rna  PPutida_1_te  PPutida_2_te  PPutida_4_te  predicted  \\\n",
       "PP_0001     239.660650      0.794729      0.493013      0.489829        NaN   \n",
       "PP_0010     323.482848      2.204743      1.790681      1.775289        NaN   \n",
       "PP_0097      55.487934      1.140484      0.230980      0.391858        NaN   \n",
       "PP_0947      23.611887      1.113165      1.447045      1.687874        NaN   \n",
       "PP_0948      18.889509      0.889289      0.796458      1.552959        NaN   \n",
       "\n",
       "          locus_tag  name                                     description  \\\n",
       "PP_0001  PP_RS00005   NaN        ParB/RepB/Spo0J family partition protein   \n",
       "PP_0010  PP_RS00050  dnaA  chromosomal replication initiator protein DnaA   \n",
       "PP_0097  PP_RS00495   NaN        YheV family putative zinc ribbon protein   \n",
       "PP_0947  PP_RS04975   NaN                    ZIP family metal transporter   \n",
       "PP_0948  PP_RS04980   NaN               HPr family phosphocarrier protein   \n",
       "\n",
       "        type  length subsystem  \n",
       "PP_0001  CDS   873.0       NaN  \n",
       "PP_0010  CDS  1521.0       NaN  \n",
       "PP_0097  CDS   282.0       NaN  \n",
       "PP_0947  CDS   894.0       NaN  \n",
       "PP_0948  CDS   273.0       NaN  "
      ]
     },
     "execution_count": 11,
     "metadata": {},
     "output_type": "execute_result"
    }
   ],
   "source": [
    "NormalizedRibo = ribo.div(ribo.sum())*1e6\n",
    "NormalizedRNA = rna.div(rna.sum())*1e6\n",
    "NormalizedTE = NormalizedRibo.div(NormalizedRNA,axis=0)\n",
    "# Results = NormalizedRibo.join(NormalizedRNA,rsuffix=\"_rna\").join(NormalizedTE,rsuffix=\"_te\").join(pred)\n",
    "Results = pandas.concat([NormalizedRibo,\n",
    "                         NormalizedRNA.rename(columns={s:s+\"_rna\" for s in samples}),\n",
    "                         NormalizedTE.rename(columns={s:s+\"_te\" for s in samples}),\n",
    "                         pred\n",
    "                           ],\n",
    "                           axis=1)\n",
    "ResultsAnnotated = pandas.concat([Results,Annotation],axis=1).loc[Results.index]\n",
    "ResultsAnnotated.head()"
   ]
  },
  {
   "cell_type": "code",
   "execution_count": 12,
   "id": "3d78db03-2839-4c32-8e9d-538966f61a21",
   "metadata": {},
   "outputs": [
    {
     "data": {
      "text/plain": [
       "PPutida_1        1.000000e+06\n",
       "PPutida_2        1.000000e+06\n",
       "PPutida_4        1.000000e+06\n",
       "PPutida_1_rna    1.000000e+06\n",
       "PPutida_2_rna    1.000000e+06\n",
       "PPutida_4_rna    1.000000e+06\n",
       "PPutida_1_te              inf\n",
       "PPutida_2_te              inf\n",
       "PPutida_4_te              inf\n",
       "predicted        3.431415e+02\n",
       "dtype: float64"
      ]
     },
     "execution_count": 12,
     "metadata": {},
     "output_type": "execute_result"
    }
   ],
   "source": [
    "Results.sum()"
   ]
  },
  {
   "cell_type": "markdown",
   "id": "a953097e-75da-4095-97c7-da7dfbf4cabe",
   "metadata": {},
   "source": [
    "###  Group by subsystem"
   ]
  },
  {
   "cell_type": "code",
   "execution_count": 13,
   "id": "b91ddc18-f2d1-4e36-b54c-497b565b21ca",
   "metadata": {},
   "outputs": [],
   "source": [
    "ResultsGrouped = ResultsAnnotated[rna_samples+samples+[\"subsystem\"]].groupby(\"subsystem\").sum()\n",
    "ResultsGrouped[te_samples] = ResultsGrouped[samples].div(ResultsGrouped[rna_samples].rename(columns={i:j for i,j in zip(rna_samples,samples)}),axis=1)"
   ]
  },
  {
   "cell_type": "code",
   "execution_count": 14,
   "id": "0760abcd-5a88-43a7-8230-0fc562fa25b2",
   "metadata": {},
   "outputs": [],
   "source": [
    "ResultsGrouped = pandas.concat([ResultsGrouped,pred],axis=1)"
   ]
  },
  {
   "cell_type": "code",
   "execution_count": 15,
   "id": "4b4f87be-6898-45ee-8663-b74d6e55850d",
   "metadata": {},
   "outputs": [],
   "source": [
    "ResultsGrouped[\"predicted\"] = ResultsGrouped[\"predicted\"] + 1"
   ]
  },
  {
   "cell_type": "code",
   "execution_count": 16,
   "id": "51f2325d-7e87-42f6-a082-5d53bb08eb46",
   "metadata": {},
   "outputs": [],
   "source": [
    "ResultsGrouped.index.name = \"subsystem\""
   ]
  },
  {
   "cell_type": "code",
   "execution_count": 17,
   "id": "c7380d6a-9233-4437-b71d-ec7cf9949c3f",
   "metadata": {},
   "outputs": [],
   "source": [
    "# ResultsGrouped = ResultsAnnotated[~ResultsAnnotated[\"subsystem\"].str.contains(\"S_Transport__Outer_Membrane\")].groupby(\"subsystem\").sum()"
   ]
  },
  {
   "cell_type": "markdown",
   "id": "7e0bbad8-7b93-4110-835b-17986bb7566b",
   "metadata": {},
   "source": [
    "### Results"
   ]
  },
  {
   "cell_type": "code",
   "execution_count": 18,
   "id": "57712145-ffa6-411b-ae52-6fdfa1db5f35",
   "metadata": {},
   "outputs": [],
   "source": [
    "import statsmodels.api as sm\n",
    "from statsmodels.stats.outliers_influence import summary_table\n",
    "\n",
    "from scipy import stats\n",
    "from scipy.stats import pearsonr"
   ]
  },
  {
   "cell_type": "markdown",
   "id": "e799fc63-6b72-4b19-b25d-228eae6ca273",
   "metadata": {},
   "source": [
    "### Ribo"
   ]
  },
  {
   "cell_type": "code",
   "execution_count": 19,
   "id": "7f441ed9-7e43-4a50-a093-91c09168a3ff",
   "metadata": {},
   "outputs": [
    {
     "name": "stdout",
     "output_type": "stream",
     "text": [
      "PearsonRResult(statistic=0.4850502570697467, pvalue=5.504032051306148e-17)\n"
     ]
    },
    {
     "data": {
      "image/png": "[encoded data removed]",
      "text/plain": [
       "<Figure size 640x480 with 1 Axes>"
      ]
     },
     "metadata": {},
     "output_type": "display_data"
    }
   ],
   "source": [
    "slist = samples\n",
    "tmp = numpy.log10(ResultsGrouped[slist+[\"predicted\"]]).replace([numpy.inf, -numpy.inf], numpy.nan, inplace=False).dropna()\n",
    "# colors = [\"brown\",\"blue\",\"green\"]\n",
    "X = pandas.concat([tmp[[\"predicted\"]],tmp[[\"predicted\"]],tmp[[\"predicted\"]]],axis=1).stack().values\n",
    "y = tmp[slist].stack().values\n",
    "\n",
    "X2 = sm.add_constant(X)\n",
    "est = sm.OLS(y, X2)\n",
    "est2 = est.fit()\n",
    "fig,ax = plt.subplots(1,1)\n",
    "for idx,s in enumerate(slist):\n",
    "    tmp.plot.scatter(\"predicted\",s,ax=ax,color=colors[idx],label=s)\n",
    "plt.plot(X,est2.predict(),color=\"black\")\n",
    "plt.ylabel(\"experimental\")\n",
    "print(pearsonr(numpy.squeeze(y),numpy.squeeze(est2.predict().reshape(-1,1))))\n",
    "\n",
    "# Confidence interval\n",
    "st, data, ss2 = summary_table(est2, alpha=0.05)\n",
    "fittedvalues = data[:, 2]\n",
    "predict_mean_se  = data[:, 3]\n",
    "predict_mean_ci_low, predict_mean_ci_upp = data[:, 4:6].T\n",
    "predict_ci_low, predict_ci_upp = data[:, 6:8].T\n",
    "plt.plot(X, predict_ci_low, color=\"gray\")\n",
    "plt.plot(X, predict_ci_upp, color=\"gray\")\n",
    "plt.title(\"Ribo-Seq vs. M-model\")\n",
    "\n",
    "plt.savefig(\"./figures/riboseq-cpm-bysubsystem-performance-m.svg\",format=\"svg\")"
   ]
  },
  {
   "cell_type": "code",
   "execution_count": 20,
   "id": "b78e91b6-b11e-4b18-a832-ad80f928714f",
   "metadata": {
    "scrolled": true
   },
   "outputs": [
    {
     "data": {
      "text/html": [
       "<div>\n",
       "<style scoped>\n",
       "    .dataframe tbody tr th:only-of-type {\n",
       "        vertical-align: middle;\n",
       "    }\n",
       "\n",
       "    .dataframe tbody tr th {\n",
       "        vertical-align: top;\n",
       "    }\n",
       "\n",
       "    .dataframe thead th {\n",
       "        text-align: right;\n",
       "    }\n",
       "</style>\n",
       "<table border=\"1\" class=\"dataframe\">\n",
       "  <thead>\n",
       "    <tr style=\"text-align: right;\">\n",
       "      <th></th>\n",
       "      <th>level_1</th>\n",
       "      <th>value</th>\n",
       "      <th>ci_low</th>\n",
       "      <th>ci_upp</th>\n",
       "      <th>fit</th>\n",
       "      <th>predicted</th>\n",
       "    </tr>\n",
       "    <tr>\n",
       "      <th>subsystem</th>\n",
       "      <th></th>\n",
       "      <th></th>\n",
       "      <th></th>\n",
       "      <th></th>\n",
       "      <th></th>\n",
       "      <th></th>\n",
       "    </tr>\n",
       "  </thead>\n",
       "  <tbody>\n",
       "    <tr>\n",
       "      <th>Metabolic:Aliphatic open-chain ketones metabolism</th>\n",
       "      <td>PPutida_1</td>\n",
       "      <td>0.766461</td>\n",
       "      <td>1.631041</td>\n",
       "      <td>4.284261</td>\n",
       "      <td>2.957651</td>\n",
       "      <td>0.000000</td>\n",
       "    </tr>\n",
       "    <tr>\n",
       "      <th>Metabolic:Aliphatic open-chain ketones metabolism</th>\n",
       "      <td>PPutida_2</td>\n",
       "      <td>0.687245</td>\n",
       "      <td>1.631041</td>\n",
       "      <td>4.284261</td>\n",
       "      <td>2.957651</td>\n",
       "      <td>0.000000</td>\n",
       "    </tr>\n",
       "    <tr>\n",
       "      <th>Metabolic:Aliphatic open-chain ketones metabolism</th>\n",
       "      <td>PPutida_4</td>\n",
       "      <td>0.779506</td>\n",
       "      <td>1.631041</td>\n",
       "      <td>4.284261</td>\n",
       "      <td>2.957651</td>\n",
       "      <td>0.000000</td>\n",
       "    </tr>\n",
       "    <tr>\n",
       "      <th>Metabolic:Biomass and maintenance functions</th>\n",
       "      <td>PPutida_1</td>\n",
       "      <td>2.137238</td>\n",
       "      <td>1.967030</td>\n",
       "      <td>4.619755</td>\n",
       "      <td>3.293392</td>\n",
       "      <td>0.381609</td>\n",
       "    </tr>\n",
       "    <tr>\n",
       "      <th>Metabolic:Biomass and maintenance functions</th>\n",
       "      <td>PPutida_2</td>\n",
       "      <td>2.108816</td>\n",
       "      <td>1.967030</td>\n",
       "      <td>4.619755</td>\n",
       "      <td>3.293392</td>\n",
       "      <td>0.381609</td>\n",
       "    </tr>\n",
       "  </tbody>\n",
       "</table>\n",
       "</div>"
      ],
      "text/plain": [
       "                                                     level_1     value  \\\n",
       "subsystem                                                                \n",
       "Metabolic:Aliphatic open-chain ketones metabolism  PPutida_1  0.766461   \n",
       "Metabolic:Aliphatic open-chain ketones metabolism  PPutida_2  0.687245   \n",
       "Metabolic:Aliphatic open-chain ketones metabolism  PPutida_4  0.779506   \n",
       "Metabolic:Biomass and maintenance functions        PPutida_1  2.137238   \n",
       "Metabolic:Biomass and maintenance functions        PPutida_2  2.108816   \n",
       "\n",
       "                                                     ci_low    ci_upp  \\\n",
       "subsystem                                                               \n",
       "Metabolic:Aliphatic open-chain ketones metabolism  1.631041  4.284261   \n",
       "Metabolic:Aliphatic open-chain ketones metabolism  1.631041  4.284261   \n",
       "Metabolic:Aliphatic open-chain ketones metabolism  1.631041  4.284261   \n",
       "Metabolic:Biomass and maintenance functions        1.967030  4.619755   \n",
       "Metabolic:Biomass and maintenance functions        1.967030  4.619755   \n",
       "\n",
       "                                                        fit  predicted  \n",
       "subsystem                                                               \n",
       "Metabolic:Aliphatic open-chain ketones metabolism  2.957651   0.000000  \n",
       "Metabolic:Aliphatic open-chain ketones metabolism  2.957651   0.000000  \n",
       "Metabolic:Aliphatic open-chain ketones metabolism  2.957651   0.000000  \n",
       "Metabolic:Biomass and maintenance functions        3.293392   0.381609  \n",
       "Metabolic:Biomass and maintenance functions        3.293392   0.381609  "
      ]
     },
     "execution_count": 20,
     "metadata": {},
     "output_type": "execute_result"
    }
   ],
   "source": [
    "tmp.columns = samples+[\"predicted\"]\n",
    "Stacked = tmp[samples].stack().reset_index().rename(columns={0:\"value\"}).set_index(\"subsystem\")\n",
    "Stacked[\"ci_low\"] = predict_ci_low\n",
    "Stacked[\"ci_upp\"] = predict_ci_upp\n",
    "Stacked[\"fit\"] = fittedvalues\n",
    "Stacked[\"predicted\"] = X\n",
    "Stacked.to_csv(\"./datasets/performance/ribo-mmodel.csv\")\n",
    "Stacked.head()"
   ]
  },
  {
   "cell_type": "markdown",
   "id": "3f218454-ea0c-4e73-ad12-7b508efdffbb",
   "metadata": {},
   "source": [
    "### RNA"
   ]
  },
  {
   "cell_type": "code",
   "execution_count": 21,
   "id": "74947b51-9b89-474b-9428-ef19829d3f6c",
   "metadata": {},
   "outputs": [
    {
     "name": "stdout",
     "output_type": "stream",
     "text": [
      "PearsonRResult(statistic=0.500933163784615, pvalue=3.547673288306416e-18)\n"
     ]
    },
    {
     "data": {
      "image/png": "[encoded data removed]",
      "text/plain": [
       "<Figure size 640x480 with 1 Axes>"
      ]
     },
     "metadata": {},
     "output_type": "display_data"
    }
   ],
   "source": [
    "slist = rna_samples\n",
    "tmp = numpy.log10(ResultsGrouped[slist+[\"predicted\"]]).replace([numpy.inf, -numpy.inf], numpy.nan, inplace=False).dropna()\n",
    "X = pandas.concat([tmp[[\"predicted\"]],tmp[[\"predicted\"]],tmp[[\"predicted\"]]],axis=1).stack().values\n",
    "y = tmp[slist].stack().values\n",
    "\n",
    "X2 = sm.add_constant(X)\n",
    "est = sm.OLS(y, X2)\n",
    "est2 = est.fit()\n",
    "# print(est2.summary())\n",
    "fig,ax = plt.subplots(1,1)\n",
    "for idx,s in enumerate(slist):\n",
    "    tmp.plot.scatter(\"predicted\",s,ax=ax,color=colors[idx],label=s)\n",
    "plt.plot(X,est2.predict(),color=\"black\")\n",
    "plt.ylabel(\"experimental\")\n",
    "print(pearsonr(numpy.squeeze(y),numpy.squeeze(est2.predict().reshape(-1,1))))\n",
    "\n",
    "# Confidence interval\n",
    "st, data, ss2 = summary_table(est2, alpha=0.05)\n",
    "fittedvalues = data[:, 2]\n",
    "predict_mean_se  = data[:, 3]\n",
    "predict_mean_ci_low, predict_mean_ci_upp = data[:, 4:6].T\n",
    "predict_ci_low, predict_ci_upp = data[:, 6:8].T\n",
    "plt.plot(X, predict_ci_low, color=\"gray\")\n",
    "plt.plot(X, predict_ci_upp, color=\"gray\")\n",
    "plt.title(\"RNA-Seq vs. M-model\")\n",
    "\n",
    "plt.savefig(\"./figures/rnaseq-cpm-bysubsystem-performance-m.svg\",format=\"svg\")"
   ]
  },
  {
   "cell_type": "code",
   "execution_count": 22,
   "id": "d8935a6e-b65d-4781-abff-66c600b5fcf5",
   "metadata": {},
   "outputs": [
    {
     "data": {
      "text/html": [
       "<div>\n",
       "<style scoped>\n",
       "    .dataframe tbody tr th:only-of-type {\n",
       "        vertical-align: middle;\n",
       "    }\n",
       "\n",
       "    .dataframe tbody tr th {\n",
       "        vertical-align: top;\n",
       "    }\n",
       "\n",
       "    .dataframe thead th {\n",
       "        text-align: right;\n",
       "    }\n",
       "</style>\n",
       "<table border=\"1\" class=\"dataframe\">\n",
       "  <thead>\n",
       "    <tr style=\"text-align: right;\">\n",
       "      <th></th>\n",
       "      <th>level_1</th>\n",
       "      <th>value</th>\n",
       "      <th>ci_low</th>\n",
       "      <th>ci_upp</th>\n",
       "      <th>fit</th>\n",
       "      <th>predicted</th>\n",
       "    </tr>\n",
       "    <tr>\n",
       "      <th>subsystem</th>\n",
       "      <th></th>\n",
       "      <th></th>\n",
       "      <th></th>\n",
       "      <th></th>\n",
       "      <th></th>\n",
       "      <th></th>\n",
       "    </tr>\n",
       "  </thead>\n",
       "  <tbody>\n",
       "    <tr>\n",
       "      <th>Metabolic:Aliphatic open-chain ketones metabolism</th>\n",
       "      <td>PPutida_1</td>\n",
       "      <td>1.989072</td>\n",
       "      <td>1.787657</td>\n",
       "      <td>3.983608</td>\n",
       "      <td>2.885633</td>\n",
       "      <td>0.000000</td>\n",
       "    </tr>\n",
       "    <tr>\n",
       "      <th>Metabolic:Aliphatic open-chain ketones metabolism</th>\n",
       "      <td>PPutida_2</td>\n",
       "      <td>1.276371</td>\n",
       "      <td>1.787657</td>\n",
       "      <td>3.983608</td>\n",
       "      <td>2.885633</td>\n",
       "      <td>0.000000</td>\n",
       "    </tr>\n",
       "    <tr>\n",
       "      <th>Metabolic:Aliphatic open-chain ketones metabolism</th>\n",
       "      <td>PPutida_4</td>\n",
       "      <td>1.072101</td>\n",
       "      <td>1.787657</td>\n",
       "      <td>3.983608</td>\n",
       "      <td>2.885633</td>\n",
       "      <td>0.000000</td>\n",
       "    </tr>\n",
       "    <tr>\n",
       "      <th>Metabolic:Biomass and maintenance functions</th>\n",
       "      <td>PPutida_1</td>\n",
       "      <td>1.818002</td>\n",
       "      <td>2.077824</td>\n",
       "      <td>4.273364</td>\n",
       "      <td>3.175594</td>\n",
       "      <td>0.381609</td>\n",
       "    </tr>\n",
       "    <tr>\n",
       "      <th>Metabolic:Biomass and maintenance functions</th>\n",
       "      <td>PPutida_2</td>\n",
       "      <td>1.975341</td>\n",
       "      <td>2.077824</td>\n",
       "      <td>4.273364</td>\n",
       "      <td>3.175594</td>\n",
       "      <td>0.381609</td>\n",
       "    </tr>\n",
       "  </tbody>\n",
       "</table>\n",
       "</div>"
      ],
      "text/plain": [
       "                                                     level_1     value  \\\n",
       "subsystem                                                                \n",
       "Metabolic:Aliphatic open-chain ketones metabolism  PPutida_1  1.989072   \n",
       "Metabolic:Aliphatic open-chain ketones metabolism  PPutida_2  1.276371   \n",
       "Metabolic:Aliphatic open-chain ketones metabolism  PPutida_4  1.072101   \n",
       "Metabolic:Biomass and maintenance functions        PPutida_1  1.818002   \n",
       "Metabolic:Biomass and maintenance functions        PPutida_2  1.975341   \n",
       "\n",
       "                                                     ci_low    ci_upp  \\\n",
       "subsystem                                                               \n",
       "Metabolic:Aliphatic open-chain ketones metabolism  1.787657  3.983608   \n",
       "Metabolic:Aliphatic open-chain ketones metabolism  1.787657  3.983608   \n",
       "Metabolic:Aliphatic open-chain ketones metabolism  1.787657  3.983608   \n",
       "Metabolic:Biomass and maintenance functions        2.077824  4.273364   \n",
       "Metabolic:Biomass and maintenance functions        2.077824  4.273364   \n",
       "\n",
       "                                                        fit  predicted  \n",
       "subsystem                                                               \n",
       "Metabolic:Aliphatic open-chain ketones metabolism  2.885633   0.000000  \n",
       "Metabolic:Aliphatic open-chain ketones metabolism  2.885633   0.000000  \n",
       "Metabolic:Aliphatic open-chain ketones metabolism  2.885633   0.000000  \n",
       "Metabolic:Biomass and maintenance functions        3.175594   0.381609  \n",
       "Metabolic:Biomass and maintenance functions        3.175594   0.381609  "
      ]
     },
     "execution_count": 22,
     "metadata": {},
     "output_type": "execute_result"
    }
   ],
   "source": [
    "tmp.columns = samples+[\"predicted\"]\n",
    "Stacked = tmp[samples].stack().reset_index().rename(columns={0:\"value\"}).set_index(\"subsystem\")\n",
    "Stacked[\"ci_low\"] = predict_ci_low\n",
    "Stacked[\"ci_upp\"] = predict_ci_upp\n",
    "Stacked[\"fit\"] = fittedvalues\n",
    "Stacked[\"predicted\"] = X\n",
    "Stacked.to_csv(\"./datasets/performance/rna-mmodel.csv\")\n",
    "Stacked.head()"
   ]
  },
  {
   "cell_type": "markdown",
   "id": "15564b9f-3937-4b34-b9a8-f6fc52505f7b",
   "metadata": {},
   "source": [
    "### TE"
   ]
  },
  {
   "cell_type": "code",
   "execution_count": 23,
   "id": "48a59bed-c501-43b0-8578-8d9a5e55b7fe",
   "metadata": {},
   "outputs": [
    {
     "name": "stdout",
     "output_type": "stream",
     "text": [
      "PearsonRResult(statistic=0.17737604418997957, pvalue=0.003836453960641006)\n"
     ]
    },
    {
     "data": {
      "image/png": "[encoded data removed]",
      "text/plain": [
       "<Figure size 640x480 with 1 Axes>"
      ]
     },
     "metadata": {},
     "output_type": "display_data"
    }
   ],
   "source": [
    "slist = te_samples\n",
    "tmp = numpy.log10(ResultsGrouped[slist+[\"predicted\"]]).replace([numpy.inf, -numpy.inf], numpy.nan, inplace=False).dropna()\n",
    "X = pandas.concat([tmp[[\"predicted\"]],tmp[[\"predicted\"]],tmp[[\"predicted\"]]],axis=1).stack().values\n",
    "y = tmp[slist].stack().values\n",
    "\n",
    "X2 = sm.add_constant(X)\n",
    "est = sm.OLS(y, X2)\n",
    "est2 = est.fit()\n",
    "# print(est2.summary())\n",
    "fig,ax = plt.subplots(1,1)\n",
    "for idx,s in enumerate(slist):\n",
    "    tmp.plot.scatter(\"predicted\",s,ax=ax,color=colors[idx],label=s)\n",
    "plt.plot(X,est2.predict(),color=\"black\")\n",
    "plt.ylabel(\"experimental\")\n",
    "print(pearsonr(numpy.squeeze(y),numpy.squeeze(est2.predict().reshape(-1,1))))\n",
    "\n",
    "# Confidence interval\n",
    "st, data, ss2 = summary_table(est2, alpha=0.05)\n",
    "fittedvalues = data[:, 2]\n",
    "predict_mean_se  = data[:, 3]\n",
    "predict_mean_ci_low, predict_mean_ci_upp = data[:, 4:6].T\n",
    "predict_ci_low, predict_ci_upp = data[:, 6:8].T\n",
    "plt.plot(X, predict_ci_low, color=\"gray\")\n",
    "plt.plot(X, predict_ci_upp, color=\"gray\")\n",
    "plt.title(\"TE vs. M-model\")\n",
    "\n",
    "plt.savefig(\"./figures/te-cpm-bysubsystem-performance-m.svg\",format=\"svg\")"
   ]
  },
  {
   "cell_type": "code",
   "execution_count": 24,
   "id": "1e6d5026-47d4-4990-8443-1404cc652875",
   "metadata": {},
   "outputs": [
    {
     "data": {
      "text/html": [
       "<div>\n",
       "<style scoped>\n",
       "    .dataframe tbody tr th:only-of-type {\n",
       "        vertical-align: middle;\n",
       "    }\n",
       "\n",
       "    .dataframe tbody tr th {\n",
       "        vertical-align: top;\n",
       "    }\n",
       "\n",
       "    .dataframe thead th {\n",
       "        text-align: right;\n",
       "    }\n",
       "</style>\n",
       "<table border=\"1\" class=\"dataframe\">\n",
       "  <thead>\n",
       "    <tr style=\"text-align: right;\">\n",
       "      <th></th>\n",
       "      <th>level_1</th>\n",
       "      <th>value</th>\n",
       "      <th>ci_low</th>\n",
       "      <th>ci_upp</th>\n",
       "      <th>fit</th>\n",
       "      <th>predicted</th>\n",
       "    </tr>\n",
       "    <tr>\n",
       "      <th>subsystem</th>\n",
       "      <th></th>\n",
       "      <th></th>\n",
       "      <th></th>\n",
       "      <th></th>\n",
       "      <th></th>\n",
       "      <th></th>\n",
       "    </tr>\n",
       "  </thead>\n",
       "  <tbody>\n",
       "    <tr>\n",
       "      <th>Metabolic:Aliphatic open-chain ketones metabolism</th>\n",
       "      <td>PPutida_1</td>\n",
       "      <td>-1.222612</td>\n",
       "      <td>-0.484669</td>\n",
       "      <td>0.628706</td>\n",
       "      <td>0.072018</td>\n",
       "      <td>0.000000</td>\n",
       "    </tr>\n",
       "    <tr>\n",
       "      <th>Metabolic:Aliphatic open-chain ketones metabolism</th>\n",
       "      <td>PPutida_2</td>\n",
       "      <td>-0.589126</td>\n",
       "      <td>-0.484669</td>\n",
       "      <td>0.628706</td>\n",
       "      <td>0.072018</td>\n",
       "      <td>0.000000</td>\n",
       "    </tr>\n",
       "    <tr>\n",
       "      <th>Metabolic:Aliphatic open-chain ketones metabolism</th>\n",
       "      <td>PPutida_4</td>\n",
       "      <td>-0.292594</td>\n",
       "      <td>-0.484669</td>\n",
       "      <td>0.628706</td>\n",
       "      <td>0.072018</td>\n",
       "      <td>0.000000</td>\n",
       "    </tr>\n",
       "    <tr>\n",
       "      <th>Metabolic:Biomass and maintenance functions</th>\n",
       "      <td>PPutida_1</td>\n",
       "      <td>0.319237</td>\n",
       "      <td>-0.438785</td>\n",
       "      <td>0.674382</td>\n",
       "      <td>0.117798</td>\n",
       "      <td>0.381609</td>\n",
       "    </tr>\n",
       "    <tr>\n",
       "      <th>Metabolic:Biomass and maintenance functions</th>\n",
       "      <td>PPutida_2</td>\n",
       "      <td>0.133475</td>\n",
       "      <td>-0.438785</td>\n",
       "      <td>0.674382</td>\n",
       "      <td>0.117798</td>\n",
       "      <td>0.381609</td>\n",
       "    </tr>\n",
       "  </tbody>\n",
       "</table>\n",
       "</div>"
      ],
      "text/plain": [
       "                                                     level_1     value  \\\n",
       "subsystem                                                                \n",
       "Metabolic:Aliphatic open-chain ketones metabolism  PPutida_1 -1.222612   \n",
       "Metabolic:Aliphatic open-chain ketones metabolism  PPutida_2 -0.589126   \n",
       "Metabolic:Aliphatic open-chain ketones metabolism  PPutida_4 -0.292594   \n",
       "Metabolic:Biomass and maintenance functions        PPutida_1  0.319237   \n",
       "Metabolic:Biomass and maintenance functions        PPutida_2  0.133475   \n",
       "\n",
       "                                                     ci_low    ci_upp  \\\n",
       "subsystem                                                               \n",
       "Metabolic:Aliphatic open-chain ketones metabolism -0.484669  0.628706   \n",
       "Metabolic:Aliphatic open-chain ketones metabolism -0.484669  0.628706   \n",
       "Metabolic:Aliphatic open-chain ketones metabolism -0.484669  0.628706   \n",
       "Metabolic:Biomass and maintenance functions       -0.438785  0.674382   \n",
       "Metabolic:Biomass and maintenance functions       -0.438785  0.674382   \n",
       "\n",
       "                                                        fit  predicted  \n",
       "subsystem                                                               \n",
       "Metabolic:Aliphatic open-chain ketones metabolism  0.072018   0.000000  \n",
       "Metabolic:Aliphatic open-chain ketones metabolism  0.072018   0.000000  \n",
       "Metabolic:Aliphatic open-chain ketones metabolism  0.072018   0.000000  \n",
       "Metabolic:Biomass and maintenance functions        0.117798   0.381609  \n",
       "Metabolic:Biomass and maintenance functions        0.117798   0.381609  "
      ]
     },
     "execution_count": 24,
     "metadata": {},
     "output_type": "execute_result"
    }
   ],
   "source": [
    "tmp.columns = samples+[\"predicted\"]\n",
    "Stacked = tmp[samples].stack().reset_index().rename(columns={0:\"value\"}).set_index(\"subsystem\")\n",
    "Stacked[\"ci_low\"] = predict_ci_low\n",
    "Stacked[\"ci_upp\"] = predict_ci_upp\n",
    "Stacked[\"fit\"] = fittedvalues\n",
    "Stacked[\"predicted\"] = X\n",
    "Stacked.to_csv(\"./datasets/performance/te-mmodel.csv\")\n",
    "Stacked.head()"
   ]
  }
 ],
 "metadata": {
  "kernelspec": {
   "display_name": "coralme-1.1.5",
   "language": "python",
   "name": "coralme-1.1.5"
  },
  "language_info": {
   "codemirror_mode": {
    "name": "ipython",
    "version": 3
   },
   "file_extension": ".py",
   "mimetype": "text/x-python",
   "name": "python",
   "nbconvert_exporter": "python",
   "pygments_lexer": "ipython3",
   "version": "3.10.12"
  }
 },
 "nbformat": 4,
 "nbformat_minor": 5
}
