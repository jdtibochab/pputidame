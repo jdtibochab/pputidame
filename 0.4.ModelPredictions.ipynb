{
 "cells": [
  {
   "cell_type": "code",
   "execution_count": 4,
   "id": "55a3a551-34a9-4db1-b93b-bc02703dc54b",
   "metadata": {},
   "outputs": [],
   "source": [
    "import pandas\n",
    "import numpy\n",
    "import matplotlib.pyplot as plt\n",
    "from Bio import SeqIO\n",
    "import re\n",
    "import coralme\n",
    "plt.rcParams['svg.fonttype'] = 'none'\n",
    "pandas.set_option('display.max_colwidth', None)\n",
    "%load_ext autoreload\n",
    "%autoreload 2\n"
   ]
  },
  {
   "cell_type": "markdown",
   "id": "722eed4c-15d5-4f25-963d-aef1027a9725",
   "metadata": {},
   "source": [
    "## Naive model"
   ]
  },
  {
   "cell_type": "code",
   "execution_count": 5,
   "id": "4fa12f5f-1b91-40e0-9149-b428273653a9",
   "metadata": {},
   "outputs": [
    {
     "name": "stdout",
     "output_type": "stream",
     "text": [
      "Set parameter Username\n",
      "Academic license - for non-commercial use only - expires 2025-09-03\n",
      "Read LP format model from file /tmp/tmpokidcb0j.lp\n",
      "Reading time = 0.00 seconds\n",
      ": 0 rows, 0 columns, 0 nonzeros\n",
      "Read LP format model from file /tmp/tmp8ys21lps.lp\n",
      "Reading time = 0.01 seconds\n",
      ": 2162 rows, 5896 columns, 23426 nonzeros\n",
      "Read LP format model from file /tmp/tmpbulxdapa.lp\n",
      "Reading time = 0.01 seconds\n",
      ": 2166 rows, 5894 columns, 23388 nonzeros\n"
     ]
    }
   ],
   "source": [
    "model = coralme.io.pickle.load_pickle_me_model(\"./pputidame/MEModel-step3-pputida-TS-UPF36.pkl\")"
   ]
  },
  {
   "cell_type": "markdown",
   "id": "09612d5b-ef0b-41d4-a243-33aa49cad7e7",
   "metadata": {},
   "source": [
    "### M9"
   ]
  },
  {
   "cell_type": "code",
   "execution_count": 15,
   "id": "c5d1f87b-2f2d-43e1-9aa3-363a4bac87c2",
   "metadata": {},
   "outputs": [],
   "source": [
    "for r in model.reactions.query(\"^EX_\"):\n",
    "    r.lower_bound = 0"
   ]
  },
  {
   "cell_type": "code",
   "execution_count": 16,
   "id": "89d47966-d0df-4e9d-8cfd-eebdbb28638e",
   "metadata": {},
   "outputs": [],
   "source": [
    "medium = pandas.read_csv(\"./media/M9.txt\",index_col=0,header=None,comment=\"#\")[1]\n",
    "for r,b in medium.items():\n",
    "    model.reactions.get_by_id(r).lower_bound = -b"
   ]
  },
  {
   "cell_type": "code",
   "execution_count": 17,
   "id": "6203ad89-d71a-4959-a660-9eb1d33c3b8b",
   "metadata": {},
   "outputs": [
    {
     "name": "stdout",
     "output_type": "stream",
     "text": [
      "Iteration\t Solution to check\tSolver Status\n",
      "---------\t------------------\t-------------\n",
      "        1\t0.5000000000000000\tOptimal\n",
      "        2\t0.7500000000000000\tNot feasible\n",
      "        3\t0.6250000000000000\tOptimal\n",
      "        4\t0.6875000000000000\tNot feasible\n",
      "        5\t0.6562500000000000\tNot feasible\n",
      "        6\t0.6406250000000000\tNot feasible\n",
      "        7\t0.6328125000000000\tOptimal\n",
      "        8\t0.6367187500000000\tNot feasible\n",
      "        9\t0.6347656250000000\tNot feasible\n",
      "       10\t0.6337890625000000\tOptimal\n",
      "       11\t0.6342773437500000\tOptimal\n",
      "       12\t0.6345214843750000\tOptimal\n",
      "       13\t0.6346435546875000\tNot feasible\n",
      "       14\t0.6345825195312500\tOptimal\n",
      "       15\t0.6346130371093750\tOptimal\n",
      "       16\t0.6346282958984375\tOptimal\n",
      "       17\t0.6346359252929688\tNot feasible\n",
      "       18\t0.6346321105957031\tNot feasible\n",
      "       19\t0.6346302032470703\tOptimal\n",
      "       20\t0.6346311569213867\tOptimal\n"
     ]
    },
    {
     "data": {
      "text/plain": [
       "True"
      ]
     },
     "execution_count": 17,
     "metadata": {},
     "output_type": "execute_result"
    }
   ],
   "source": [
    "model.optimize(max_mu=1.0)"
   ]
  },
  {
   "cell_type": "code",
   "execution_count": 20,
   "id": "04d46e62-3620-45bd-92ca-bb1e06e3f68b",
   "metadata": {},
   "outputs": [
    {
     "data": {
      "text/html": [
       "<div>\n",
       "<style scoped>\n",
       "    .dataframe tbody tr th:only-of-type {\n",
       "        vertical-align: middle;\n",
       "    }\n",
       "\n",
       "    .dataframe tbody tr th {\n",
       "        vertical-align: top;\n",
       "    }\n",
       "\n",
       "    .dataframe thead th {\n",
       "        text-align: right;\n",
       "    }\n",
       "</style>\n",
       "<table border=\"1\" class=\"dataframe\">\n",
       "  <thead>\n",
       "    <tr style=\"text-align: right;\">\n",
       "      <th></th>\n",
       "      <th>name</th>\n",
       "      <th>reaction</th>\n",
       "      <th>lower_bound</th>\n",
       "      <th>upper_bound</th>\n",
       "      <th>flux</th>\n",
       "    </tr>\n",
       "    <tr>\n",
       "      <th>id</th>\n",
       "      <th></th>\n",
       "      <th></th>\n",
       "      <th></th>\n",
       "      <th></th>\n",
       "      <th></th>\n",
       "    </tr>\n",
       "  </thead>\n",
       "  <tbody>\n",
       "    <tr>\n",
       "      <th>EX_h2o_e</th>\n",
       "      <td></td>\n",
       "      <td>1.0 h2o_e &lt;=&gt;</td>\n",
       "      <td>-100</td>\n",
       "      <td>999999.0</td>\n",
       "      <td>4.195663e+01</td>\n",
       "    </tr>\n",
       "    <tr>\n",
       "      <th>EX_co2_e</th>\n",
       "      <td></td>\n",
       "      <td>1.0 co2_e --&gt;</td>\n",
       "      <td>0</td>\n",
       "      <td>999999.0</td>\n",
       "      <td>2.472880e+01</td>\n",
       "    </tr>\n",
       "    <tr>\n",
       "      <th>EX_h_e</th>\n",
       "      <td></td>\n",
       "      <td>1.0 h_e &lt;=&gt;</td>\n",
       "      <td>-100</td>\n",
       "      <td>999999.0</td>\n",
       "      <td>6.539237e+00</td>\n",
       "    </tr>\n",
       "    <tr>\n",
       "      <th>biomass_dilution</th>\n",
       "      <td></td>\n",
       "      <td>1.0 biomass --&gt;</td>\n",
       "      <td>mu</td>\n",
       "      <td>mu</td>\n",
       "      <td>6.346312e-01</td>\n",
       "    </tr>\n",
       "    <tr>\n",
       "      <th>EX_ac_e</th>\n",
       "      <td></td>\n",
       "      <td>1.0 ac_e --&gt;</td>\n",
       "      <td>0</td>\n",
       "      <td>999999.0</td>\n",
       "      <td>3.902820e-01</td>\n",
       "    </tr>\n",
       "    <tr>\n",
       "      <th>DM_5drib_c</th>\n",
       "      <td></td>\n",
       "      <td>1.0 5drib_c --&gt;</td>\n",
       "      <td>0.0</td>\n",
       "      <td>999999.0</td>\n",
       "      <td>4.307514e-04</td>\n",
       "    </tr>\n",
       "    <tr>\n",
       "      <th>DM_tripeptide_c</th>\n",
       "      <td></td>\n",
       "      <td>1.0 tripeptide_c --&gt;</td>\n",
       "      <td>0.0</td>\n",
       "      <td>999999.0</td>\n",
       "      <td>1.858187e-04</td>\n",
       "    </tr>\n",
       "    <tr>\n",
       "      <th>DM_amob_c</th>\n",
       "      <td></td>\n",
       "      <td>1.0 amob_c --&gt;</td>\n",
       "      <td>0.0</td>\n",
       "      <td>999999.0</td>\n",
       "      <td>1.477059e-04</td>\n",
       "    </tr>\n",
       "    <tr>\n",
       "      <th>DM_doxopa_c</th>\n",
       "      <td></td>\n",
       "      <td>1.0 doxopa_c --&gt;</td>\n",
       "      <td>0.0</td>\n",
       "      <td>999999.0</td>\n",
       "      <td>1.415227e-04</td>\n",
       "    </tr>\n",
       "    <tr>\n",
       "      <th>EX_5mtr_e</th>\n",
       "      <td></td>\n",
       "      <td>1.0 5mtr_e --&gt;</td>\n",
       "      <td>0</td>\n",
       "      <td>1000.0</td>\n",
       "      <td>6.474956e-05</td>\n",
       "    </tr>\n",
       "    <tr>\n",
       "      <th>DM_RNA_PP_t35</th>\n",
       "      <td></td>\n",
       "      <td>1.0 RNA_PP_t35 + 24.647971757 tRNA_biomass --&gt;</td>\n",
       "      <td>0.0</td>\n",
       "      <td>1000.0</td>\n",
       "      <td>2.728918e-05</td>\n",
       "    </tr>\n",
       "    <tr>\n",
       "      <th>DM_RNA_PP_t23</th>\n",
       "      <td></td>\n",
       "      <td>1.0 RNA_PP_t23 + 24.378898755999998 tRNA_biomass --&gt;</td>\n",
       "      <td>0.0</td>\n",
       "      <td>1000.0</td>\n",
       "      <td>1.364502e-05</td>\n",
       "    </tr>\n",
       "    <tr>\n",
       "      <th>DM_RNA_PP_0440</th>\n",
       "      <td></td>\n",
       "      <td>1.0 RNA_PP_0440 + 383.46967079399997 mRNA_biomass --&gt;</td>\n",
       "      <td>0.0</td>\n",
       "      <td>1000.0</td>\n",
       "      <td>1.172689e-05</td>\n",
       "    </tr>\n",
       "    <tr>\n",
       "      <th>DM_RNA_PP_t04</th>\n",
       "      <td></td>\n",
       "      <td>1.0 RNA_PP_t04 + 24.381853035999995 tRNA_biomass --&gt;</td>\n",
       "      <td>0.0</td>\n",
       "      <td>1000.0</td>\n",
       "      <td>6.329791e-06</td>\n",
       "    </tr>\n",
       "    <tr>\n",
       "      <th>DM_RNA_PP_0816</th>\n",
       "      <td></td>\n",
       "      <td>1.0 RNA_PP_0816 + 285.991429988 mRNA_biomass --&gt;</td>\n",
       "      <td>0.0</td>\n",
       "      <td>1000.0</td>\n",
       "      <td>2.378745e-06</td>\n",
       "    </tr>\n",
       "    <tr>\n",
       "      <th>DM_RNA_PP_5054</th>\n",
       "      <td></td>\n",
       "      <td>1.0 RNA_PP_5054 + 81.808395755 mRNA_biomass --&gt;</td>\n",
       "      <td>0.0</td>\n",
       "      <td>1000.0</td>\n",
       "      <td>1.987946e-06</td>\n",
       "    </tr>\n",
       "    <tr>\n",
       "      <th>DM_RNA_PP_t10</th>\n",
       "      <td></td>\n",
       "      <td>1.0 RNA_PP_t10 + 24.731070257000002 tRNA_biomass --&gt;</td>\n",
       "      <td>0.0</td>\n",
       "      <td>1000.0</td>\n",
       "      <td>1.593774e-06</td>\n",
       "    </tr>\n",
       "    <tr>\n",
       "      <th>DM_RNA_PP_4042</th>\n",
       "      <td></td>\n",
       "      <td>1.0 RNA_PP_4042 + 483.520333246 mRNA_biomass --&gt;</td>\n",
       "      <td>0.0</td>\n",
       "      <td>1000.0</td>\n",
       "      <td>1.507653e-06</td>\n",
       "    </tr>\n",
       "    <tr>\n",
       "      <th>DM_RNA_PP_t24</th>\n",
       "      <td></td>\n",
       "      <td>1.0 RNA_PP_t24 + 24.378898755999998 tRNA_biomass --&gt;</td>\n",
       "      <td>0.0</td>\n",
       "      <td>1000.0</td>\n",
       "      <td>8.051421e-07</td>\n",
       "    </tr>\n",
       "    <tr>\n",
       "      <th>DM_RNA_PP_0452</th>\n",
       "      <td></td>\n",
       "      <td>1.0 RNA_PP_0452 + 383.642761114 mRNA_biomass --&gt;</td>\n",
       "      <td>0.0</td>\n",
       "      <td>1000.0</td>\n",
       "      <td>5.778203e-07</td>\n",
       "    </tr>\n",
       "  </tbody>\n",
       "</table>\n",
       "</div>"
      ],
      "text/plain": [
       "                 name                                                reaction  \\\n",
       "id                                                                              \n",
       "EX_h2o_e                                                       1.0 h2o_e <=>    \n",
       "EX_co2_e                                                       1.0 co2_e -->    \n",
       "EX_h_e                                                           1.0 h_e <=>    \n",
       "biomass_dilution                                             1.0 biomass -->    \n",
       "EX_ac_e                                                         1.0 ac_e -->    \n",
       "DM_5drib_c                                                   1.0 5drib_c -->    \n",
       "DM_tripeptide_c                                         1.0 tripeptide_c -->    \n",
       "DM_amob_c                                                     1.0 amob_c -->    \n",
       "DM_doxopa_c                                                 1.0 doxopa_c -->    \n",
       "EX_5mtr_e                                                     1.0 5mtr_e -->    \n",
       "DM_RNA_PP_t35                 1.0 RNA_PP_t35 + 24.647971757 tRNA_biomass -->    \n",
       "DM_RNA_PP_t23           1.0 RNA_PP_t23 + 24.378898755999998 tRNA_biomass -->    \n",
       "DM_RNA_PP_0440         1.0 RNA_PP_0440 + 383.46967079399997 mRNA_biomass -->    \n",
       "DM_RNA_PP_t04           1.0 RNA_PP_t04 + 24.381853035999995 tRNA_biomass -->    \n",
       "DM_RNA_PP_0816              1.0 RNA_PP_0816 + 285.991429988 mRNA_biomass -->    \n",
       "DM_RNA_PP_5054               1.0 RNA_PP_5054 + 81.808395755 mRNA_biomass -->    \n",
       "DM_RNA_PP_t10           1.0 RNA_PP_t10 + 24.731070257000002 tRNA_biomass -->    \n",
       "DM_RNA_PP_4042              1.0 RNA_PP_4042 + 483.520333246 mRNA_biomass -->    \n",
       "DM_RNA_PP_t24           1.0 RNA_PP_t24 + 24.378898755999998 tRNA_biomass -->    \n",
       "DM_RNA_PP_0452              1.0 RNA_PP_0452 + 383.642761114 mRNA_biomass -->    \n",
       "\n",
       "                 lower_bound upper_bound          flux  \n",
       "id                                                      \n",
       "EX_h2o_e                -100    999999.0  4.195663e+01  \n",
       "EX_co2_e                   0    999999.0  2.472880e+01  \n",
       "EX_h_e                  -100    999999.0  6.539237e+00  \n",
       "biomass_dilution          mu          mu  6.346312e-01  \n",
       "EX_ac_e                    0    999999.0  3.902820e-01  \n",
       "DM_5drib_c               0.0    999999.0  4.307514e-04  \n",
       "DM_tripeptide_c          0.0    999999.0  1.858187e-04  \n",
       "DM_amob_c                0.0    999999.0  1.477059e-04  \n",
       "DM_doxopa_c              0.0    999999.0  1.415227e-04  \n",
       "EX_5mtr_e                  0      1000.0  6.474956e-05  \n",
       "DM_RNA_PP_t35            0.0      1000.0  2.728918e-05  \n",
       "DM_RNA_PP_t23            0.0      1000.0  1.364502e-05  \n",
       "DM_RNA_PP_0440           0.0      1000.0  1.172689e-05  \n",
       "DM_RNA_PP_t04            0.0      1000.0  6.329791e-06  \n",
       "DM_RNA_PP_0816           0.0      1000.0  2.378745e-06  \n",
       "DM_RNA_PP_5054           0.0      1000.0  1.987946e-06  \n",
       "DM_RNA_PP_t10            0.0      1000.0  1.593774e-06  \n",
       "DM_RNA_PP_4042           0.0      1000.0  1.507653e-06  \n",
       "DM_RNA_PP_t24            0.0      1000.0  8.051421e-07  \n",
       "DM_RNA_PP_0452           0.0      1000.0  5.778203e-07  "
      ]
     },
     "execution_count": 20,
     "metadata": {},
     "output_type": "execute_result"
    }
   ],
   "source": [
    "from coralme.util.flux_analysis import exchange_single_model,flux_based_reactions\n",
    "exchange_single_model(model).sort_values(\"flux\",ascending=False).head(20)"
   ]
  },
  {
   "cell_type": "code",
   "execution_count": 17,
   "id": "bad39a23-8119-4662-8d74-5086e564a424",
   "metadata": {},
   "outputs": [],
   "source": [
    "model.solution.to_frame().to_csv(\"./predictions/KT2440-UPF36-M9.csv\")"
   ]
  },
  {
   "cell_type": "markdown",
   "id": "11af74bc-5ffd-4fe9-b2ce-8aa227f8a42e",
   "metadata": {},
   "source": [
    "## M-model"
   ]
  },
  {
   "cell_type": "code",
   "execution_count": 1,
   "id": "c5be4960-bfd5-4e75-868b-fb76cf7c189e",
   "metadata": {},
   "outputs": [
    {
     "name": "stdout",
     "output_type": "stream",
     "text": [
      "Set parameter Username\n",
      "Academic license - for non-commercial use only - expires 2025-09-03\n"
     ]
    }
   ],
   "source": [
    "import cobra\n",
    "gem = cobra.io.load_json_model(\"./me_model_files/inputs/m_model.json\")"
   ]
  },
  {
   "cell_type": "markdown",
   "id": "e8c3d2bf-cf07-45b3-8297-27942030f57a",
   "metadata": {},
   "source": [
    "### M9"
   ]
  },
  {
   "cell_type": "code",
   "execution_count": 14,
   "id": "3216970d-3059-42ea-a4af-a661fce429c7",
   "metadata": {},
   "outputs": [],
   "source": [
    "for r in gem.reactions.query(\"^EX_\"):\n",
    "    r.lower_bound = 0"
   ]
  },
  {
   "cell_type": "code",
   "execution_count": 15,
   "id": "709590ad-49fe-4a84-a550-790f977d9e27",
   "metadata": {},
   "outputs": [],
   "source": [
    "medium = pandas.read_csv(\"./media/M9.txt\",index_col=0,header=None,comment=\"#\")[1]\n",
    "for r,b in medium.items():\n",
    "    gem.reactions.get_by_id(r).lower_bound = -b"
   ]
  },
  {
   "cell_type": "code",
   "execution_count": 16,
   "id": "09ec22c8-ecab-4ab7-9923-eb38fbbb3ae3",
   "metadata": {},
   "outputs": [],
   "source": [
    "gem.optimize().to_frame().to_csv(\"./predictions/KT2440-MMODEL-M9.csv\")"
   ]
  },
  {
   "cell_type": "markdown",
   "id": "7a591755-80e7-47fd-8e09-aa8425357bc7",
   "metadata": {},
   "source": [
    "# Comparison"
   ]
  },
  {
   "cell_type": "code",
   "execution_count": 17,
   "id": "c11218d4-d6c9-48c5-a158-046d918ee477",
   "metadata": {},
   "outputs": [],
   "source": [
    "gem.solution = gem.optimize()"
   ]
  },
  {
   "cell_type": "code",
   "execution_count": 32,
   "id": "cb89404e-7229-4a43-b68e-0b4ab638d3b6",
   "metadata": {},
   "outputs": [
    {
     "name": "stderr",
     "output_type": "stream",
     "text": [
      "Building reaction dictionary...                                            : 100.0%|██████████|  2563/ 2563 [00:00<00:00]\n",
      "Processing ME-model Reactions...                                           : 100.0%|██████████| 14414/14414 [00:00<00:00]\n"
     ]
    }
   ],
   "source": [
    "MetabolicFluxes = pandas.concat([gem.solution.to_frame()[[\"fluxes\"]].rename(columns={\"fluxes\":\"m\"}),\n",
    "               pandas.Series(model.get_metabolic_flux()).to_frame().rename(columns={0:\"me\"})],axis=1)"
   ]
  },
  {
   "cell_type": "code",
   "execution_count": 37,
   "id": "ffaeb324-fc3f-429f-abc4-cd73deaf3e5b",
   "metadata": {},
   "outputs": [
    {
     "name": "stderr",
     "output_type": "stream",
     "text": [
      "/home/jt/miniconda3/envs/coralme-1.1.0/lib/python3.10/site-packages/pandas-1.5.1-py3.10-linux-x86_64.egg/pandas/core/internals/blocks.py:351: RuntimeWarning: divide by zero encountered in log10\n",
      "  result = func(self.values, **kwargs)\n"
     ]
    },
    {
     "data": {
      "text/plain": [
       "<Axes: xlabel='m', ylabel='me'>"
      ]
     },
     "execution_count": 37,
     "metadata": {},
     "output_type": "execute_result"
    },
    {
     "data": {
      "image/png": "[encoded data removed]",
      "text/plain": [
       "<Figure size 640x480 with 1 Axes>"
      ]
     },
     "metadata": {},
     "output_type": "display_data"
    }
   ],
   "source": [
    "numpy.log10(MetabolicFluxes.dropna()).plot.scatter(x=\"m\",y=\"me\")"
   ]
  },
  {
   "cell_type": "markdown",
   "id": "aed417ba-43d1-4be9-b16f-0d7eb5e4c5d2",
   "metadata": {},
   "source": [
    "### FVA"
   ]
  },
  {
   "cell_type": "code",
   "execution_count": 41,
   "id": "4b547b56-cc43-4f97-ad55-b5b82738d2fb",
   "metadata": {},
   "outputs": [],
   "source": [
    "from cobra.flux_analysis import flux_variability_analysis"
   ]
  },
  {
   "cell_type": "code",
   "execution_count": 52,
   "id": "da1a95ea-cecf-4542-a0f4-0ea69417fc10",
   "metadata": {},
   "outputs": [
    {
     "name": "stderr",
     "output_type": "stream",
     "text": [
      "/home/jt/miniconda3/envs/coralme-1.1.0/lib/python3.10/site-packages/cobra-0.26.3-py3.10.egg/cobra/util/solver.py:554: UserWarning: Solver status is 'infeasible'.\n",
      "  warn(f\"Solver status is '{status}'.\", UserWarning)\n",
      "Could not get flux for reaction AKGDa, setting it to NaN. This is usually due to numerical instability.\n"
     ]
    }
   ],
   "source": [
    "m_fva = flux_variability_analysis(gem, reaction_list=gem.reactions,fraction_of_optimum=1.0)"
   ]
  },
  {
   "cell_type": "code",
   "execution_count": 51,
   "id": "35e9dc05-e769-4b63-8108-2ff6201e6354",
   "metadata": {},
   "outputs": [
    {
     "data": {
      "text/plain": [
       "<Axes: ylabel='Frequency'>"
      ]
     },
     "execution_count": 51,
     "metadata": {},
     "output_type": "execute_result"
    },
    {
     "data": {
      "image/png": "[encoded data removed]",
      "text/plain": [
       "<Figure size 640x480 with 1 Axes>"
      ]
     },
     "metadata": {},
     "output_type": "display_data"
    }
   ],
   "source": [
    "(m_fva[\"maximum\"] - m_fva[\"minimum\"]).plot.hist(bins=20)"
   ]
  },
  {
   "cell_type": "code",
   "execution_count": null,
   "id": "0b6b6329-190e-4573-a575-830d19f69915",
   "metadata": {},
   "outputs": [
    {
     "name": "stdout",
     "output_type": "stream",
     "text": [
      "Running FVA for 7310 reactions. Maximum growth rate fixed to 0.634631\n"
     ]
    }
   ],
   "source": [
    "me_fva = model.fva(reaction_list=[r for r in model.reactions if isinstance(r,coralme.core.reaction.MetabolicReaction)],\n",
    "                   fraction_of_optimum=1.0)"
   ]
  },
  {
   "cell_type": "code",
   "execution_count": 59,
   "id": "ce8ba832-82a5-4295-bc81-375b217840d4",
   "metadata": {},
   "outputs": [
    {
     "data": {
      "text/plain": [
       "<Axes: ylabel='Frequency'>"
      ]
     },
     "execution_count": 59,
     "metadata": {},
     "output_type": "execute_result"
    },
    {
     "data": {
      "image/png": "[encoded data removed]",
      "text/plain": [
       "<Figure size 640x480 with 1 Axes>"
      ]
     },
     "metadata": {},
     "output_type": "display_data"
    }
   ],
   "source": [
    "(me_fva[\"maximum\"] - me_fva[\"minimum\"]).plot.hist(bins=20)"
   ]
  }
 ],
 "metadata": {
  "kernelspec": {
   "display_name": "coralme-1.1.0",
   "language": "python",
   "name": "coralme-1.1.0"
  },
  "language_info": {
   "codemirror_mode": {
    "name": "ipython",
    "version": 3
   },
   "file_extension": ".py",
   "mimetype": "text/x-python",
   "name": "python",
   "nbconvert_exporter": "python",
   "pygments_lexer": "ipython3",
   "version": "3.10.12"
  }
 },
 "nbformat": 4,
 "nbformat_minor": 5
}
