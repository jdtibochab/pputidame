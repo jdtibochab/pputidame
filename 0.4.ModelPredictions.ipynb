{
 "cells": [
  {
   "cell_type": "markdown",
   "id": "de59f52d-f160-4fe0-939e-3a5135a8e4e0",
   "metadata": {},
   "source": [
    "# M vs. ME predictions"
   ]
  },
  {
   "cell_type": "code",
   "execution_count": 1,
   "id": "55a3a551-34a9-4db1-b93b-bc02703dc54b",
   "metadata": {},
   "outputs": [],
   "source": [
    "import pandas\n",
    "import numpy\n",
    "import matplotlib.pyplot as plt\n",
    "from Bio import SeqIO\n",
    "import re\n",
    "import coralme\n",
    "plt.rcParams['svg.fonttype'] = 'none'\n",
    "pandas.set_option('display.max_colwidth', None)\n",
    "%load_ext autoreload\n",
    "%autoreload 2"
   ]
  },
  {
   "cell_type": "markdown",
   "id": "722eed4c-15d5-4f25-963d-aef1027a9725",
   "metadata": {},
   "source": [
    "## Naive model"
   ]
  },
  {
   "cell_type": "code",
   "execution_count": 2,
   "id": "4fa12f5f-1b91-40e0-9149-b428273653a9",
   "metadata": {},
   "outputs": [],
   "source": [
    "model = coralme.io.pickle.load_pickle_me_model(\"./pputidame/MEModel-step3-pputida-Keff.pkl\")"
   ]
  },
  {
   "cell_type": "code",
   "execution_count": 3,
   "id": "9360e60d-f862-4a83-ac3e-29f7055dc875",
   "metadata": {},
   "outputs": [],
   "source": [
    "medium = pandas.read_csv(\"./media/M9.txt\",index_col=\"ID\",comment=\"#\")[\"Bound\"]\n",
    "def enforce_medium(model,medium):\n",
    "    for r in model.reactions.query(\"^EX_\"):\n",
    "        r.lower_bound = 0\n",
    "    for r,lb in medium.items():\n",
    "        model.reactions.get_by_id(r).lower_bound = lb"
   ]
  },
  {
   "cell_type": "markdown",
   "id": "09612d5b-ef0b-41d4-a243-33aa49cad7e7",
   "metadata": {},
   "source": [
    "### M9"
   ]
  },
  {
   "cell_type": "code",
   "execution_count": 4,
   "id": "89d47966-d0df-4e9d-8cfd-eebdbb28638e",
   "metadata": {},
   "outputs": [],
   "source": [
    "enforce_medium(model,medium)"
   ]
  },
  {
   "cell_type": "code",
   "execution_count": 5,
   "id": "6203ad89-d71a-4959-a660-9eb1d33c3b8b",
   "metadata": {},
   "outputs": [
    {
     "name": "stdout",
     "output_type": "stream",
     "text": [
      "Iteration\t Solution to check\tSolver Status\n",
      "---------\t------------------\t-------------\n",
      "        1\t0.5000000000000000\tNot feasible\n",
      "        2\t0.2500000000000000\tOptimal\n",
      "        3\t0.3750000000000000\tOptimal\n",
      "        4\t0.4375000000000000\tNot feasible\n",
      "        5\t0.4062500000000000\tOptimal\n",
      "        6\t0.4218750000000000\tOptimal\n",
      "        7\t0.4296875000000000\tNot feasible\n",
      "        8\t0.4257812500000000\tOptimal\n",
      "        9\t0.4277343750000000\tNot feasible\n",
      "       10\t0.4267578125000000\tNot feasible\n",
      "       11\t0.4262695312500000\tNot feasible\n",
      "       12\t0.4260253906250000\tNot feasible\n",
      "       13\t0.4259033203125000\tOptimal\n",
      "       14\t0.4259643554687500\tNot feasible\n",
      "       15\t0.4259338378906250\tNot feasible\n",
      "       16\t0.4259185791015625\tOptimal\n",
      "       17\t0.4259262084960938\tOptimal\n",
      "       18\t0.4259300231933594\tOptimal\n",
      "       19\t0.4259319305419922\tOptimal\n",
      "       20\t0.4259328842163086\tOptimal\n"
     ]
    },
    {
     "data": {
      "text/plain": [
       "True"
      ]
     },
     "execution_count": 5,
     "metadata": {},
     "output_type": "execute_result"
    }
   ],
   "source": [
    "model.optimize(max_mu=1.0)"
   ]
  },
  {
   "cell_type": "code",
   "execution_count": 8,
   "id": "04d46e62-3620-45bd-92ca-bb1e06e3f68b",
   "metadata": {},
   "outputs": [],
   "source": [
    "from coralme.util.flux_analysis import exchange_single_model,flux_based_reactions"
   ]
  },
  {
   "cell_type": "code",
   "execution_count": 9,
   "id": "bad39a23-8119-4662-8d74-5086e564a424",
   "metadata": {},
   "outputs": [],
   "source": [
    "model.solution.to_frame().to_csv(\"./datasets/predictions/KT2440-UPF36-M9.csv\")"
   ]
  },
  {
   "cell_type": "markdown",
   "id": "11af74bc-5ffd-4fe9-b2ce-8aa227f8a42e",
   "metadata": {},
   "source": [
    "## M-model"
   ]
  },
  {
   "cell_type": "code",
   "execution_count": 10,
   "id": "c5be4960-bfd5-4e75-868b-fb76cf7c189e",
   "metadata": {},
   "outputs": [
    {
     "name": "stdout",
     "output_type": "stream",
     "text": [
      "Set parameter Username\n",
      "Academic license - for non-commercial use only - expires 2025-09-03\n"
     ]
    }
   ],
   "source": [
    "import cobra\n",
    "gem = cobra.io.load_json_model(\"./pputidame/inputs/m_model.json\")"
   ]
  },
  {
   "cell_type": "markdown",
   "id": "e8c3d2bf-cf07-45b3-8297-27942030f57a",
   "metadata": {},
   "source": [
    "### M9"
   ]
  },
  {
   "cell_type": "code",
   "execution_count": 11,
   "id": "3216970d-3059-42ea-a4af-a661fce429c7",
   "metadata": {},
   "outputs": [],
   "source": [
    "enforce_medium(gem,medium)"
   ]
  },
  {
   "cell_type": "code",
   "execution_count": 12,
   "id": "09ec22c8-ecab-4ab7-9923-eb38fbbb3ae3",
   "metadata": {},
   "outputs": [],
   "source": [
    "gem.optimize().to_frame().to_csv(\"./datasets/predictions/KT2440-MMODEL-M9.csv\")"
   ]
  },
  {
   "cell_type": "markdown",
   "id": "7a591755-80e7-47fd-8e09-aa8425357bc7",
   "metadata": {},
   "source": [
    "# Comparison"
   ]
  },
  {
   "cell_type": "code",
   "execution_count": 13,
   "id": "c11218d4-d6c9-48c5-a158-046d918ee477",
   "metadata": {},
   "outputs": [],
   "source": [
    "gem.solution = gem.optimize()"
   ]
  },
  {
   "cell_type": "code",
   "execution_count": 14,
   "id": "cb89404e-7229-4a43-b68e-0b4ab638d3b6",
   "metadata": {},
   "outputs": [
    {
     "name": "stderr",
     "output_type": "stream",
     "text": [
      "Building reaction dictionary...                                            : 100.0%|██████████|  2563/ 2563 [00:00<00:00]\n",
      "Processing ME-model Reactions...                                           : 100.0%|██████████| 14418/14418 [00:00<00:00]\n"
     ]
    }
   ],
   "source": [
    "MetabolicFluxes = pandas.concat([gem.solution.to_frame()[[\"fluxes\"]].rename(columns={\"fluxes\":\"m\"}),\n",
    "               pandas.Series(model.get_metabolic_flux()).to_frame().rename(columns={0:\"me\"})],axis=1)"
   ]
  },
  {
   "cell_type": "code",
   "execution_count": 15,
   "id": "ffaeb324-fc3f-429f-abc4-cd73deaf3e5b",
   "metadata": {},
   "outputs": [
    {
     "name": "stderr",
     "output_type": "stream",
     "text": [
      "/opt/miniconda3/envs/coralme-1.1.5/lib/python3.10/site-packages/pandas/core/internals/blocks.py:393: RuntimeWarning: divide by zero encountered in log10\n",
      "  result = func(self.values, **kwargs)\n",
      "/opt/miniconda3/envs/coralme-1.1.5/lib/python3.10/site-packages/pandas/core/internals/blocks.py:393: RuntimeWarning: invalid value encountered in log10\n",
      "  result = func(self.values, **kwargs)\n"
     ]
    },
    {
     "data": {
      "text/plain": [
       "<Axes: xlabel='m', ylabel='me'>"
      ]
     },
     "execution_count": 15,
     "metadata": {},
     "output_type": "execute_result"
    },
    {
     "data": {
      "image/png": "[encoded data removed]",
      "text/plain": [
       "<Figure size 640x480 with 1 Axes>"
      ]
     },
     "metadata": {},
     "output_type": "display_data"
    }
   ],
   "source": [
    "numpy.log10(MetabolicFluxes.dropna()).plot.scatter(x=\"m\",y=\"me\")"
   ]
  },
  {
   "cell_type": "markdown",
   "id": "5026d8e4-4944-4614-a6d9-3d7bd3be5754",
   "metadata": {},
   "source": [
    "### Save simulation conditions"
   ]
  },
  {
   "cell_type": "code",
   "execution_count": 16,
   "id": "5eaa0d4a-d1f6-4387-b0ce-addb62389111",
   "metadata": {},
   "outputs": [],
   "source": [
    "def save_dict_of_dataframes_to_excel(dict_of_dataframes, excel_filename):\n",
    "    \"\"\"\n",
    "    Save a dictionary of dataframes into an Excel worksheet, with each dataframe in a separate sheet.\n",
    "\n",
    "    Parameters:\n",
    "    - dict_of_dataframes (dict): A dictionary where keys are sheet names and values are dataframes.\n",
    "    - excel_filename (str): The name of the Excel file to be created.\n",
    "\n",
    "    Example:\n",
    "    ```python\n",
    "    dataframes_dict = {'Sheet1': df1, 'Sheet2': df2, 'Sheet3': df3}\n",
    "    save_dict_of_dataframes_to_excel(dataframes_dict, 'output.xlsx')\n",
    "    ```\n",
    "    \"\"\"\n",
    "    with pandas.ExcelWriter(excel_filename, engine='xlsxwriter') as writer:\n",
    "        for sheet_name, dataframe in dict_of_dataframes.items():\n",
    "            dataframe.to_excel(writer, sheet_name=sheet_name, index=True)\n"
   ]
  },
  {
   "cell_type": "code",
   "execution_count": 17,
   "id": "e2557c1d-7628-4b9d-b200-c73cc86eb03a",
   "metadata": {},
   "outputs": [],
   "source": [
    "dct = {\n",
    "    \"Constraints\" : pandas.Series({r.id:r.lower_bound for r in model.reactions.query(\"^EX_\") if r.lower_bound<0}),\n",
    "    \"ME-model simulations\" : pandas.read_csv(\"./datasets/predictions/KT2440-UPF36-M9.csv\",index_col=0),\n",
    "    \"M-model simulations\" : pandas.read_csv(\"./datasets/predictions/KT2440-MMODEL-M9.csv\",index_col=0),\n",
    "}"
   ]
  },
  {
   "cell_type": "code",
   "execution_count": 18,
   "id": "d594547e-c475-4681-9282-2b5028997f14",
   "metadata": {},
   "outputs": [],
   "source": [
    "save_dict_of_dataframes_to_excel(dct,\"./datasets/supplementary/SupplementaryTable2.xlsx\")"
   ]
  }
 ],
 "metadata": {
  "kernelspec": {
   "display_name": "coralme-1.1.5",
   "language": "python",
   "name": "coralme-1.1.5"
  },
  "language_info": {
   "codemirror_mode": {
    "name": "ipython",
    "version": 3
   },
   "file_extension": ".py",
   "mimetype": "text/x-python",
   "name": "python",
   "nbconvert_exporter": "python",
   "pygments_lexer": "ipython3",
   "version": "3.10.12"
  }
 },
 "nbformat": 4,
 "nbformat_minor": 5
}
