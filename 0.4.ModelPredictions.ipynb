{
 "cells": [
  {
   "cell_type": "markdown",
   "id": "de59f52d-f160-4fe0-939e-3a5135a8e4e0",
   "metadata": {},
   "source": [
    "# M vs. ME predictions"
   ]
  },
  {
   "cell_type": "code",
   "execution_count": 5,
   "id": "55a3a551-34a9-4db1-b93b-bc02703dc54b",
   "metadata": {},
   "outputs": [
    {
     "name": "stdout",
     "output_type": "stream",
     "text": [
      "The autoreload extension is already loaded. To reload it, use:\n",
      "  %reload_ext autoreload\n"
     ]
    }
   ],
   "source": [
    "import pandas\n",
    "import numpy\n",
    "import matplotlib.pyplot as plt\n",
    "from Bio import SeqIO\n",
    "import re\n",
    "import coralme\n",
    "plt.rcParams['svg.fonttype'] = 'none'\n",
    "pandas.set_option('display.max_colwidth', None)\n",
    "%load_ext autoreload\n",
    "%autoreload 2"
   ]
  },
  {
   "cell_type": "markdown",
   "id": "722eed4c-15d5-4f25-963d-aef1027a9725",
   "metadata": {},
   "source": [
    "## Naive model"
   ]
  },
  {
   "cell_type": "code",
   "execution_count": 6,
   "id": "4fa12f5f-1b91-40e0-9149-b428273653a9",
   "metadata": {},
   "outputs": [],
   "source": [
    "model = coralme.io.pickle.load_pickle_me_model(\"./pputidame/MEModel-step3-pputida-Keff.pkl\")"
   ]
  },
  {
   "cell_type": "markdown",
   "id": "09612d5b-ef0b-41d4-a243-33aa49cad7e7",
   "metadata": {},
   "source": [
    "### M9"
   ]
  },
  {
   "cell_type": "code",
   "execution_count": 7,
   "id": "c5d1f87b-2f2d-43e1-9aa3-363a4bac87c2",
   "metadata": {},
   "outputs": [],
   "source": [
    "for r in model.reactions.query(\"^EX_\"):\n",
    "    r.lower_bound = 0"
   ]
  },
  {
   "cell_type": "code",
   "execution_count": 8,
   "id": "89d47966-d0df-4e9d-8cfd-eebdbb28638e",
   "metadata": {},
   "outputs": [],
   "source": [
    "medium = pandas.read_csv(\"./media/M9.txt\",index_col=0,header=None,comment=\"#\")[1]\n",
    "for r,b in medium.items():\n",
    "    model.reactions.get_by_id(r).lower_bound = -b"
   ]
  },
  {
   "cell_type": "code",
   "execution_count": 9,
   "id": "6203ad89-d71a-4959-a660-9eb1d33c3b8b",
   "metadata": {},
   "outputs": [
    {
     "name": "stdout",
     "output_type": "stream",
     "text": [
      "Iteration\t Solution to check\tSolver Status\n",
      "---------\t------------------\t-------------\n",
      "        1\t0.5000000000000000\tNot feasible\n",
      "        2\t0.2500000000000000\tOptimal\n",
      "        3\t0.3750000000000000\tOptimal\n",
      "        4\t0.4375000000000000\tNot feasible\n",
      "        5\t0.4062500000000000\tOptimal\n",
      "        6\t0.4218750000000000\tOptimal\n",
      "        7\t0.4296875000000000\tNot feasible\n",
      "        8\t0.4257812500000000\tOptimal\n",
      "        9\t0.4277343750000000\tNot feasible\n",
      "       10\t0.4267578125000000\tNot feasible\n",
      "       11\t0.4262695312500000\tNot feasible\n",
      "       12\t0.4260253906250000\tNot feasible\n",
      "       13\t0.4259033203125000\tOptimal\n",
      "       14\t0.4259643554687500\tNot feasible\n",
      "       15\t0.4259338378906250\tNot feasible\n",
      "       16\t0.4259185791015625\tOptimal\n",
      "       17\t0.4259262084960938\tOptimal\n",
      "       18\t0.4259300231933594\tOptimal\n",
      "       19\t0.4259319305419922\tOptimal\n",
      "       20\t0.4259328842163086\tOptimal\n"
     ]
    },
    {
     "data": {
      "text/plain": [
       "True"
      ]
     },
     "execution_count": 9,
     "metadata": {},
     "output_type": "execute_result"
    }
   ],
   "source": [
    "model.optimize(max_mu=1.0)"
   ]
  },
  {
   "cell_type": "code",
   "execution_count": 6,
   "id": "04d46e62-3620-45bd-92ca-bb1e06e3f68b",
   "metadata": {},
   "outputs": [
    {
     "data": {
      "text/html": [
       "<div>\n",
       "<style scoped>\n",
       "    .dataframe tbody tr th:only-of-type {\n",
       "        vertical-align: middle;\n",
       "    }\n",
       "\n",
       "    .dataframe tbody tr th {\n",
       "        vertical-align: top;\n",
       "    }\n",
       "\n",
       "    .dataframe thead th {\n",
       "        text-align: right;\n",
       "    }\n",
       "</style>\n",
       "<table border=\"1\" class=\"dataframe\">\n",
       "  <thead>\n",
       "    <tr style=\"text-align: right;\">\n",
       "      <th></th>\n",
       "      <th>name</th>\n",
       "      <th>reaction</th>\n",
       "      <th>lower_bound</th>\n",
       "      <th>upper_bound</th>\n",
       "      <th>flux</th>\n",
       "    </tr>\n",
       "    <tr>\n",
       "      <th>id</th>\n",
       "      <th></th>\n",
       "      <th></th>\n",
       "      <th></th>\n",
       "      <th></th>\n",
       "      <th></th>\n",
       "    </tr>\n",
       "  </thead>\n",
       "  <tbody>\n",
       "    <tr>\n",
       "      <th>EX_h2o_e</th>\n",
       "      <td></td>\n",
       "      <td>1.0 h2o_e &lt;=&gt;</td>\n",
       "      <td>-100</td>\n",
       "      <td>999999.0</td>\n",
       "      <td>2.315452e+01</td>\n",
       "    </tr>\n",
       "    <tr>\n",
       "      <th>EX_co2_e</th>\n",
       "      <td></td>\n",
       "      <td>1.0 co2_e --&gt;</td>\n",
       "      <td>0</td>\n",
       "      <td>999999.0</td>\n",
       "      <td>1.168467e+01</td>\n",
       "    </tr>\n",
       "    <tr>\n",
       "      <th>EX_h_e</th>\n",
       "      <td></td>\n",
       "      <td>1.0 h_e &lt;=&gt;</td>\n",
       "      <td>-100</td>\n",
       "      <td>999999.0</td>\n",
       "      <td>3.988917e+00</td>\n",
       "    </tr>\n",
       "    <tr>\n",
       "      <th>biomass_dilution</th>\n",
       "      <td></td>\n",
       "      <td>1.0 biomass --&gt;</td>\n",
       "      <td>mu</td>\n",
       "      <td>mu</td>\n",
       "      <td>4.259329e-01</td>\n",
       "    </tr>\n",
       "    <tr>\n",
       "      <th>DM_5drib_c</th>\n",
       "      <td></td>\n",
       "      <td>1.0 5drib_c --&gt;</td>\n",
       "      <td>0.0</td>\n",
       "      <td>999999.0</td>\n",
       "      <td>2.880936e-04</td>\n",
       "    </tr>\n",
       "    <tr>\n",
       "      <th>DM_tripeptide_c</th>\n",
       "      <td></td>\n",
       "      <td>1.0 tripeptide_c --&gt;</td>\n",
       "      <td>0.0</td>\n",
       "      <td>999999.0</td>\n",
       "      <td>1.140660e-04</td>\n",
       "    </tr>\n",
       "    <tr>\n",
       "      <th>DM_amob_c</th>\n",
       "      <td></td>\n",
       "      <td>1.0 amob_c --&gt;</td>\n",
       "      <td>0.0</td>\n",
       "      <td>999999.0</td>\n",
       "      <td>9.812750e-05</td>\n",
       "    </tr>\n",
       "    <tr>\n",
       "      <th>DM_doxopa_c</th>\n",
       "      <td></td>\n",
       "      <td>1.0 doxopa_c --&gt;</td>\n",
       "      <td>0.0</td>\n",
       "      <td>999999.0</td>\n",
       "      <td>9.526288e-05</td>\n",
       "    </tr>\n",
       "    <tr>\n",
       "      <th>EX_5mtr_e</th>\n",
       "      <td></td>\n",
       "      <td>1.0 5mtr_e --&gt;</td>\n",
       "      <td>0</td>\n",
       "      <td>1000.0</td>\n",
       "      <td>3.527903e-05</td>\n",
       "    </tr>\n",
       "    <tr>\n",
       "      <th>DM_RNA_PP_t05</th>\n",
       "      <td></td>\n",
       "      <td>1.0 RNA_PP_t05 + 24.647971757 tRNA_biomass --&gt;</td>\n",
       "      <td>0.0</td>\n",
       "      <td>1000.0</td>\n",
       "      <td>1.501258e-05</td>\n",
       "    </tr>\n",
       "    <tr>\n",
       "      <th>DM_RNA_PP_t02</th>\n",
       "      <td></td>\n",
       "      <td>1.0 RNA_PP_t02 + 23.819586314 tRNA_biomass --&gt;</td>\n",
       "      <td>0.0</td>\n",
       "      <td>1000.0</td>\n",
       "      <td>6.437614e-06</td>\n",
       "    </tr>\n",
       "    <tr>\n",
       "      <th>DM_RNA_PP_0440</th>\n",
       "      <td></td>\n",
       "      <td>1.0 RNA_PP_0440 + 383.46967079399997 mRNA_biomass --&gt;</td>\n",
       "      <td>0.0</td>\n",
       "      <td>1000.0</td>\n",
       "      <td>6.437614e-06</td>\n",
       "    </tr>\n",
       "    <tr>\n",
       "      <th>DM_RNA_PP_t04</th>\n",
       "      <td></td>\n",
       "      <td>1.0 RNA_PP_t04 + 24.381853035999995 tRNA_biomass --&gt;</td>\n",
       "      <td>0.0</td>\n",
       "      <td>1000.0</td>\n",
       "      <td>3.511700e-06</td>\n",
       "    </tr>\n",
       "    <tr>\n",
       "      <th>DM_RNA_PP_t08</th>\n",
       "      <td></td>\n",
       "      <td>1.0 RNA_PP_t08 + 24.731070257000002 tRNA_biomass --&gt;</td>\n",
       "      <td>0.0</td>\n",
       "      <td>1000.0</td>\n",
       "      <td>1.055919e-06</td>\n",
       "    </tr>\n",
       "    <tr>\n",
       "      <th>DM_RNA_PP_5054</th>\n",
       "      <td></td>\n",
       "      <td>1.0 RNA_PP_5054 + 81.808395755 mRNA_biomass --&gt;</td>\n",
       "      <td>0.0</td>\n",
       "      <td>1000.0</td>\n",
       "      <td>1.012260e-06</td>\n",
       "    </tr>\n",
       "    <tr>\n",
       "      <th>DM_RNA_PP_0816</th>\n",
       "      <td></td>\n",
       "      <td>1.0 RNA_PP_0816 + 285.991429988 mRNA_biomass --&gt;</td>\n",
       "      <td>0.0</td>\n",
       "      <td>1000.0</td>\n",
       "      <td>9.634752e-07</td>\n",
       "    </tr>\n",
       "    <tr>\n",
       "      <th>DM_RNA_PP_t24</th>\n",
       "      <td></td>\n",
       "      <td>1.0 RNA_PP_t24 + 24.378898755999998 tRNA_biomass --&gt;</td>\n",
       "      <td>0.0</td>\n",
       "      <td>1000.0</td>\n",
       "      <td>8.571431e-07</td>\n",
       "    </tr>\n",
       "    <tr>\n",
       "      <th>DM_RNA_PP_1023</th>\n",
       "      <td></td>\n",
       "      <td>1.0 RNA_PP_1023 + 234.456532429 mRNA_biomass --&gt;</td>\n",
       "      <td>0.0</td>\n",
       "      <td>1000.0</td>\n",
       "      <td>6.069276e-07</td>\n",
       "    </tr>\n",
       "    <tr>\n",
       "      <th>DM_RNA_PP_1022</th>\n",
       "      <td></td>\n",
       "      <td>1.0 RNA_PP_1022 + 472.27801257 mRNA_biomass --&gt;</td>\n",
       "      <td>0.0</td>\n",
       "      <td>1000.0</td>\n",
       "      <td>6.069276e-07</td>\n",
       "    </tr>\n",
       "    <tr>\n",
       "      <th>DM_RNA_PP_1464</th>\n",
       "      <td></td>\n",
       "      <td>1.0 RNA_PP_1464 + 240.918762133 mRNA_biomass --&gt;</td>\n",
       "      <td>0.0</td>\n",
       "      <td>1000.0</td>\n",
       "      <td>3.694794e-07</td>\n",
       "    </tr>\n",
       "  </tbody>\n",
       "</table>\n",
       "</div>"
      ],
      "text/plain": [
       "                 name                                                reaction  \\\n",
       "id                                                                              \n",
       "EX_h2o_e                                                       1.0 h2o_e <=>    \n",
       "EX_co2_e                                                       1.0 co2_e -->    \n",
       "EX_h_e                                                           1.0 h_e <=>    \n",
       "biomass_dilution                                             1.0 biomass -->    \n",
       "DM_5drib_c                                                   1.0 5drib_c -->    \n",
       "DM_tripeptide_c                                         1.0 tripeptide_c -->    \n",
       "DM_amob_c                                                     1.0 amob_c -->    \n",
       "DM_doxopa_c                                                 1.0 doxopa_c -->    \n",
       "EX_5mtr_e                                                     1.0 5mtr_e -->    \n",
       "DM_RNA_PP_t05                 1.0 RNA_PP_t05 + 24.647971757 tRNA_biomass -->    \n",
       "DM_RNA_PP_t02                 1.0 RNA_PP_t02 + 23.819586314 tRNA_biomass -->    \n",
       "DM_RNA_PP_0440         1.0 RNA_PP_0440 + 383.46967079399997 mRNA_biomass -->    \n",
       "DM_RNA_PP_t04           1.0 RNA_PP_t04 + 24.381853035999995 tRNA_biomass -->    \n",
       "DM_RNA_PP_t08           1.0 RNA_PP_t08 + 24.731070257000002 tRNA_biomass -->    \n",
       "DM_RNA_PP_5054               1.0 RNA_PP_5054 + 81.808395755 mRNA_biomass -->    \n",
       "DM_RNA_PP_0816              1.0 RNA_PP_0816 + 285.991429988 mRNA_biomass -->    \n",
       "DM_RNA_PP_t24           1.0 RNA_PP_t24 + 24.378898755999998 tRNA_biomass -->    \n",
       "DM_RNA_PP_1023              1.0 RNA_PP_1023 + 234.456532429 mRNA_biomass -->    \n",
       "DM_RNA_PP_1022               1.0 RNA_PP_1022 + 472.27801257 mRNA_biomass -->    \n",
       "DM_RNA_PP_1464              1.0 RNA_PP_1464 + 240.918762133 mRNA_biomass -->    \n",
       "\n",
       "                 lower_bound upper_bound          flux  \n",
       "id                                                      \n",
       "EX_h2o_e                -100    999999.0  2.315452e+01  \n",
       "EX_co2_e                   0    999999.0  1.168467e+01  \n",
       "EX_h_e                  -100    999999.0  3.988917e+00  \n",
       "biomass_dilution          mu          mu  4.259329e-01  \n",
       "DM_5drib_c               0.0    999999.0  2.880936e-04  \n",
       "DM_tripeptide_c          0.0    999999.0  1.140660e-04  \n",
       "DM_amob_c                0.0    999999.0  9.812750e-05  \n",
       "DM_doxopa_c              0.0    999999.0  9.526288e-05  \n",
       "EX_5mtr_e                  0      1000.0  3.527903e-05  \n",
       "DM_RNA_PP_t05            0.0      1000.0  1.501258e-05  \n",
       "DM_RNA_PP_t02            0.0      1000.0  6.437614e-06  \n",
       "DM_RNA_PP_0440           0.0      1000.0  6.437614e-06  \n",
       "DM_RNA_PP_t04            0.0      1000.0  3.511700e-06  \n",
       "DM_RNA_PP_t08            0.0      1000.0  1.055919e-06  \n",
       "DM_RNA_PP_5054           0.0      1000.0  1.012260e-06  \n",
       "DM_RNA_PP_0816           0.0      1000.0  9.634752e-07  \n",
       "DM_RNA_PP_t24            0.0      1000.0  8.571431e-07  \n",
       "DM_RNA_PP_1023           0.0      1000.0  6.069276e-07  \n",
       "DM_RNA_PP_1022           0.0      1000.0  6.069276e-07  \n",
       "DM_RNA_PP_1464           0.0      1000.0  3.694794e-07  "
      ]
     },
     "execution_count": 6,
     "metadata": {},
     "output_type": "execute_result"
    }
   ],
   "source": [
    "from coralme.util.flux_analysis import exchange_single_model,flux_based_reactions\n",
    "exchange_single_model(model).sort_values(\"flux\",ascending=False).head(20)"
   ]
  },
  {
   "cell_type": "code",
   "execution_count": 7,
   "id": "bad39a23-8119-4662-8d74-5086e564a424",
   "metadata": {},
   "outputs": [],
   "source": [
    "model.solution.to_frame().to_csv(\"./datasets/predictions/KT2440-UPF36-M9.csv\")"
   ]
  },
  {
   "cell_type": "markdown",
   "id": "11af74bc-5ffd-4fe9-b2ce-8aa227f8a42e",
   "metadata": {},
   "source": [
    "## M-model"
   ]
  },
  {
   "cell_type": "code",
   "execution_count": 8,
   "id": "c5be4960-bfd5-4e75-868b-fb76cf7c189e",
   "metadata": {},
   "outputs": [],
   "source": [
    "import cobra\n",
    "gem = cobra.io.load_json_model(\"./pputidame/inputs/m_model.json\")"
   ]
  },
  {
   "cell_type": "markdown",
   "id": "e8c3d2bf-cf07-45b3-8297-27942030f57a",
   "metadata": {},
   "source": [
    "### M9"
   ]
  },
  {
   "cell_type": "code",
   "execution_count": 10,
   "id": "3216970d-3059-42ea-a4af-a661fce429c7",
   "metadata": {},
   "outputs": [],
   "source": [
    "for r in gem.reactions.query(\"^EX_\"):\n",
    "    r.lower_bound = 0"
   ]
  },
  {
   "cell_type": "code",
   "execution_count": 11,
   "id": "709590ad-49fe-4a84-a550-790f977d9e27",
   "metadata": {},
   "outputs": [],
   "source": [
    "medium = pandas.read_csv(\"./media/M9.txt\",index_col=0,header=None,comment=\"#\")[1]\n",
    "for r,b in medium.items():\n",
    "    gem.reactions.get_by_id(r).lower_bound = -b"
   ]
  },
  {
   "cell_type": "code",
   "execution_count": 12,
   "id": "09ec22c8-ecab-4ab7-9923-eb38fbbb3ae3",
   "metadata": {},
   "outputs": [],
   "source": [
    "gem.optimize().to_frame().to_csv(\"./datasets/predictions/KT2440-MMODEL-M9.csv\")"
   ]
  },
  {
   "cell_type": "markdown",
   "id": "7a591755-80e7-47fd-8e09-aa8425357bc7",
   "metadata": {},
   "source": [
    "# Comparison"
   ]
  },
  {
   "cell_type": "code",
   "execution_count": 13,
   "id": "c11218d4-d6c9-48c5-a158-046d918ee477",
   "metadata": {},
   "outputs": [],
   "source": [
    "gem.solution = gem.optimize()"
   ]
  },
  {
   "cell_type": "code",
   "execution_count": 14,
   "id": "cb89404e-7229-4a43-b68e-0b4ab638d3b6",
   "metadata": {},
   "outputs": [
    {
     "name": "stderr",
     "output_type": "stream",
     "text": [
      "Building reaction dictionary...                                            : 100.0%|██████████|  2563/ 2563 [00:00<00:00]\n",
      "Processing ME-model Reactions...                                           : 100.0%|██████████| 14418/14418 [00:00<00:00]\n"
     ]
    }
   ],
   "source": [
    "MetabolicFluxes = pandas.concat([gem.solution.to_frame()[[\"fluxes\"]].rename(columns={\"fluxes\":\"m\"}),\n",
    "               pandas.Series(model.get_metabolic_flux()).to_frame().rename(columns={0:\"me\"})],axis=1)"
   ]
  },
  {
   "cell_type": "code",
   "execution_count": 15,
   "id": "ffaeb324-fc3f-429f-abc4-cd73deaf3e5b",
   "metadata": {},
   "outputs": [
    {
     "name": "stderr",
     "output_type": "stream",
     "text": [
      "/home/jt/miniconda3/envs/coralme-1.1.5/lib/python3.10/site-packages/pandas/core/internals/blocks.py:393: RuntimeWarning: divide by zero encountered in log10\n",
      "  result = func(self.values, **kwargs)\n",
      "/home/jt/miniconda3/envs/coralme-1.1.5/lib/python3.10/site-packages/pandas/core/internals/blocks.py:393: RuntimeWarning: invalid value encountered in log10\n",
      "  result = func(self.values, **kwargs)\n"
     ]
    },
    {
     "data": {
      "text/plain": [
       "<Axes: xlabel='m', ylabel='me'>"
      ]
     },
     "execution_count": 15,
     "metadata": {},
     "output_type": "execute_result"
    },
    {
     "data": {
      "image/png": "[encoded data removed]",
      "text/plain": [
       "<Figure size 640x480 with 1 Axes>"
      ]
     },
     "metadata": {},
     "output_type": "display_data"
    }
   ],
   "source": [
    "numpy.log10(MetabolicFluxes.dropna()).plot.scatter(x=\"m\",y=\"me\")"
   ]
  }
 ],
 "metadata": {
  "kernelspec": {
   "display_name": "coralme-1.1.5",
   "language": "python",
   "name": "coralme-1.1.5"
  },
  "language_info": {
   "codemirror_mode": {
    "name": "ipython",
    "version": 3
   },
   "file_extension": ".py",
   "mimetype": "text/x-python",
   "name": "python",
   "nbconvert_exporter": "python",
   "pygments_lexer": "ipython3",
   "version": "3.10.12"
  }
 },
 "nbformat": 4,
 "nbformat_minor": 5
}
