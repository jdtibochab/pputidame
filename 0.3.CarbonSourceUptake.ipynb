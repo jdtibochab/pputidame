{
 "cells": [
  {
   "cell_type": "code",
   "execution_count": null,
   "id": "55a3a551-34a9-4db1-b93b-bc02703dc54b",
   "metadata": {},
   "outputs": [],
   "source": [
    "import pandas\n",
    "import numpy\n",
    "import matplotlib.pyplot as plt\n",
    "from Bio import SeqIO\n",
    "import re\n",
    "import coralme\n",
    "plt.rcParams['svg.fonttype'] = 'none'\n",
    "pandas.set_option('display.max_colwidth', None)\n",
    "%load_ext autoreload\n",
    "%autoreload 2\n"
   ]
  },
  {
   "cell_type": "code",
   "execution_count": null,
   "id": "ba9c38d7-ce28-4194-9974-5d05fbd7a8c7",
   "metadata": {},
   "outputs": [],
   "source": [
    "medium = pandas.read_csv(\"./media/M9.txt\",index_col=0,header=None,comment=\"#\")[1]"
   ]
  },
  {
   "cell_type": "markdown",
   "id": "722eed4c-15d5-4f25-963d-aef1027a9725",
   "metadata": {},
   "source": [
    "## ME-model"
   ]
  },
  {
   "cell_type": "code",
   "execution_count": null,
   "id": "4fa12f5f-1b91-40e0-9149-b428273653a9",
   "metadata": {},
   "outputs": [],
   "source": [
    "# model = coralme.io.pickle.load_pickle_me_model(\"./me_model_files/KT2440-DLKcat.pkl\")\n",
    "me = coralme.io.pickle.load_pickle_me_model(\"./pputidame/MEModel-step3-pputida-Keff.pkl\")"
   ]
  },
  {
   "cell_type": "code",
   "execution_count": null,
   "id": "c5d1f87b-2f2d-43e1-9aa3-363a4bac87c2",
   "metadata": {},
   "outputs": [],
   "source": [
    "for r in me.reactions.query(\"^EX_\"):\n",
    "    r.lower_bound = 0"
   ]
  },
  {
   "cell_type": "code",
   "execution_count": null,
   "id": "89d47966-d0df-4e9d-8cfd-eebdbb28638e",
   "metadata": {},
   "outputs": [],
   "source": [
    "for r,b in medium.items():\n",
    "    me.reactions.get_by_id(r).lower_bound = -b"
   ]
  },
  {
   "cell_type": "markdown",
   "id": "769c57ac-28bc-4c62-bd60-5f0973bb7288",
   "metadata": {},
   "source": [
    "## M-model"
   ]
  },
  {
   "cell_type": "code",
   "execution_count": null,
   "id": "c5be4960-bfd5-4e75-868b-fb76cf7c189e",
   "metadata": {},
   "outputs": [],
   "source": [
    "import cobra\n",
    "model = cobra.io.load_json_model(\"./me_model_files/inputs/m_model.json\")"
   ]
  },
  {
   "cell_type": "code",
   "execution_count": null,
   "id": "3216970d-3059-42ea-a4af-a661fce429c7",
   "metadata": {},
   "outputs": [],
   "source": [
    "for r in model.reactions.query(\"^EX_\"):\n",
    "    r.lower_bound = 0"
   ]
  },
  {
   "cell_type": "code",
   "execution_count": null,
   "id": "709590ad-49fe-4a84-a550-790f977d9e27",
   "metadata": {},
   "outputs": [],
   "source": [
    "medium = pandas.read_csv(\"./media/M9.txt\",index_col=0,header=None,comment=\"#\")[1]\n",
    "for r,b in medium.items():\n",
    "    model.reactions.get_by_id(r).lower_bound = -b"
   ]
  },
  {
   "cell_type": "markdown",
   "id": "af6c280e-a7e5-44ae-91de-16cc33607c6c",
   "metadata": {},
   "source": [
    "## Simulations"
   ]
  },
  {
   "cell_type": "code",
   "execution_count": null,
   "id": "664b6f31-c3aa-4a4b-802f-5b663be61477",
   "metadata": {},
   "outputs": [],
   "source": [
    "from tqdm import tqdm"
   ]
  },
  {
   "cell_type": "code",
   "execution_count": null,
   "id": "e8085e3d-8551-4243-a9cd-3d7ed7ce2744",
   "metadata": {},
   "outputs": [],
   "source": [
    "bounds = numpy.arange(1,12,1)\n",
    "results = {\"m\":{b:{} for b in bounds},\"me\":{b:{} for b in bounds}}"
   ]
  },
  {
   "cell_type": "code",
   "execution_count": null,
   "id": "be1c1d94-b7af-42d5-a401-d80ef493e7e2",
   "metadata": {},
   "outputs": [],
   "source": [
    "for b in tqdm(bounds):\n",
    "    model.reactions.get_by_id(\"EX_glc__D_e\").lower_bound = -b\n",
    "    model.reactions.get_by_id(\"EX_glc__D_e\").upper_bound = -b\n",
    "    results[\"m\"][b] = model.optimize().to_frame()[\"fluxes\"]"
   ]
  },
  {
   "cell_type": "code",
   "execution_count": null,
   "id": "a96c6278-4a05-4847-9c64-31b4e1ede3f4",
   "metadata": {
    "scrolled": true
   },
   "outputs": [],
   "source": [
    "for b in tqdm(bounds):\n",
    "    me.reactions.get_by_id(\"EX_glc__D_e\").lower_bound = -b\n",
    "    me.reactions.get_by_id(\"EX_glc__D_e\").upper_bound = -b\n",
    "    me.optimize(max_mu=1.0)\n",
    "    results[\"me\"][b] = me.solution.to_frame()[\"fluxes\"]"
   ]
  },
  {
   "cell_type": "code",
   "execution_count": null,
   "id": "c16ac853-3dbd-4226-b563-88c74092159d",
   "metadata": {},
   "outputs": [],
   "source": [
    "for i,df in results.items():\n",
    "    results[i] = pandas.DataFrame.from_dict(results[i])"
   ]
  },
  {
   "cell_type": "code",
   "execution_count": null,
   "id": "e8f0fdd7-b874-49d3-98a1-455bd71a8bb1",
   "metadata": {},
   "outputs": [],
   "source": [
    "results[\"m\"].to_csv(\"./datasets/carbon-source-uptake/m-fluxes.csv\")\n",
    "results[\"me\"].to_csv(\"./datasets/carbon-source-uptake/me-fluxes.csv\")"
   ]
  },
  {
   "cell_type": "markdown",
   "id": "adfef066-ac9a-4980-90d5-aedb9b35fc7f",
   "metadata": {},
   "source": [
    "### Compare with experimental results"
   ]
  },
  {
   "cell_type": "code",
   "execution_count": null,
   "id": "455065cc-5649-4037-b95d-f2598e248e32",
   "metadata": {},
   "outputs": [],
   "source": [
    "experimental = pandas.read_csv(\"./datasets/carbon-source-uptake/references.csv\",index_col=0,comment=\"#\")\n",
    "experimental[\"In vivo\"] = experimental[\"In vivo\"].apply(lambda x:x.split(\"/\")[0]).astype(float)\n",
    "experimental = experimental.drop(\"Gluconate\")"
   ]
  },
  {
   "cell_type": "code",
   "execution_count": null,
   "id": "134ac949-d21c-4f2a-8698-67aa2c7f6724",
   "metadata": {},
   "outputs": [],
   "source": [
    "experimental"
   ]
  },
  {
   "cell_type": "code",
   "execution_count": null,
   "id": "28a1d882-f2ce-45df-ad68-3687a8e5f2c5",
   "metadata": {},
   "outputs": [],
   "source": [
    "experimental[\"In vivo\"].mean(),experimental[\"In vivo\"].std()"
   ]
  },
  {
   "cell_type": "code",
   "execution_count": null,
   "id": "1be8214d-9005-4ce5-aad2-8d6436632280",
   "metadata": {},
   "outputs": [],
   "source": [
    "experimental[\"uptake\"].mean(),experimental[\"uptake\"].std()"
   ]
  },
  {
   "cell_type": "code",
   "execution_count": null,
   "id": "2ffc0a1b-f193-4313-ac1b-06005119e1af",
   "metadata": {},
   "outputs": [],
   "source": [
    "fig,ax=plt.subplots(1,1,figsize=(7,5))\n",
    "results[\"m\"].loc[\"BIOMASS_KT2440_WT3\"].plot(marker=\"o\",ax=ax,label=\"m\",color=\"#fdae61\")\n",
    "results[\"me\"].loc[\"biomass_dilution\"].plot(marker=\"o\",ax=ax,label=\"me\",color=\"#2b83ba\")\n",
    "\n",
    "for i,row in experimental.iterrows():\n",
    "    plt.plot(row[\"uptake\"],row[\"In vivo\"],\"*\",color=\"black\",markersize=10)\n",
    "    plt.text(row[\"uptake\"]+0.2,row[\"In vivo\"]-0.01,row[\"Reference\"])\n",
    "\n",
    "plt.ylabel(\"Growth rate, 1/h\")\n",
    "plt.xlabel(\"Glucose uptake rate\")\n",
    "plt.xlim([0,12])\n",
    "plt.legend()\n",
    "plt.savefig(\"./figures/growth-rate-performance.svg\",format=\"svg\")"
   ]
  },
  {
   "cell_type": "code",
   "execution_count": null,
   "id": "7478a72d-4c93-4f66-82a3-636cd2548db0",
   "metadata": {},
   "outputs": [],
   "source": [
    "from coralme.util.flux_analysis import exchange_single_model"
   ]
  },
  {
   "cell_type": "code",
   "execution_count": null,
   "id": "684c38de-1ba8-4b04-a501-0823945b2b2b",
   "metadata": {},
   "outputs": [],
   "source": [
    "model.solution = model.optimize()"
   ]
  },
  {
   "cell_type": "code",
   "execution_count": null,
   "id": "eb7125b1-01f2-4c8c-9a5e-1df95330b6c4",
   "metadata": {
    "scrolled": true
   },
   "outputs": [],
   "source": [
    "for r in model.reactions:\n",
    "    f = model.solution.fluxes[r.id]\n",
    "    lb,ub = r.bounds\n",
    "    if not f:\n",
    "        continue\n",
    "    if abs(f-lb) < 1e-6 or abs(f-ub) < 1e-6:\n",
    "        print(r, f, lb, ub)"
   ]
  },
  {
   "cell_type": "code",
   "execution_count": null,
   "id": "fa18a622-68f3-4278-bd0d-b48845a67c01",
   "metadata": {},
   "outputs": [],
   "source": []
  }
 ],
 "metadata": {
  "kernelspec": {
   "display_name": "coralme-1.1.0",
   "language": "python",
   "name": "coralme-1.1.0"
  },
  "language_info": {
   "codemirror_mode": {
    "name": "ipython",
    "version": 3
   },
   "file_extension": ".py",
   "mimetype": "text/x-python",
   "name": "python",
   "nbconvert_exporter": "python",
   "pygments_lexer": "ipython3",
   "version": "3.10.12"
  }
 },
 "nbformat": 4,
 "nbformat_minor": 5
}
