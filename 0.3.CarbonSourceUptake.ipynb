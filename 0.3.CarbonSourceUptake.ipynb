{
 "cells": [
  {
   "cell_type": "markdown",
   "id": "22a5e821-edff-4cbc-863f-de7e39856eee",
   "metadata": {},
   "source": [
    "# Glucose uptake sensitivity"
   ]
  },
  {
   "cell_type": "code",
   "execution_count": 1,
   "id": "55a3a551-34a9-4db1-b93b-bc02703dc54b",
   "metadata": {},
   "outputs": [],
   "source": [
    "import pandas\n",
    "import numpy\n",
    "import matplotlib.pyplot as plt\n",
    "from Bio import SeqIO\n",
    "import re\n",
    "import coralme\n",
    "plt.rcParams['svg.fonttype'] = 'none'\n",
    "pandas.set_option('display.max_colwidth', None)\n",
    "%load_ext autoreload\n",
    "%autoreload 2\n"
   ]
  },
  {
   "cell_type": "markdown",
   "id": "722eed4c-15d5-4f25-963d-aef1027a9725",
   "metadata": {},
   "source": [
    "## ME-model"
   ]
  },
  {
   "cell_type": "code",
   "execution_count": 2,
   "id": "4fa12f5f-1b91-40e0-9149-b428273653a9",
   "metadata": {},
   "outputs": [],
   "source": [
    "me = coralme.io.pickle.load_pickle_me_model(\"./pputidame/MEModel-step3-pputida-Keff.pkl\")"
   ]
  },
  {
   "cell_type": "code",
   "execution_count": 3,
   "id": "1c7f89c7-5e9e-4a4c-9607-0665a7276907",
   "metadata": {},
   "outputs": [],
   "source": [
    "medium = pandas.read_csv(\"./media/M9.txt\",index_col=\"ID\",comment=\"#\")[\"Bound\"]\n",
    "def enforce_medium(model,medium):\n",
    "    for r in model.reactions.query(\"^EX_\"):\n",
    "        r.lower_bound = 0\n",
    "    for r,lb in medium.items():\n",
    "        model.reactions.get_by_id(r).lower_bound = lb\n",
    "enforce_medium(me,medium)"
   ]
  },
  {
   "cell_type": "markdown",
   "id": "769c57ac-28bc-4c62-bd60-5f0973bb7288",
   "metadata": {},
   "source": [
    "## M-model"
   ]
  },
  {
   "cell_type": "code",
   "execution_count": 4,
   "id": "c5be4960-bfd5-4e75-868b-fb76cf7c189e",
   "metadata": {},
   "outputs": [
    {
     "name": "stdout",
     "output_type": "stream",
     "text": [
      "Set parameter Username\n",
      "Academic license - for non-commercial use only - expires 2025-09-03\n"
     ]
    }
   ],
   "source": [
    "import cobra\n",
    "model = cobra.io.load_json_model(\"./pputidame/inputs/m_model.json\")"
   ]
  },
  {
   "cell_type": "code",
   "execution_count": 5,
   "id": "3216970d-3059-42ea-a4af-a661fce429c7",
   "metadata": {},
   "outputs": [],
   "source": [
    "enforce_medium(model,medium)"
   ]
  },
  {
   "cell_type": "markdown",
   "id": "af6c280e-a7e5-44ae-91de-16cc33607c6c",
   "metadata": {},
   "source": [
    "## Simulations"
   ]
  },
  {
   "cell_type": "code",
   "execution_count": 6,
   "id": "664b6f31-c3aa-4a4b-802f-5b663be61477",
   "metadata": {},
   "outputs": [],
   "source": [
    "from tqdm import tqdm"
   ]
  },
  {
   "cell_type": "code",
   "execution_count": 7,
   "id": "e8085e3d-8551-4243-a9cd-3d7ed7ce2744",
   "metadata": {},
   "outputs": [],
   "source": [
    "bounds = numpy.arange(1,12,1)\n",
    "results = {\"m\":{b:{} for b in bounds},\"me\":{b:{} for b in bounds}}"
   ]
  },
  {
   "cell_type": "code",
   "execution_count": 8,
   "id": "be1c1d94-b7af-42d5-a401-d80ef493e7e2",
   "metadata": {},
   "outputs": [
    {
     "name": "stderr",
     "output_type": "stream",
     "text": [
      "100%|██████████| 11/11 [00:00<00:00, 47.05it/s]\n"
     ]
    }
   ],
   "source": [
    "for b in tqdm(bounds):\n",
    "    model.reactions.get_by_id(\"EX_glc__D_e\").lower_bound = -b\n",
    "    model.reactions.get_by_id(\"EX_glc__D_e\").upper_bound = -b\n",
    "    results[\"m\"][b] = model.optimize().to_frame()[\"fluxes\"]"
   ]
  },
  {
   "cell_type": "code",
   "execution_count": null,
   "id": "a96c6278-4a05-4847-9c64-31b4e1ede3f4",
   "metadata": {
    "scrolled": true
   },
   "outputs": [
    {
     "name": "stderr",
     "output_type": "stream",
     "text": [
      "  0%|          | 0/11 [00:00<?, ?it/s]"
     ]
    },
    {
     "name": "stdout",
     "output_type": "stream",
     "text": [
      "Iteration\t Solution to check\tSolver Status\n",
      "---------\t------------------\t-------------\n",
      "        1\t0.5000000000000000\tNot feasible\n",
      "        2\t0.2500000000000000\tNot feasible\n",
      "        3\t0.1250000000000000\tNot feasible\n",
      "        4\t0.0625000000000000\tOptimal\n",
      "        5\t0.0937500000000000\tNot feasible\n",
      "        6\t0.0781250000000000\tOptimal\n",
      "        7\t0.0859375000000000\tNot feasible\n",
      "        8\t0.0820312500000000\tNot feasible\n",
      "        9\t0.0800781250000000\tOptimal\n",
      "       10\t0.0810546875000000\tOptimal\n",
      "       11\t0.0815429687500000\tOptimal\n",
      "       12\t0.0817871093750000\tNot feasible\n",
      "       13\t0.0816650390625000\tOptimal\n",
      "       14\t0.0817260742187500\tNot feasible\n",
      "       15\t0.0816955566406250\tOptimal\n",
      "       16\t0.0817108154296875\tOptimal\n",
      "       17\t0.0817184448242188\tNot feasible\n",
      "       18\t0.0817146301269531\tOptimal\n",
      "       19\t0.0817165374755859\tNot feasible\n"
     ]
    },
    {
     "name": "stderr",
     "output_type": "stream",
     "text": [
      "  9%|▉         | 1/11 [07:45<1:17:33, 465.37s/it]"
     ]
    },
    {
     "name": "stdout",
     "output_type": "stream",
     "text": [
      "       20\t0.0817155838012695\tNot feasible\n",
      "Iteration\t Solution to check\tSolver Status\n",
      "---------\t------------------\t-------------\n",
      "        1\t0.5000000000000000\tNot feasible\n",
      "        2\t0.2500000000000000\tNot feasible\n",
      "        3\t0.1250000000000000\tOptimal\n",
      "        4\t0.1875000000000000\tNot feasible\n",
      "        5\t0.1562500000000000\tOptimal\n",
      "        6\t0.1718750000000000\tNot feasible\n",
      "        7\t0.1640625000000000\tOptimal\n",
      "        8\t0.1679687500000000\tNot feasible\n",
      "        9\t0.1660156250000000\tOptimal\n",
      "       10\t0.1669921875000000\tOptimal\n",
      "       11\t0.1674804687500000\tOptimal\n",
      "       12\t0.1677246093750000\tNot feasible\n",
      "       13\t0.1676025390625000\tOptimal\n",
      "       14\t0.1676635742187500\tOptimal\n",
      "       15\t0.1676940917968750\tNot feasible\n",
      "       16\t0.1676788330078125\tNot feasible\n",
      "       17\t0.1676712036132812\tOptimal\n",
      "       18\t0.1676750183105469\tOptimal\n",
      "       19\t0.1676769256591797\tNot feasible\n"
     ]
    },
    {
     "name": "stderr",
     "output_type": "stream",
     "text": [
      " 18%|█▊        | 2/11 [14:04<1:02:11, 414.65s/it]"
     ]
    },
    {
     "name": "stdout",
     "output_type": "stream",
     "text": [
      "       20\t0.1676759719848633\tOptimal\n",
      "Iteration\t Solution to check\tSolver Status\n",
      "---------\t------------------\t-------------\n",
      "        1\t0.5000000000000000\tNot feasible\n",
      "        2\t0.2500000000000000\tOptimal\n",
      "        3\t0.3750000000000000\tNot feasible\n",
      "        4\t0.3125000000000000\tNot feasible\n",
      "        5\t0.2812500000000000\tNot feasible\n",
      "        6\t0.2656250000000000\tNot feasible\n",
      "        7\t0.2578125000000000\tNot feasible\n",
      "        8\t0.2539062500000000\tNot feasible\n",
      "        9\t0.2519531250000000\tOptimal\n",
      "       10\t0.2529296875000000\tOptimal\n",
      "       11\t0.2534179687500000\tOptimal\n",
      "       12\t0.2536621093750000\tOptimal\n",
      "       13\t0.2537841796875000\tOptimal\n",
      "       14\t0.2538452148437500\tNot feasible\n",
      "       15\t0.2538146972656250\tOptimal\n",
      "       16\t0.2538299560546875\tOptimal\n",
      "       17\t0.2538375854492188\tOptimal\n",
      "       18\t0.2538414001464844\tOptimal\n",
      "       19\t0.2538433074951172\tNot feasible\n"
     ]
    },
    {
     "name": "stderr",
     "output_type": "stream",
     "text": [
      " 27%|██▋       | 3/11 [18:35<46:32, 349.04s/it]  "
     ]
    },
    {
     "name": "stdout",
     "output_type": "stream",
     "text": [
      "       20\t0.2538423538208008\tOptimal\n",
      "Iteration\t Solution to check\tSolver Status\n",
      "---------\t------------------\t-------------\n",
      "        1\t0.5000000000000000\tNot feasible\n",
      "        2\t0.2500000000000000\tOptimal\n",
      "        3\t0.3750000000000000\tNot feasible\n",
      "        4\t0.3125000000000000\tOptimal\n",
      "        5\t0.3437500000000000\tNot feasible\n",
      "        6\t0.3281250000000000\tOptimal\n",
      "        7\t0.3359375000000000\tOptimal\n",
      "        8\t0.3398437500000000\tOptimal\n",
      "        9\t0.3417968750000000\tNot feasible\n",
      "       10\t0.3408203125000000\tNot feasible\n",
      "       11\t0.3403320312500000\tNot feasible\n",
      "       12\t0.3400878906250000\tNot feasible\n",
      "       13\t0.3399658203125000\tOptimal\n",
      "       14\t0.3400268554687500\tNot feasible\n",
      "       15\t0.3399963378906250\tNot feasible\n",
      "       16\t0.3399810791015625\tNot feasible\n",
      "       17\t0.3399734497070312\tOptimal\n",
      "       18\t0.3399772644042969\tOptimal\n",
      "       19\t0.3399791717529297\tOptimal\n"
     ]
    },
    {
     "name": "stderr",
     "output_type": "stream",
     "text": [
      " 36%|███▋      | 4/11 [23:30<38:14, 327.82s/it]"
     ]
    },
    {
     "name": "stdout",
     "output_type": "stream",
     "text": [
      "       20\t0.3399801254272461\tOptimal\n",
      "Iteration\t Solution to check\tSolver Status\n",
      "---------\t------------------\t-------------\n",
      "        1\t0.5000000000000000\tNot feasible\n",
      "        2\t0.2500000000000000\tOptimal\n",
      "        3\t0.3750000000000000\tOptimal\n",
      "        4\t0.4375000000000000\tNot feasible\n",
      "        5\t0.4062500000000000\tOptimal\n",
      "        6\t0.4218750000000000\tOptimal\n",
      "        7\t0.4296875000000000\tNot feasible\n",
      "        8\t0.4257812500000000\tOptimal\n",
      "        9\t0.4277343750000000\tNot feasible\n",
      "       10\t0.4267578125000000\tNot feasible\n",
      "       11\t0.4262695312500000\tNot feasible\n",
      "       12\t0.4260253906250000\tNot feasible\n",
      "       13\t0.4259033203125000\tOptimal\n",
      "       14\t0.4259643554687500\tNot feasible\n",
      "       15\t0.4259338378906250\tNot feasible\n",
      "       16\t0.4259185791015625\tOptimal\n",
      "       17\t0.4259262084960938\tOptimal\n",
      "       18\t0.4259300231933594\tOptimal\n",
      "       19\t0.4259319305419922\tOptimal\n"
     ]
    },
    {
     "name": "stderr",
     "output_type": "stream",
     "text": [
      " 45%|████▌     | 5/11 [28:09<31:00, 310.07s/it]"
     ]
    },
    {
     "name": "stdout",
     "output_type": "stream",
     "text": [
      "       20\t0.4259328842163086\tOptimal\n",
      "Iteration\t Solution to check\tSolver Status\n",
      "---------\t------------------\t-------------\n",
      "        1\t0.5000000000000000\tOptimal\n",
      "        2\t0.7500000000000000\tNot feasible\n",
      "        3\t0.6250000000000000\tNot feasible\n",
      "        4\t0.5625000000000000\tNot feasible\n",
      "        5\t0.5312500000000000\tNot feasible\n",
      "        6\t0.5156250000000000\tNot feasible\n",
      "        7\t0.5078125000000000\tOptimal\n",
      "        8\t0.5117187500000000\tNot feasible\n",
      "        9\t0.5097656250000000\tOptimal\n",
      "       10\t0.5107421875000000\tOptimal\n",
      "       11\t0.5112304687500000\tNot feasible\n",
      "       12\t0.5109863281250000\tOptimal\n",
      "       13\t0.5111083984375000\tNot feasible\n",
      "       14\t0.5110473632812500\tNot feasible\n",
      "       15\t0.5110168457031250\tOptimal\n",
      "       16\t0.5110321044921875\tOptimal\n",
      "       17\t0.5110397338867188\tOptimal\n",
      "       18\t0.5110435485839844\tOptimal\n",
      "       19\t0.5110454559326172\tOptimal\n"
     ]
    },
    {
     "name": "stderr",
     "output_type": "stream",
     "text": [
      " 55%|█████▍    | 6/11 [31:21<22:29, 269.89s/it]"
     ]
    },
    {
     "name": "stdout",
     "output_type": "stream",
     "text": [
      "       20\t0.5110464096069336\tOptimal\n",
      "Iteration\t Solution to check\tSolver Status\n",
      "---------\t------------------\t-------------\n",
      "        1\t0.5000000000000000\tOptimal\n",
      "        2\t0.7500000000000000\tNot feasible\n",
      "        3\t0.6250000000000000\tNot feasible\n",
      "        4\t0.5625000000000000\tNot feasible\n",
      "        5\t0.5312500000000000\tOptimal\n",
      "        6\t0.5468750000000000\tOptimal\n",
      "        7\t0.5546875000000000\tNot feasible\n",
      "        8\t0.5507812500000000\tNot feasible\n",
      "        9\t0.5488281250000000\tOptimal\n",
      "       10\t0.5498046875000000\tNot feasible\n",
      "       11\t0.5493164062500000\tOptimal\n",
      "       12\t0.5495605468750000\tOptimal\n",
      "       13\t0.5496826171875000\tNot feasible\n",
      "       14\t0.5496215820312500\tNot feasible\n",
      "       15\t0.5495910644531250\tNot feasible\n",
      "       16\t0.5495758056640625\tNot feasible\n",
      "       17\t0.5495681762695312\tNot feasible\n",
      "       18\t0.5495643615722656\tOptimal\n",
      "       19\t0.5495662689208984\tNot feasible\n"
     ]
    },
    {
     "name": "stderr",
     "output_type": "stream",
     "text": [
      " 64%|██████▎   | 7/11 [34:39<16:26, 246.58s/it]"
     ]
    },
    {
     "name": "stdout",
     "output_type": "stream",
     "text": [
      "       20\t0.5495653152465820\tNot feasible\n",
      "Iteration\t Solution to check\tSolver Status\n",
      "---------\t------------------\t-------------\n",
      "        1\t0.5000000000000000\tOptimal\n",
      "        2\t0.7500000000000000\tNot feasible\n",
      "        3\t0.6250000000000000\tNot feasible\n",
      "        4\t0.5625000000000000\tOptimal\n",
      "        5\t0.5937500000000000\tNot feasible\n",
      "        6\t0.5781250000000000\tNot feasible\n",
      "        7\t0.5703125000000000\tOptimal\n",
      "        8\t0.5742187500000000\tOptimal\n",
      "        9\t0.5761718750000000\tOptimal\n",
      "       10\t0.5771484375000000\tNot feasible\n",
      "       11\t0.5766601562500000\tNot feasible\n",
      "       12\t0.5764160156250000\tOptimal\n",
      "       13\t0.5765380859375000\tOptimal\n",
      "       14\t0.5765991210937500\tOptimal\n",
      "       15\t0.5766296386718750\tNot feasible\n",
      "       16\t0.5766143798828125\tOptimal\n",
      "       17\t0.5766220092773438\tNot feasible\n",
      "       18\t0.5766181945800781\tOptimal\n",
      "       19\t0.5766201019287109\tNot feasible\n"
     ]
    },
    {
     "name": "stderr",
     "output_type": "stream",
     "text": [
      " 73%|███████▎  | 8/11 [37:35<11:11, 223.96s/it]"
     ]
    },
    {
     "name": "stdout",
     "output_type": "stream",
     "text": [
      "       20\t0.5766191482543945\tOptimal\n",
      "Iteration\t Solution to check\tSolver Status\n",
      "---------\t------------------\t-------------\n",
      "        1\t0.5000000000000000\tOptimal\n",
      "        2\t0.7500000000000000\tNot feasible\n",
      "        3\t0.6250000000000000\tNot feasible\n",
      "        4\t0.5625000000000000\tOptimal\n",
      "        5\t0.5937500000000000\tNot feasible\n",
      "        6\t0.5781250000000000\tNot feasible\n",
      "        7\t0.5703125000000000\tOptimal\n",
      "        8\t0.5742187500000000\tOptimal\n",
      "        9\t0.5761718750000000\tOptimal\n",
      "       10\t0.5771484375000000\tNot feasible\n",
      "       11\t0.5766601562500000\tNot feasible\n",
      "       12\t0.5764160156250000\tOptimal\n",
      "       13\t0.5765380859375000\tNot feasible\n",
      "       14\t0.5764770507812500\tOptimal\n",
      "       15\t0.5765075683593750\tNot feasible\n",
      "       16\t0.5764923095703125\tNot feasible\n",
      "       17\t0.5764846801757812\tNot feasible\n",
      "       18\t0.5764808654785156\tOptimal\n",
      "       19\t0.5764827728271484\tOptimal\n"
     ]
    },
    {
     "name": "stderr",
     "output_type": "stream",
     "text": [
      " 82%|████████▏ | 9/11 [40:30<06:57, 208.69s/it]"
     ]
    },
    {
     "name": "stdout",
     "output_type": "stream",
     "text": [
      "       20\t0.5764837265014648\tOptimal\n",
      "Iteration\t Solution to check\tSolver Status\n",
      "---------\t------------------\t-------------\n",
      "        1\t0.5000000000000000\tOptimal\n",
      "        2\t0.7500000000000000\tNot feasible\n",
      "        3\t0.6250000000000000\tNot feasible\n",
      "        4\t0.5625000000000000\tOptimal\n",
      "        5\t0.5937500000000000\tNot feasible\n",
      "        6\t0.5781250000000000\tNot feasible\n",
      "        7\t0.5703125000000000\tOptimal\n",
      "        8\t0.5742187500000000\tOptimal\n",
      "        9\t0.5761718750000000\tOptimal\n",
      "       10\t0.5771484375000000\tNot feasible\n",
      "       11\t0.5766601562500000\tNot feasible\n",
      "       12\t0.5764160156250000\tNot feasible\n",
      "       13\t0.5762939453125000\tNot feasible\n",
      "       14\t0.5762329101562500\tOptimal\n",
      "       15\t0.5762634277343750\tOptimal\n",
      "       16\t0.5762786865234375\tOptimal\n",
      "       17\t0.5762863159179688\tOptimal\n",
      "       18\t0.5762901306152344\tOptimal\n",
      "       19\t0.5762920379638672\tNot feasible\n"
     ]
    },
    {
     "name": "stderr",
     "output_type": "stream",
     "text": [
      " 91%|█████████ | 10/11 [43:29<03:19, 199.58s/it]"
     ]
    },
    {
     "name": "stdout",
     "output_type": "stream",
     "text": [
      "       20\t0.5762910842895508\tOptimal\n",
      "Iteration\t Solution to check\tSolver Status\n",
      "---------\t------------------\t-------------\n"
     ]
    }
   ],
   "source": [
    "for b in tqdm(bounds):\n",
    "    me.reactions.get_by_id(\"EX_glc__D_e\").lower_bound = -b\n",
    "    me.reactions.get_by_id(\"EX_glc__D_e\").upper_bound = -b\n",
    "    me.optimize(max_mu=1.0)\n",
    "    results[\"me\"][b] = me.solution.to_frame()[\"fluxes\"]"
   ]
  },
  {
   "cell_type": "code",
   "execution_count": null,
   "id": "c16ac853-3dbd-4226-b563-88c74092159d",
   "metadata": {},
   "outputs": [],
   "source": [
    "for i,df in results.items():\n",
    "    results[i] = pandas.DataFrame.from_dict(results[i])"
   ]
  },
  {
   "cell_type": "code",
   "execution_count": null,
   "id": "e8f0fdd7-b874-49d3-98a1-455bd71a8bb1",
   "metadata": {},
   "outputs": [],
   "source": [
    "results[\"m\"].to_csv(\"./datasets/carbon-source-uptake/m-fluxes.csv\")\n",
    "results[\"me\"].to_csv(\"./datasets/carbon-source-uptake/me-fluxes.csv\")"
   ]
  },
  {
   "cell_type": "markdown",
   "id": "adfef066-ac9a-4980-90d5-aedb9b35fc7f",
   "metadata": {},
   "source": [
    "### Compare with experimental results"
   ]
  },
  {
   "cell_type": "code",
   "execution_count": null,
   "id": "0d8329e2-f721-4702-8cf3-0144a474cb7d",
   "metadata": {},
   "outputs": [],
   "source": [
    "results = {}\n",
    "results[\"m\"] = pandas.read_csv(\"./datasets/carbon-source-uptake/m-fluxes.csv\",index_col=0)\n",
    "results[\"me\"] = pandas.read_csv(\"./datasets/carbon-source-uptake/me-fluxes.csv\",index_col=0)"
   ]
  },
  {
   "cell_type": "code",
   "execution_count": null,
   "id": "455065cc-5649-4037-b95d-f2598e248e32",
   "metadata": {},
   "outputs": [],
   "source": [
    "experimental = pandas.read_csv(\"./datasets/carbon-source-uptake/references.csv\",index_col=0,comment=\"#\")\n",
    "experimental[\"In vivo\"] = experimental[\"In vivo\"].apply(lambda x:x.split(\"/\")[0]).astype(float)\n",
    "experimental = experimental.drop(\"Gluconate\")"
   ]
  },
  {
   "cell_type": "code",
   "execution_count": null,
   "id": "134ac949-d21c-4f2a-8698-67aa2c7f6724",
   "metadata": {},
   "outputs": [],
   "source": [
    "experimental"
   ]
  },
  {
   "cell_type": "code",
   "execution_count": null,
   "id": "28a1d882-f2ce-45df-ad68-3687a8e5f2c5",
   "metadata": {},
   "outputs": [],
   "source": [
    "experimental[\"In vivo\"].mean(),experimental[\"In vivo\"].std()"
   ]
  },
  {
   "cell_type": "code",
   "execution_count": null,
   "id": "1be8214d-9005-4ce5-aad2-8d6436632280",
   "metadata": {},
   "outputs": [],
   "source": [
    "experimental[\"uptake\"].mean(),experimental[\"uptake\"].std()"
   ]
  },
  {
   "cell_type": "code",
   "execution_count": null,
   "id": "688795be-10e9-44f2-b3af-dfab4ee2f6b7",
   "metadata": {},
   "outputs": [],
   "source": [
    "results[\"me\"].to_csv(\"./datasets/predictions/KT2440-UPF36-M9-CarbonSourceUptakes.csv\")"
   ]
  },
  {
   "cell_type": "markdown",
   "id": "077ca801-bbee-4d36-af19-da319a830d15",
   "metadata": {},
   "source": [
    "### Secretion"
   ]
  },
  {
   "cell_type": "code",
   "execution_count": null,
   "id": "937dcd96-d0bb-449c-9836-c5b19cf9baf3",
   "metadata": {
    "scrolled": true
   },
   "outputs": [],
   "source": [
    "carbon_exchanges = [i.id for i in me.reactions.query(\"^EX_\") if me.metabolites.has_id(i.id.split(\"EX_\")[-1]) and me.metabolites.get_by_id(i.id.split(\"EX_\")[-1]).elements.get(\"C\",0)]"
   ]
  },
  {
   "cell_type": "code",
   "execution_count": null,
   "id": "0ef4ce16-e164-44ec-bb10-08af0f369da3",
   "metadata": {},
   "outputs": [],
   "source": [
    "tmp = results[\"me\"].loc[carbon_exchanges].drop(\"EX_co2_e\")\n",
    "simulated_exchanges = tmp[(tmp.index.str.contains(\"EX_\") & (tmp.any(axis=1)))].sort_values(\"11\")\n",
    "simulated_secretions = simulated_exchanges[(simulated_exchanges>0.01).any(axis=1)]\n",
    "simulated_secretions"
   ]
  },
  {
   "cell_type": "markdown",
   "id": "da833c67-bbb5-45dc-adc4-3dae0588b31e",
   "metadata": {},
   "source": [
    "#### Both"
   ]
  },
  {
   "cell_type": "code",
   "execution_count": null,
   "id": "c12636b7-9424-4f5a-b21c-48608e747b5c",
   "metadata": {},
   "outputs": [],
   "source": [
    "fig,ax1 = plt.subplots(1,1,figsize=(7,5))\n",
    "results[\"m\"].loc[\"BIOMASS_KT2440_WT3\"].plot(marker=\"o\",ax=ax1,label=\"m\",color=\"#fdae61\")\n",
    "results[\"me\"].loc[\"biomass_dilution\"].plot(marker=\"o\",ax=ax1,label=\"me\",color=\"#2b83ba\")\n",
    "ax1.set_ylabel(\"Growth rate, 1/h\")\n",
    "ax1.set_xlabel(\"Glucose uptake rate\")\n",
    "# Experimental\n",
    "for i,row in experimental.iterrows():\n",
    "    ax1.plot(row[\"uptake\"]-1,row[\"In vivo\"],\"*\",color=\"black\",markersize=10)\n",
    "    ax1.text(row[\"uptake\"]-0.8,row[\"In vivo\"]-0.01,row[\"Reference\"])\n",
    "ax1.set_xlim([-1,11])\n",
    "\n",
    "# Create second axis sharing the same x-axis\n",
    "ax2 = ax1.twinx()\n",
    "# ax2.set_ylim([0,6])\n",
    "df = simulated_secretions.T\n",
    "# Colors\n",
    "colors = [\"#66c2a5\",\"#8da0cb\"]\n",
    "# Create the stacked area plot\n",
    "df.plot.area(alpha=0.5, figsize=(8, 5),color=colors,linestyle=\"\",ax=ax2)\n",
    "# Compute cumulative sums along the columns (i.e. stacking order)\n",
    "df_cumsum = df.cumsum(axis=1)\n",
    "# Overlay markers at the cumulative stacking heights\n",
    "for i, col in enumerate(df.columns):\n",
    "    ax2.plot(df.index, df_cumsum[col], marker='o', linestyle='', color=colors[i], label='_nolegend_')\n",
    "ax2.set_ylabel(\"Secretion rate\")\n",
    "ax2.set_zorder(0)  # Move ax2 behind\n",
    "ax1.set_zorder(1)  # Move ax1 in front\n",
    "ax1.patch.set_visible(False)  # Hide ax1 background\n",
    "plt.savefig(\"./figures/Secretion-MvsME.svg\",format=\"SVG\")"
   ]
  },
  {
   "cell_type": "markdown",
   "id": "7ac9748b-fd29-4c43-954b-9adfb1ee0a4d",
   "metadata": {},
   "source": [
    "### In the M-model"
   ]
  },
  {
   "cell_type": "code",
   "execution_count": null,
   "id": "2b7d5aa7-f57a-425c-829c-4713b9bf0736",
   "metadata": {},
   "outputs": [],
   "source": [
    "tmp = results[\"m\"].loc[[i for i in carbon_exchanges if i in results[\"m\"].index]]\n",
    "simulated_exchanges = tmp[(tmp.index.str.contains(\"EX_\") & (tmp.any(axis=1)))].sort_values(\"11\")\n",
    "simulated_secretions = simulated_exchanges[(simulated_exchanges>0.01).any(axis=1)]\n",
    "simulated_secretions"
   ]
  }
 ],
 "metadata": {
  "kernelspec": {
   "display_name": "coralme-1.1.5",
   "language": "python",
   "name": "coralme-1.1.5"
  },
  "language_info": {
   "codemirror_mode": {
    "name": "ipython",
    "version": 3
   },
   "file_extension": ".py",
   "mimetype": "text/x-python",
   "name": "python",
   "nbconvert_exporter": "python",
   "pygments_lexer": "ipython3",
   "version": "3.10.12"
  }
 },
 "nbformat": 4,
 "nbformat_minor": 5
}
