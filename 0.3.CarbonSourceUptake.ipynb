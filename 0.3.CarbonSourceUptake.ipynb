{
 "cells": [
  {
   "cell_type": "code",
   "execution_count": 1,
   "id": "55a3a551-34a9-4db1-b93b-bc02703dc54b",
   "metadata": {},
   "outputs": [],
   "source": [
    "import pandas\n",
    "import numpy\n",
    "import matplotlib.pyplot as plt\n",
    "from Bio import SeqIO\n",
    "import re\n",
    "import coralme\n",
    "plt.rcParams['svg.fonttype'] = 'none'\n",
    "pandas.set_option('display.max_colwidth', None)\n",
    "%load_ext autoreload\n",
    "%autoreload 2\n"
   ]
  },
  {
   "cell_type": "code",
   "execution_count": 2,
   "id": "ba9c38d7-ce28-4194-9974-5d05fbd7a8c7",
   "metadata": {},
   "outputs": [],
   "source": [
    "medium = pandas.read_csv(\"./media/M9.txt\",index_col=0,header=None,comment=\"#\")[1]"
   ]
  },
  {
   "cell_type": "markdown",
   "id": "722eed4c-15d5-4f25-963d-aef1027a9725",
   "metadata": {},
   "source": [
    "## ME-model"
   ]
  },
  {
   "cell_type": "code",
   "execution_count": 3,
   "id": "4fa12f5f-1b91-40e0-9149-b428273653a9",
   "metadata": {},
   "outputs": [],
   "source": [
    "me = coralme.io.pickle.load_pickle_me_model(\"./pputidame/MEModel-step3-pputida-Keff.pkl\")"
   ]
  },
  {
   "cell_type": "code",
   "execution_count": 4,
   "id": "c5d1f87b-2f2d-43e1-9aa3-363a4bac87c2",
   "metadata": {},
   "outputs": [],
   "source": [
    "for r in me.reactions.query(\"^EX_\"):\n",
    "    r.lower_bound = 0"
   ]
  },
  {
   "cell_type": "code",
   "execution_count": 5,
   "id": "89d47966-d0df-4e9d-8cfd-eebdbb28638e",
   "metadata": {},
   "outputs": [],
   "source": [
    "for r,b in medium.items():\n",
    "    me.reactions.get_by_id(r).lower_bound = -b"
   ]
  },
  {
   "cell_type": "code",
   "execution_count": 6,
   "id": "82a94585-c919-4005-abe9-64852216bffa",
   "metadata": {},
   "outputs": [
    {
     "name": "stdout",
     "output_type": "stream",
     "text": [
      "Iteration\t Solution to check\tSolver Status\n",
      "---------\t------------------\t-------------\n",
      "        1\t1.4050280687025918\tNot feasible\n",
      "        2\t0.7025140343512959\tNot feasible\n",
      "        3\t0.3512570171756479\tOptimal\n",
      "        4\t0.5268855257634719\tNot feasible\n",
      "        5\t0.4390712714695599\tNot feasible\n",
      "        6\t0.3951641443226039\tOptimal\n",
      "        7\t0.4171177078960819\tOptimal\n",
      "        8\t0.4280944896828209\tNot feasible\n",
      "        9\t0.4226060987894514\tOptimal\n",
      "       10\t0.4253502942361362\tOptimal\n",
      "       11\t0.4267223919594786\tNot feasible\n",
      "       12\t0.4260363430978074\tNot feasible\n",
      "       13\t0.4256933186669718\tOptimal\n",
      "       14\t0.4258648308823896\tOptimal\n",
      "       15\t0.4259505869900985\tNot feasible\n",
      "       16\t0.4259077089362440\tOptimal\n",
      "       17\t0.4259291479631713\tOptimal\n",
      "       18\t0.4259398674766349\tNot feasible\n",
      "       19\t0.4259345077199030\tNot feasible\n",
      "       20\t0.4259318278415372\tOptimal\n",
      "       21\t0.4259331677807201\tNot feasible\n",
      "       22\t0.4259324978111286\tOptimal\n"
     ]
    },
    {
     "data": {
      "text/plain": [
       "True"
      ]
     },
     "execution_count": 6,
     "metadata": {},
     "output_type": "execute_result"
    }
   ],
   "source": [
    "me.optimize()"
   ]
  },
  {
   "cell_type": "markdown",
   "id": "769c57ac-28bc-4c62-bd60-5f0973bb7288",
   "metadata": {},
   "source": [
    "## M-model"
   ]
  },
  {
   "cell_type": "code",
   "execution_count": 7,
   "id": "c5be4960-bfd5-4e75-868b-fb76cf7c189e",
   "metadata": {},
   "outputs": [],
   "source": [
    "import cobra\n",
    "model = cobra.io.load_json_model(\"./pputidame/inputs/m_model.json\")"
   ]
  },
  {
   "cell_type": "code",
   "execution_count": 8,
   "id": "3216970d-3059-42ea-a4af-a661fce429c7",
   "metadata": {},
   "outputs": [],
   "source": [
    "for r in model.reactions.query(\"^EX_\"):\n",
    "    r.lower_bound = 0"
   ]
  },
  {
   "cell_type": "code",
   "execution_count": 9,
   "id": "709590ad-49fe-4a84-a550-790f977d9e27",
   "metadata": {},
   "outputs": [],
   "source": [
    "medium = pandas.read_csv(\"./media/M9.txt\",index_col=0,header=None,comment=\"#\")[1]\n",
    "for r,b in medium.items():\n",
    "    model.reactions.get_by_id(r).lower_bound = -b"
   ]
  },
  {
   "cell_type": "markdown",
   "id": "af6c280e-a7e5-44ae-91de-16cc33607c6c",
   "metadata": {},
   "source": [
    "## Simulations"
   ]
  },
  {
   "cell_type": "code",
   "execution_count": 10,
   "id": "664b6f31-c3aa-4a4b-802f-5b663be61477",
   "metadata": {},
   "outputs": [],
   "source": [
    "from tqdm import tqdm"
   ]
  },
  {
   "cell_type": "code",
   "execution_count": 11,
   "id": "e8085e3d-8551-4243-a9cd-3d7ed7ce2744",
   "metadata": {},
   "outputs": [],
   "source": [
    "bounds = numpy.arange(1,12,1)\n",
    "results = {\"m\":{b:{} for b in bounds},\"me\":{b:{} for b in bounds}}"
   ]
  },
  {
   "cell_type": "code",
   "execution_count": 12,
   "id": "be1c1d94-b7af-42d5-a401-d80ef493e7e2",
   "metadata": {},
   "outputs": [
    {
     "name": "stderr",
     "output_type": "stream",
     "text": [
      "100%|██████████| 11/11 [00:00<00:00, 35.10it/s]\n"
     ]
    }
   ],
   "source": [
    "for b in tqdm(bounds):\n",
    "    model.reactions.get_by_id(\"EX_glc__D_e\").lower_bound = -b\n",
    "    model.reactions.get_by_id(\"EX_glc__D_e\").upper_bound = -b\n",
    "    results[\"m\"][b] = model.optimize().to_frame()[\"fluxes\"]"
   ]
  },
  {
   "cell_type": "code",
   "execution_count": 13,
   "id": "a96c6278-4a05-4847-9c64-31b4e1ede3f4",
   "metadata": {
    "scrolled": true
   },
   "outputs": [
    {
     "name": "stderr",
     "output_type": "stream",
     "text": [
      "  0%|          | 0/11 [00:00<?, ?it/s]"
     ]
    },
    {
     "name": "stdout",
     "output_type": "stream",
     "text": [
      "Iteration\t Solution to check\tSolver Status\n",
      "---------\t------------------\t-------------\n",
      "        1\t0.5000000000000000\tNot feasible\n",
      "        2\t0.2500000000000000\tNot feasible\n",
      "        3\t0.1250000000000000\tNot feasible\n",
      "        4\t0.0625000000000000\tOptimal\n",
      "        5\t0.0937500000000000\tNot feasible\n",
      "        6\t0.0781250000000000\tOptimal\n",
      "        7\t0.0859375000000000\tNot feasible\n",
      "        8\t0.0820312500000000\tNot feasible\n",
      "        9\t0.0800781250000000\tOptimal\n",
      "       10\t0.0810546875000000\tOptimal\n",
      "       11\t0.0815429687500000\tOptimal\n",
      "       12\t0.0817871093750000\tNot feasible\n",
      "       13\t0.0816650390625000\tOptimal\n",
      "       14\t0.0817260742187500\tNot feasible\n",
      "       15\t0.0816955566406250\tOptimal\n",
      "       16\t0.0817108154296875\tOptimal\n",
      "       17\t0.0817184448242188\tNot feasible\n",
      "       18\t0.0817146301269531\tOptimal\n",
      "       19\t0.0817165374755859\tNot feasible\n"
     ]
    },
    {
     "name": "stderr",
     "output_type": "stream",
     "text": [
      "  9%|▉         | 1/11 [08:09<1:21:34, 489.40s/it]"
     ]
    },
    {
     "name": "stdout",
     "output_type": "stream",
     "text": [
      "       20\t0.0817155838012695\tNot feasible\n",
      "Iteration\t Solution to check\tSolver Status\n",
      "---------\t------------------\t-------------\n",
      "        1\t0.5000000000000000\tNot feasible\n",
      "        2\t0.2500000000000000\tNot feasible\n",
      "        3\t0.1250000000000000\tOptimal\n",
      "        4\t0.1875000000000000\tNot feasible\n",
      "        5\t0.1562500000000000\tOptimal\n",
      "        6\t0.1718750000000000\tNot feasible\n",
      "        7\t0.1640625000000000\tOptimal\n",
      "        8\t0.1679687500000000\tNot feasible\n",
      "        9\t0.1660156250000000\tOptimal\n",
      "       10\t0.1669921875000000\tOptimal\n",
      "       11\t0.1674804687500000\tOptimal\n",
      "       12\t0.1677246093750000\tNot feasible\n",
      "       13\t0.1676025390625000\tOptimal\n",
      "       14\t0.1676635742187500\tOptimal\n",
      "       15\t0.1676940917968750\tNot feasible\n",
      "       16\t0.1676788330078125\tNot feasible\n",
      "       17\t0.1676712036132812\tOptimal\n",
      "       18\t0.1676750183105469\tOptimal\n",
      "       19\t0.1676769256591797\tNot feasible\n"
     ]
    },
    {
     "name": "stderr",
     "output_type": "stream",
     "text": [
      " 18%|█▊        | 2/11 [14:46<1:05:13, 434.83s/it]"
     ]
    },
    {
     "name": "stdout",
     "output_type": "stream",
     "text": [
      "       20\t0.1676759719848633\tOptimal\n",
      "Iteration\t Solution to check\tSolver Status\n",
      "---------\t------------------\t-------------\n",
      "        1\t0.5000000000000000\tNot feasible\n",
      "        2\t0.2500000000000000\tOptimal\n",
      "        3\t0.3750000000000000\tNot feasible\n",
      "        4\t0.3125000000000000\tNot feasible\n",
      "        5\t0.2812500000000000\tNot feasible\n",
      "        6\t0.2656250000000000\tNot feasible\n",
      "        7\t0.2578125000000000\tNot feasible\n",
      "        8\t0.2539062500000000\tNot feasible\n",
      "        9\t0.2519531250000000\tOptimal\n",
      "       10\t0.2529296875000000\tOptimal\n",
      "       11\t0.2534179687500000\tOptimal\n",
      "       12\t0.2536621093750000\tOptimal\n",
      "       13\t0.2537841796875000\tOptimal\n",
      "       14\t0.2538452148437500\tNot feasible\n",
      "       15\t0.2538146972656250\tOptimal\n",
      "       16\t0.2538299560546875\tOptimal\n",
      "       17\t0.2538375854492188\tOptimal\n",
      "       18\t0.2538414001464844\tOptimal\n",
      "       19\t0.2538433074951172\tNot feasible\n"
     ]
    },
    {
     "name": "stderr",
     "output_type": "stream",
     "text": [
      " 27%|██▋       | 3/11 [19:35<49:06, 368.30s/it]  "
     ]
    },
    {
     "name": "stdout",
     "output_type": "stream",
     "text": [
      "       20\t0.2538423538208008\tOptimal\n",
      "Iteration\t Solution to check\tSolver Status\n",
      "---------\t------------------\t-------------\n",
      "        1\t0.5000000000000000\tNot feasible\n",
      "        2\t0.2500000000000000\tOptimal\n",
      "        3\t0.3750000000000000\tNot feasible\n",
      "        4\t0.3125000000000000\tOptimal\n",
      "        5\t0.3437500000000000\tNot feasible\n",
      "        6\t0.3281250000000000\tOptimal\n",
      "        7\t0.3359375000000000\tOptimal\n",
      "        8\t0.3398437500000000\tOptimal\n",
      "        9\t0.3417968750000000\tNot feasible\n",
      "       10\t0.3408203125000000\tNot feasible\n",
      "       11\t0.3403320312500000\tNot feasible\n",
      "       12\t0.3400878906250000\tNot feasible\n",
      "       13\t0.3399658203125000\tOptimal\n",
      "       14\t0.3400268554687500\tNot feasible\n",
      "       15\t0.3399963378906250\tNot feasible\n",
      "       16\t0.3399810791015625\tNot feasible\n",
      "       17\t0.3399734497070312\tOptimal\n",
      "       18\t0.3399772644042969\tOptimal\n",
      "       19\t0.3399791717529297\tOptimal\n"
     ]
    },
    {
     "name": "stderr",
     "output_type": "stream",
     "text": [
      " 36%|███▋      | 4/11 [24:54<40:43, 349.05s/it]"
     ]
    },
    {
     "name": "stdout",
     "output_type": "stream",
     "text": [
      "       20\t0.3399801254272461\tOptimal\n",
      "Iteration\t Solution to check\tSolver Status\n",
      "---------\t------------------\t-------------\n",
      "        1\t0.5000000000000000\tNot feasible\n",
      "        2\t0.2500000000000000\tOptimal\n",
      "        3\t0.3750000000000000\tOptimal\n",
      "        4\t0.4375000000000000\tNot feasible\n",
      "        5\t0.4062500000000000\tOptimal\n",
      "        6\t0.4218750000000000\tOptimal\n",
      "        7\t0.4296875000000000\tNot feasible\n",
      "        8\t0.4257812500000000\tOptimal\n",
      "        9\t0.4277343750000000\tNot feasible\n",
      "       10\t0.4267578125000000\tNot feasible\n",
      "       11\t0.4262695312500000\tNot feasible\n",
      "       12\t0.4260253906250000\tNot feasible\n",
      "       13\t0.4259033203125000\tOptimal\n",
      "       14\t0.4259643554687500\tNot feasible\n",
      "       15\t0.4259338378906250\tNot feasible\n",
      "       16\t0.4259185791015625\tOptimal\n",
      "       17\t0.4259262084960938\tOptimal\n",
      "       18\t0.4259300231933594\tOptimal\n",
      "       19\t0.4259319305419922\tOptimal\n"
     ]
    },
    {
     "name": "stderr",
     "output_type": "stream",
     "text": [
      " 45%|████▌     | 5/11 [30:05<33:30, 335.16s/it]"
     ]
    },
    {
     "name": "stdout",
     "output_type": "stream",
     "text": [
      "       20\t0.4259328842163086\tOptimal\n",
      "Iteration\t Solution to check\tSolver Status\n",
      "---------\t------------------\t-------------\n",
      "        1\t0.5000000000000000\tOptimal\n",
      "        2\t0.7500000000000000\tNot feasible\n",
      "        3\t0.6250000000000000\tNot feasible\n",
      "        4\t0.5625000000000000\tNot feasible\n",
      "        5\t0.5312500000000000\tNot feasible\n",
      "        6\t0.5156250000000000\tNot feasible\n",
      "        7\t0.5078125000000000\tOptimal\n",
      "        8\t0.5117187500000000\tNot feasible\n",
      "        9\t0.5097656250000000\tOptimal\n",
      "       10\t0.5107421875000000\tOptimal\n",
      "       11\t0.5112304687500000\tNot feasible\n",
      "       12\t0.5109863281250000\tOptimal\n",
      "       13\t0.5111083984375000\tNot feasible\n",
      "       14\t0.5110473632812500\tNot feasible\n",
      "       15\t0.5110168457031250\tOptimal\n",
      "       16\t0.5110321044921875\tOptimal\n",
      "       17\t0.5110397338867188\tOptimal\n",
      "       18\t0.5110435485839844\tOptimal\n",
      "       19\t0.5110454559326172\tOptimal\n"
     ]
    },
    {
     "name": "stderr",
     "output_type": "stream",
     "text": [
      " 55%|█████▍    | 6/11 [33:20<23:57, 287.45s/it]"
     ]
    },
    {
     "name": "stdout",
     "output_type": "stream",
     "text": [
      "       20\t0.5110464096069336\tOptimal\n",
      "Iteration\t Solution to check\tSolver Status\n",
      "---------\t------------------\t-------------\n",
      "        1\t0.5000000000000000\tOptimal\n",
      "        2\t0.7500000000000000\tNot feasible\n",
      "        3\t0.6250000000000000\tNot feasible\n",
      "        4\t0.5625000000000000\tNot feasible\n",
      "        5\t0.5312500000000000\tOptimal\n",
      "        6\t0.5468750000000000\tOptimal\n",
      "        7\t0.5546875000000000\tNot feasible\n",
      "        8\t0.5507812500000000\tNot feasible\n",
      "        9\t0.5488281250000000\tOptimal\n",
      "       10\t0.5498046875000000\tNot feasible\n",
      "       11\t0.5493164062500000\tOptimal\n",
      "       12\t0.5495605468750000\tOptimal\n",
      "       13\t0.5496826171875000\tNot feasible\n",
      "       14\t0.5496215820312500\tNot feasible\n",
      "       15\t0.5495910644531250\tNot feasible\n",
      "       16\t0.5495758056640625\tNot feasible\n",
      "       17\t0.5495681762695312\tNot feasible\n",
      "       18\t0.5495643615722656\tOptimal\n",
      "       19\t0.5495662689208984\tNot feasible\n"
     ]
    },
    {
     "name": "stderr",
     "output_type": "stream",
     "text": [
      " 64%|██████▎   | 7/11 [36:34<17:08, 257.02s/it]"
     ]
    },
    {
     "name": "stdout",
     "output_type": "stream",
     "text": [
      "       20\t0.5495653152465820\tNot feasible\n",
      "Iteration\t Solution to check\tSolver Status\n",
      "---------\t------------------\t-------------\n",
      "        1\t0.5000000000000000\tOptimal\n",
      "        2\t0.7500000000000000\tNot feasible\n",
      "        3\t0.6250000000000000\tNot feasible\n",
      "        4\t0.5625000000000000\tOptimal\n",
      "        5\t0.5937500000000000\tNot feasible\n",
      "        6\t0.5781250000000000\tNot feasible\n",
      "        7\t0.5703125000000000\tOptimal\n",
      "        8\t0.5742187500000000\tOptimal\n",
      "        9\t0.5761718750000000\tOptimal\n",
      "       10\t0.5771484375000000\tNot feasible\n",
      "       11\t0.5766601562500000\tNot feasible\n",
      "       12\t0.5764160156250000\tOptimal\n",
      "       13\t0.5765380859375000\tOptimal\n",
      "       14\t0.5765991210937500\tOptimal\n",
      "       15\t0.5766296386718750\tNot feasible\n",
      "       16\t0.5766143798828125\tOptimal\n",
      "       17\t0.5766220092773438\tNot feasible\n",
      "       18\t0.5766181945800781\tOptimal\n",
      "       19\t0.5766201019287109\tNot feasible\n"
     ]
    },
    {
     "name": "stderr",
     "output_type": "stream",
     "text": [
      " 73%|███████▎  | 8/11 [39:41<11:44, 234.84s/it]"
     ]
    },
    {
     "name": "stdout",
     "output_type": "stream",
     "text": [
      "       20\t0.5766191482543945\tOptimal\n",
      "Iteration\t Solution to check\tSolver Status\n",
      "---------\t------------------\t-------------\n",
      "        1\t0.5000000000000000\tOptimal\n",
      "        2\t0.7500000000000000\tNot feasible\n",
      "        3\t0.6250000000000000\tNot feasible\n",
      "        4\t0.5625000000000000\tOptimal\n",
      "        5\t0.5937500000000000\tNot feasible\n",
      "        6\t0.5781250000000000\tNot feasible\n",
      "        7\t0.5703125000000000\tOptimal\n",
      "        8\t0.5742187500000000\tOptimal\n",
      "        9\t0.5761718750000000\tOptimal\n",
      "       10\t0.5771484375000000\tNot feasible\n",
      "       11\t0.5766601562500000\tNot feasible\n",
      "       12\t0.5764160156250000\tOptimal\n",
      "       13\t0.5765380859375000\tNot feasible\n",
      "       14\t0.5764770507812500\tOptimal\n",
      "       15\t0.5765075683593750\tNot feasible\n",
      "       16\t0.5764923095703125\tNot feasible\n",
      "       17\t0.5764846801757812\tNot feasible\n",
      "       18\t0.5764808654785156\tOptimal\n",
      "       19\t0.5764827728271484\tOptimal\n"
     ]
    },
    {
     "name": "stderr",
     "output_type": "stream",
     "text": [
      " 82%|████████▏ | 9/11 [42:56<07:24, 222.30s/it]"
     ]
    },
    {
     "name": "stdout",
     "output_type": "stream",
     "text": [
      "       20\t0.5764837265014648\tOptimal\n",
      "Iteration\t Solution to check\tSolver Status\n",
      "---------\t------------------\t-------------\n",
      "        1\t0.5000000000000000\tOptimal\n",
      "        2\t0.7500000000000000\tNot feasible\n",
      "        3\t0.6250000000000000\tNot feasible\n",
      "        4\t0.5625000000000000\tOptimal\n",
      "        5\t0.5937500000000000\tNot feasible\n",
      "        6\t0.5781250000000000\tNot feasible\n",
      "        7\t0.5703125000000000\tOptimal\n",
      "        8\t0.5742187500000000\tOptimal\n",
      "        9\t0.5761718750000000\tOptimal\n",
      "       10\t0.5771484375000000\tNot feasible\n",
      "       11\t0.5766601562500000\tNot feasible\n",
      "       12\t0.5764160156250000\tNot feasible\n",
      "       13\t0.5762939453125000\tNot feasible\n",
      "       14\t0.5762329101562500\tOptimal\n",
      "       15\t0.5762634277343750\tOptimal\n",
      "       16\t0.5762786865234375\tOptimal\n",
      "       17\t0.5762863159179688\tOptimal\n",
      "       18\t0.5762901306152344\tOptimal\n",
      "       19\t0.5762920379638672\tNot feasible\n"
     ]
    },
    {
     "name": "stderr",
     "output_type": "stream",
     "text": [
      " 91%|█████████ | 10/11 [46:07<03:32, 212.59s/it]"
     ]
    },
    {
     "name": "stdout",
     "output_type": "stream",
     "text": [
      "       20\t0.5762910842895508\tOptimal\n",
      "Iteration\t Solution to check\tSolver Status\n",
      "---------\t------------------\t-------------\n",
      "        1\t0.5000000000000000\tOptimal\n",
      "        2\t0.7500000000000000\tNot feasible\n",
      "        3\t0.6250000000000000\tNot feasible\n",
      "        4\t0.5625000000000000\tOptimal\n",
      "        5\t0.5937500000000000\tNot feasible\n",
      "        6\t0.5781250000000000\tNot feasible\n",
      "        7\t0.5703125000000000\tOptimal\n",
      "        8\t0.5742187500000000\tOptimal\n",
      "        9\t0.5761718750000000\tNot feasible\n",
      "       10\t0.5751953125000000\tOptimal\n",
      "       11\t0.5756835937500000\tOptimal\n",
      "       12\t0.5759277343750000\tOptimal\n",
      "       13\t0.5760498046875000\tOptimal\n",
      "       14\t0.5761108398437500\tNot feasible\n",
      "       15\t0.5760803222656250\tOptimal\n",
      "       16\t0.5760955810546875\tOptimal\n",
      "       17\t0.5761032104492188\tNot feasible\n",
      "       18\t0.5760993957519531\tNot feasible\n",
      "       19\t0.5760974884033203\tOptimal\n"
     ]
    },
    {
     "name": "stderr",
     "output_type": "stream",
     "text": [
      "100%|██████████| 11/11 [49:14<00:00, 268.62s/it]"
     ]
    },
    {
     "name": "stdout",
     "output_type": "stream",
     "text": [
      "       20\t0.5760984420776367\tOptimal\n"
     ]
    },
    {
     "name": "stderr",
     "output_type": "stream",
     "text": [
      "\n"
     ]
    }
   ],
   "source": [
    "for b in tqdm(bounds):\n",
    "    me.reactions.get_by_id(\"EX_glc__D_e\").lower_bound = -b\n",
    "    me.reactions.get_by_id(\"EX_glc__D_e\").upper_bound = -b\n",
    "    me.optimize(max_mu=1.0)\n",
    "    results[\"me\"][b] = me.solution.to_frame()[\"fluxes\"]"
   ]
  },
  {
   "cell_type": "code",
   "execution_count": 14,
   "id": "c16ac853-3dbd-4226-b563-88c74092159d",
   "metadata": {},
   "outputs": [],
   "source": [
    "for i,df in results.items():\n",
    "    results[i] = pandas.DataFrame.from_dict(results[i])"
   ]
  },
  {
   "cell_type": "code",
   "execution_count": 15,
   "id": "e8f0fdd7-b874-49d3-98a1-455bd71a8bb1",
   "metadata": {},
   "outputs": [],
   "source": [
    "results[\"m\"].to_csv(\"./datasets/carbon-source-uptake/m-fluxes.csv\")\n",
    "results[\"me\"].to_csv(\"./datasets/carbon-source-uptake/me-fluxes.csv\")"
   ]
  },
  {
   "cell_type": "markdown",
   "id": "adfef066-ac9a-4980-90d5-aedb9b35fc7f",
   "metadata": {},
   "source": [
    "### Compare with experimental results"
   ]
  },
  {
   "cell_type": "code",
   "execution_count": 16,
   "id": "455065cc-5649-4037-b95d-f2598e248e32",
   "metadata": {},
   "outputs": [],
   "source": [
    "experimental = pandas.read_csv(\"./datasets/carbon-source-uptake/references.csv\",index_col=0,comment=\"#\")\n",
    "experimental[\"In vivo\"] = experimental[\"In vivo\"].apply(lambda x:x.split(\"/\")[0]).astype(float)\n",
    "experimental = experimental.drop(\"Gluconate\")"
   ]
  },
  {
   "cell_type": "code",
   "execution_count": 17,
   "id": "134ac949-d21c-4f2a-8698-67aa2c7f6724",
   "metadata": {},
   "outputs": [
    {
     "data": {
      "text/html": [
       "<div>\n",
       "<style scoped>\n",
       "    .dataframe tbody tr th:only-of-type {\n",
       "        vertical-align: middle;\n",
       "    }\n",
       "\n",
       "    .dataframe tbody tr th {\n",
       "        vertical-align: top;\n",
       "    }\n",
       "\n",
       "    .dataframe thead th {\n",
       "        text-align: right;\n",
       "    }\n",
       "</style>\n",
       "<table border=\"1\" class=\"dataframe\">\n",
       "  <thead>\n",
       "    <tr style=\"text-align: right;\">\n",
       "      <th></th>\n",
       "      <th>uptake</th>\n",
       "      <th>gluconate</th>\n",
       "      <th>2-ketogluconate</th>\n",
       "      <th>iJN746</th>\n",
       "      <th>iEB1050</th>\n",
       "      <th>PpuQY1140</th>\n",
       "      <th>iJN1462</th>\n",
       "      <th>In vivo</th>\n",
       "      <th>Reference</th>\n",
       "    </tr>\n",
       "    <tr>\n",
       "      <th>Source</th>\n",
       "      <th></th>\n",
       "      <th></th>\n",
       "      <th></th>\n",
       "      <th></th>\n",
       "      <th></th>\n",
       "      <th></th>\n",
       "      <th></th>\n",
       "      <th></th>\n",
       "      <th></th>\n",
       "    </tr>\n",
       "  </thead>\n",
       "  <tbody>\n",
       "    <tr>\n",
       "      <th>Glucose</th>\n",
       "      <td>6.30</td>\n",
       "      <td>NaN</td>\n",
       "      <td>NaN</td>\n",
       "      <td>0.76/NA</td>\n",
       "      <td>0.91/NA</td>\n",
       "      <td>0.50/NA</td>\n",
       "      <td>0.61/NA</td>\n",
       "      <td>0.56</td>\n",
       "      <td>del Castillo et al. (2007)</td>\n",
       "    </tr>\n",
       "    <tr>\n",
       "      <th>Glucose</th>\n",
       "      <td>10.90</td>\n",
       "      <td>2.8</td>\n",
       "      <td>2.6</td>\n",
       "      <td>0.70/NA</td>\n",
       "      <td>0.81/NA</td>\n",
       "      <td>0.49/NA</td>\n",
       "      <td>0.57/NA</td>\n",
       "      <td>0.57</td>\n",
       "      <td>Blank et al. (2008)</td>\n",
       "    </tr>\n",
       "    <tr>\n",
       "      <th>Glucose</th>\n",
       "      <td>9.16</td>\n",
       "      <td>NaN</td>\n",
       "      <td>NaN</td>\n",
       "      <td>NA/NA</td>\n",
       "      <td>NA/NA</td>\n",
       "      <td>NA/NA</td>\n",
       "      <td>NA/NA</td>\n",
       "      <td>0.61</td>\n",
       "      <td>Wang et al. (2019)</td>\n",
       "    </tr>\n",
       "    <tr>\n",
       "      <th>Glucose</th>\n",
       "      <td>6.14</td>\n",
       "      <td>NaN</td>\n",
       "      <td>NaN</td>\n",
       "      <td>NA/NA</td>\n",
       "      <td>NA/NA</td>\n",
       "      <td>NA/NA</td>\n",
       "      <td>NA/NA</td>\n",
       "      <td>0.55</td>\n",
       "      <td>Nikel et al. (2015)</td>\n",
       "    </tr>\n",
       "    <tr>\n",
       "      <th>Glucose</th>\n",
       "      <td>8.26</td>\n",
       "      <td>NaN</td>\n",
       "      <td>NaN</td>\n",
       "      <td>NA/NA</td>\n",
       "      <td>NA/NA</td>\n",
       "      <td>NA/NA</td>\n",
       "      <td>NA/NA</td>\n",
       "      <td>0.59</td>\n",
       "      <td>van Duuren et al. (2013)</td>\n",
       "    </tr>\n",
       "  </tbody>\n",
       "</table>\n",
       "</div>"
      ],
      "text/plain": [
       "         uptake  gluconate  2-ketogluconate   iJN746  iEB1050 PpuQY1140  \\\n",
       "Source                                                                    \n",
       "Glucose    6.30        NaN              NaN  0.76/NA  0.91/NA   0.50/NA   \n",
       "Glucose   10.90        2.8              2.6  0.70/NA  0.81/NA   0.49/NA   \n",
       "Glucose    9.16        NaN              NaN    NA/NA    NA/NA     NA/NA   \n",
       "Glucose    6.14        NaN              NaN    NA/NA    NA/NA     NA/NA   \n",
       "Glucose    8.26        NaN              NaN    NA/NA    NA/NA     NA/NA   \n",
       "\n",
       "         iJN1462  In vivo                   Reference  \n",
       "Source                                                 \n",
       "Glucose  0.61/NA     0.56  del Castillo et al. (2007)  \n",
       "Glucose  0.57/NA     0.57         Blank et al. (2008)  \n",
       "Glucose    NA/NA     0.61          Wang et al. (2019)  \n",
       "Glucose    NA/NA     0.55         Nikel et al. (2015)  \n",
       "Glucose    NA/NA     0.59    van Duuren et al. (2013)  "
      ]
     },
     "execution_count": 17,
     "metadata": {},
     "output_type": "execute_result"
    }
   ],
   "source": [
    "experimental"
   ]
  },
  {
   "cell_type": "code",
   "execution_count": 18,
   "id": "28a1d882-f2ce-45df-ad68-3687a8e5f2c5",
   "metadata": {},
   "outputs": [
    {
     "data": {
      "text/plain": [
       "(0.576, 0.024083189157584565)"
      ]
     },
     "execution_count": 18,
     "metadata": {},
     "output_type": "execute_result"
    }
   ],
   "source": [
    "experimental[\"In vivo\"].mean(),experimental[\"In vivo\"].std()"
   ]
  },
  {
   "cell_type": "code",
   "execution_count": 19,
   "id": "1be8214d-9005-4ce5-aad2-8d6436632280",
   "metadata": {},
   "outputs": [
    {
     "data": {
      "text/plain": [
       "(8.152, 2.0035768016225384)"
      ]
     },
     "execution_count": 19,
     "metadata": {},
     "output_type": "execute_result"
    }
   ],
   "source": [
    "experimental[\"uptake\"].mean(),experimental[\"uptake\"].std()"
   ]
  },
  {
   "cell_type": "code",
   "execution_count": 20,
   "id": "2ffc0a1b-f193-4313-ac1b-06005119e1af",
   "metadata": {},
   "outputs": [
    {
     "data": {
      "image/png": "[encoded data removed]",
      "text/plain": [
       "<Figure size 700x500 with 1 Axes>"
      ]
     },
     "metadata": {},
     "output_type": "display_data"
    }
   ],
   "source": [
    "fig,ax=plt.subplots(1,1,figsize=(7,5))\n",
    "results[\"m\"].loc[\"BIOMASS_KT2440_WT3\"].plot(marker=\"o\",ax=ax,label=\"m\",color=\"#fdae61\")\n",
    "results[\"me\"].loc[\"biomass_dilution\"].plot(marker=\"o\",ax=ax,label=\"me\",color=\"#2b83ba\")\n",
    "\n",
    "for i,row in experimental.iterrows():\n",
    "    plt.plot(row[\"uptake\"],row[\"In vivo\"],\"*\",color=\"black\",markersize=10)\n",
    "    plt.text(row[\"uptake\"]+0.2,row[\"In vivo\"]-0.01,row[\"Reference\"])\n",
    "\n",
    "plt.ylabel(\"Growth rate, 1/h\")\n",
    "plt.xlabel(\"Glucose uptake rate\")\n",
    "plt.xlim([0,12])\n",
    "plt.legend()\n",
    "plt.savefig(\"./figures/growth-rate-performance.svg\",format=\"svg\")"
   ]
  },
  {
   "cell_type": "code",
   "execution_count": 21,
   "id": "688795be-10e9-44f2-b3af-dfab4ee2f6b7",
   "metadata": {},
   "outputs": [],
   "source": [
    "results[\"me\"].to_csv(\"./datasets/predictions/KT2440-UPF36-M9-CarbonSourceUptakes.csv\")"
   ]
  },
  {
   "cell_type": "code",
   "execution_count": 22,
   "id": "7478a72d-4c93-4f66-82a3-636cd2548db0",
   "metadata": {},
   "outputs": [],
   "source": [
    "from coralme.util.flux_analysis import exchange_single_model"
   ]
  },
  {
   "cell_type": "code",
   "execution_count": 23,
   "id": "684c38de-1ba8-4b04-a501-0823945b2b2b",
   "metadata": {},
   "outputs": [],
   "source": [
    "model.solution = model.optimize()"
   ]
  },
  {
   "cell_type": "code",
   "execution_count": 24,
   "id": "eb7125b1-01f2-4c8c-9a5e-1df95330b6c4",
   "metadata": {
    "scrolled": true
   },
   "outputs": [
    {
     "name": "stdout",
     "output_type": "stream",
     "text": [
      "EX_glc__D_e: glc__D_e <--  -11.0 -11 -11\n",
      "ATPM: atp_c + h2o_c --> adp_c + h_c + pi_c 0.92 0.92 0.92\n"
     ]
    }
   ],
   "source": [
    "for r in model.reactions:\n",
    "    f = model.solution.fluxes[r.id]\n",
    "    lb,ub = r.bounds\n",
    "    if not f:\n",
    "        continue\n",
    "    if abs(f-lb) < 1e-6 or abs(f-ub) < 1e-6:\n",
    "        print(r, f, lb, ub)"
   ]
  }
 ],
 "metadata": {
  "kernelspec": {
   "display_name": "coralme-1.1.5",
   "language": "python",
   "name": "coralme-1.1.5"
  },
  "language_info": {
   "codemirror_mode": {
    "name": "ipython",
    "version": 3
   },
   "file_extension": ".py",
   "mimetype": "text/x-python",
   "name": "python",
   "nbconvert_exporter": "python",
   "pygments_lexer": "ipython3",
   "version": "3.10.12"
  }
 },
 "nbformat": 4,
 "nbformat_minor": 5
}
