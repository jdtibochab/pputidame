{
 "cells": [
  {
   "cell_type": "markdown",
   "id": "6763882d-fe9e-4a17-b2ed-02e99e2beea4",
   "metadata": {},
   "source": [
    "# Getting reduced costs in the ME-model"
   ]
  },
  {
   "cell_type": "code",
   "execution_count": 2,
   "id": "55a3a551-34a9-4db1-b93b-bc02703dc54b",
   "metadata": {},
   "outputs": [],
   "source": [
    "import pandas\n",
    "import numpy\n",
    "import matplotlib.pyplot as plt\n",
    "from Bio import SeqIO\n",
    "import re\n",
    "import coralme\n",
    "plt.rcParams['svg.fonttype'] = 'none'\n",
    "pandas.set_option('display.max_colwidth', None)\n",
    "%load_ext autoreload\n",
    "%autoreload 2"
   ]
  },
  {
   "cell_type": "code",
   "execution_count": 3,
   "id": "4fa12f5f-1b91-40e0-9149-b428273653a9",
   "metadata": {},
   "outputs": [
    {
     "name": "stdout",
     "output_type": "stream",
     "text": [
      "Set parameter Username\n",
      "Academic license - for non-commercial use only - expires 2025-09-03\n",
      "Read LP format model from file /tmp/tmp2wdsotkz.lp\n",
      "Reading time = 0.00 seconds\n",
      ": 0 rows, 0 columns, 0 nonzeros\n",
      "Read LP format model from file /tmp/tmp_ij77wyl.lp\n",
      "Reading time = 0.01 seconds\n",
      ": 2162 rows, 5896 columns, 23426 nonzeros\n",
      "Read LP format model from file /tmp/tmphkggf25t.lp\n",
      "Reading time = 0.01 seconds\n",
      ": 2166 rows, 5894 columns, 23388 nonzeros\n"
     ]
    }
   ],
   "source": [
    "model = coralme.io.pickle.load_pickle_me_model(\"./pputidame/MEModel-step3-pputida-Keff.pkl\")"
   ]
  },
  {
   "cell_type": "code",
   "execution_count": 5,
   "id": "da82ffaf-b574-463a-a24a-2d1e316a64fc",
   "metadata": {},
   "outputs": [],
   "source": [
    "fluxes = pandas.read_csv(\"./datasets/predictions/KT2440-UPF36-M9-cost.csv\",index_col=0)[\"fluxes\"]"
   ]
  },
  {
   "cell_type": "markdown",
   "id": "4c926261-37c5-47d6-8ebb-eed5253d9d73",
   "metadata": {},
   "source": [
    "### Reduced cost"
   ]
  },
  {
   "cell_type": "code",
   "execution_count": 6,
   "id": "cfa1ec1e-a461-4639-9520-f1c839b7163f",
   "metadata": {},
   "outputs": [],
   "source": [
    "from coralme.solver.solver import ME_NLP\n",
    "import cobra\n",
    "def _solver_solution_to_cobrapy_solution(model, muopt, xopt, yopt, zopt, stat, solver = 'qminos'):\n",
    "    if solver in ['qminos', 'gurobi']:\n",
    "        #f = sum([ rxn.objective_coefficient * xopt[idx] for idx, rxn in enumerate(self.reactions) ])\n",
    "        #x_primal = xopt[ 0:len(self.reactions) ]   # The remainder are the slacks\n",
    "        x_dict = { rxn.id : xopt[idx] for idx, rxn in enumerate(model.reactions) }\n",
    "        y_dict = { met.id : yopt[idx] for idx, met in enumerate(model.metabolites) }\n",
    "        z_dict = { rxn.id : zopt[idx] for idx, rxn in enumerate(model.reactions) }\n",
    "    elif solver == 'cplex':\n",
    "        #x_primal =\n",
    "        x_dict = { rxn.id: xopt[rxn.id].solution_value for idx, rxn in enumerate(self.reactions) }\n",
    "        y_dict = { met.id: yopt[met.id].dual_value for idx, met in enumerate(self.metabolites) }\n",
    "        z_dict = { rxn.id: zopt[rxn.id].reduced_cost for idx, rxn in enumerate(self.reactions) }\n",
    "    else:\n",
    "        raise ValueError('solver output not compatible.')\n",
    "    \n",
    "    #self.me.solution = Solution(f, x_primal, x_dict, y, y_dict, 'qminos', time_elapsed, status)\n",
    "    return cobra.core.Solution(\n",
    "        objective_value = muopt,\n",
    "        status = stat,\n",
    "        fluxes = x_dict, # x_primal is a numpy.array with only fluxes info\n",
    "        reduced_costs = z_dict,\n",
    "        shadow_prices = y_dict,\n",
    "        )\n",
    "def get_nlp(model):\n",
    "    # Call construct LP problem function from model to get precursor objects.\n",
    "    # lamdify = True -> Creates lambdify functions to calculate bounds as a function of mu\n",
    "    # per_position = True -> LB and UB bounds as list of lambdify instead of a lambdify to \n",
    "    # be able to change individual values\n",
    "    Sf, Se, lb, ub, b, c, cs, atoms, lambdas, Lr, Lm = model.construct_lp_problem(lambdify=True,per_position=True)\n",
    "\n",
    "    # Construct NLP object from precursor objects\n",
    "    me_nlp = ME_NLP(Sf, Se,b, c, lb, ub,  cs, atoms, lambdas)\n",
    "    return me_nlp\n",
    "    \n",
    "def get_reduced_costs(model,me_nlp,rxn_idx,mu_opt):\n",
    "    # Open biomass dilution bounds\n",
    "    me_nlp.xl[rxn_idx[\"biomass_dilution\"]] = lambda mu : 0.\n",
    "    me_nlp.xu[rxn_idx[\"biomass_dilution\"]] = lambda mu : 1000.\n",
    "    # Set new objective coefficient\n",
    "    me_nlp.c = [1.0 if r==\"biomass_dilution\" else 0.0 for r in rxn_idx]\n",
    "    # Solve at muopt\n",
    "    xopt, yopt, zopt, stat, _basis = me_nlp.solvelp(muf = mu_opt, basis = None, precision = \"quad\")\n",
    "    return _solver_solution_to_cobrapy_solution(model, mu_opt, xopt, yopt, zopt, stat)"
   ]
  },
  {
   "cell_type": "code",
   "execution_count": 9,
   "id": "8cceaa74-f6af-4bc2-97d2-3fa4f5fb5aac",
   "metadata": {
    "scrolled": true
   },
   "outputs": [],
   "source": [
    "proteins = [m for m in model.metabolites if isinstance(m,coralme.core.component.TranslatedGene)]\n",
    "for p in proteins:\n",
    "    model.add_boundary(p,lb=0,ub=0,type=\"sink\")"
   ]
  },
  {
   "cell_type": "code",
   "execution_count": 12,
   "id": "4dc88909-1c03-4de7-852f-53f4109c0b39",
   "metadata": {},
   "outputs": [
    {
     "data": {
      "text/html": [
       "\n",
       "\t\t<table>\n",
       "\t\t\t<tr><td><strong>Reaction identifier</strong></td><td>SK_protein_PP_0003</td></tr>\n",
       "\t\t\t<tr><td><strong>Name</strong></td><td>sink</td></tr>\n",
       "\t\t\t<tr><td><strong>Memory address</strong></td><td>0x7f9cac13d8d0</td></tr>\n",
       "\t\t\t<tr><td><strong>Stoichiometry</strong>\n",
       "\t\t\t</td><td>\n",
       "\t\t\t\t<p style='text-align:right'>1.0 protein_PP_0003 --></p>\n",
       "\t\t\t\t<p style='text-align:right'>1.0 protein_PP_0003 --></p>\n",
       "\t\t\t</td></tr>\n",
       "\t\t\t<tr><td><strong>GPR</strong></td><td></td></tr>\n",
       "\t\t\t<tr><td><strong>Lower bound</strong></td><td>0</td></tr>\n",
       "\t\t\t<tr><td><strong>Upper bound</strong></td><td>0</td></tr>\n",
       "\t\t\t<tr><td><strong>Reaction type</strong></td><td>coralme.core.reaction.MEReaction</td></tr>\n",
       "\t\t\t<tr><td><strong>Flux</strong></td><td>ME-model not optimized/feasible</td></tr>\n",
       "\t\t\t<tr><td><strong>Reduced cost</strong></td><td>ME-model not optimized/feasible</td></tr>\n",
       "\t\t\t<tr><td><strong>Bound violation</strong></td><td>ME-model not optimized/feasible</td></tr>\n",
       "\t\t</table>\n",
       "\t\t"
      ],
      "text/plain": [
       "<MEReaction SK_protein_PP_0003 at 0x7f9cac13d8d0>"
      ]
     },
     "execution_count": 12,
     "metadata": {},
     "output_type": "execute_result"
    }
   ],
   "source": [
    "model.reactions.query(\"SK_protein\")[0]"
   ]
  },
  {
   "cell_type": "code",
   "execution_count": 13,
   "id": "3f6f8c64-0579-48e9-9ec5-0af5da5f7072",
   "metadata": {},
   "outputs": [],
   "source": [
    "me_nlp = get_nlp(model)\n",
    "rxn_idx =  {rxn.id : idx for idx, rxn in enumerate(model.reactions)}\n",
    "mu_opt = fluxes[\"biomass_dilution\"]\n",
    "costs = get_reduced_costs(model,me_nlp,rxn_idx,mu_opt)"
   ]
  },
  {
   "cell_type": "code",
   "execution_count": 26,
   "id": "337235cc-b9b1-40e8-819e-ba44d6103ed4",
   "metadata": {},
   "outputs": [],
   "source": [
    "costs.to_frame().to_csv(\"./datasets/predictions/KT2440-UPF36-M9-cost.csv\")"
   ]
  },
  {
   "cell_type": "code",
   "execution_count": 59,
   "id": "5c381cae-829a-4bf1-9bed-eaf53d5d9b52",
   "metadata": {},
   "outputs": [],
   "source": [
    "c = costs[costs.index.str.contains(\"SK_protein\")][\"reduced_costs\"]\n",
    "c = c[c<0].abs()\n",
    "c.name = \"cost\"\n",
    "c.index = [r.split(\"SK_protein_\")[-1] for r in c.index]"
   ]
  },
  {
   "cell_type": "code",
   "execution_count": 61,
   "id": "85190772-1ad5-43b6-9fef-915bef02f386",
   "metadata": {},
   "outputs": [],
   "source": [
    "f = fluxes[fluxes.index.str.contains(\"translation_\")]*1e9\n",
    "f.name = \"flux\"\n",
    "f.index = [r.split(\"translation_\")[-1] for r in f.index]"
   ]
  },
  {
   "cell_type": "code",
   "execution_count": 70,
   "id": "de101eef-1dae-4b9e-b9d8-b2d223d59364",
   "metadata": {},
   "outputs": [
    {
     "name": "stderr",
     "output_type": "stream",
     "text": [
      "/home/jt/venvs/coralme/lib/python3.10/site-packages/pandas/core/internals/blocks.py:351: RuntimeWarning: divide by zero encountered in log10\n",
      "  result = func(self.values, **kwargs)\n",
      "/home/jt/venvs/coralme/lib/python3.10/site-packages/pandas/core/internals/blocks.py:351: RuntimeWarning: invalid value encountered in log10\n",
      "  result = func(self.values, **kwargs)\n"
     ]
    },
    {
     "data": {
      "text/plain": [
       "(-5.0, 2.0)"
      ]
     },
     "execution_count": 70,
     "metadata": {},
     "output_type": "execute_result"
    },
    {
     "data": {
      "image/png": "[encoded data removed]",
      "text/plain": [
       "<Figure size 640x480 with 1 Axes>"
      ]
     },
     "metadata": {},
     "output_type": "display_data"
    }
   ],
   "source": [
    "df = pandas.concat([c,f],axis=1)\n",
    "numpy.log10(df).plot.scatter(x=\"cost\",y=\"flux\")\n",
    "plt.xlim([-5,2])"
   ]
  },
  {
   "cell_type": "code",
   "execution_count": 64,
   "id": "58fbddad-278e-48bc-906e-71c156b498d2",
   "metadata": {},
   "outputs": [
    {
     "data": {
      "text/html": [
       "<div>\n",
       "<style scoped>\n",
       "    .dataframe tbody tr th:only-of-type {\n",
       "        vertical-align: middle;\n",
       "    }\n",
       "\n",
       "    .dataframe tbody tr th {\n",
       "        vertical-align: top;\n",
       "    }\n",
       "\n",
       "    .dataframe thead th {\n",
       "        text-align: right;\n",
       "    }\n",
       "</style>\n",
       "<table border=\"1\" class=\"dataframe\">\n",
       "  <thead>\n",
       "    <tr style=\"text-align: right;\">\n",
       "      <th></th>\n",
       "      <th>cost</th>\n",
       "      <th>flux</th>\n",
       "    </tr>\n",
       "  </thead>\n",
       "  <tbody>\n",
       "    <tr>\n",
       "      <th>PP_0003</th>\n",
       "      <td>8.740568</td>\n",
       "      <td>0.056545</td>\n",
       "    </tr>\n",
       "    <tr>\n",
       "      <th>PP_0008</th>\n",
       "      <td>4.980627</td>\n",
       "      <td>1.353065</td>\n",
       "    </tr>\n",
       "    <tr>\n",
       "      <th>PP_0026</th>\n",
       "      <td>1.805433</td>\n",
       "      <td>0.031240</td>\n",
       "    </tr>\n",
       "    <tr>\n",
       "      <th>PP_0037</th>\n",
       "      <td>0.130628</td>\n",
       "      <td>1251.940432</td>\n",
       "    </tr>\n",
       "    <tr>\n",
       "      <th>PP_0041</th>\n",
       "      <td>1.802025</td>\n",
       "      <td>0.000000</td>\n",
       "    </tr>\n",
       "    <tr>\n",
       "      <th>...</th>\n",
       "      <td>...</td>\n",
       "      <td>...</td>\n",
       "    </tr>\n",
       "    <tr>\n",
       "      <th>PP_5412</th>\n",
       "      <td>NaN</td>\n",
       "      <td>114197.891551</td>\n",
       "    </tr>\n",
       "    <tr>\n",
       "      <th>PP_5413</th>\n",
       "      <td>NaN</td>\n",
       "      <td>114197.891551</td>\n",
       "    </tr>\n",
       "    <tr>\n",
       "      <th>PP_5414</th>\n",
       "      <td>NaN</td>\n",
       "      <td>114197.891551</td>\n",
       "    </tr>\n",
       "    <tr>\n",
       "      <th>PP_5416</th>\n",
       "      <td>NaN</td>\n",
       "      <td>114197.891551</td>\n",
       "    </tr>\n",
       "    <tr>\n",
       "      <th>PP_5417</th>\n",
       "      <td>NaN</td>\n",
       "      <td>114197.891551</td>\n",
       "    </tr>\n",
       "  </tbody>\n",
       "</table>\n",
       "<p>1581 rows × 2 columns</p>\n",
       "</div>"
      ],
      "text/plain": [
       "             cost           flux\n",
       "PP_0003  8.740568       0.056545\n",
       "PP_0008  4.980627       1.353065\n",
       "PP_0026  1.805433       0.031240\n",
       "PP_0037  0.130628    1251.940432\n",
       "PP_0041  1.802025       0.000000\n",
       "...           ...            ...\n",
       "PP_5412       NaN  114197.891551\n",
       "PP_5413       NaN  114197.891551\n",
       "PP_5414       NaN  114197.891551\n",
       "PP_5416       NaN  114197.891551\n",
       "PP_5417       NaN  114197.891551\n",
       "\n",
       "[1581 rows x 2 columns]"
      ]
     },
     "execution_count": 64,
     "metadata": {},
     "output_type": "execute_result"
    }
   ],
   "source": [
    "df"
   ]
  },
  {
   "cell_type": "code",
   "execution_count": 69,
   "id": "7755c81f-d176-49cc-8de2-225ec329cad7",
   "metadata": {},
   "outputs": [
    {
     "name": "stderr",
     "output_type": "stream",
     "text": [
      "/home/jt/venvs/coralme/lib/python3.10/site-packages/pandas/core/internals/blocks.py:351: RuntimeWarning: divide by zero encountered in log10\n",
      "  result = func(self.values, **kwargs)\n",
      "/home/jt/venvs/coralme/lib/python3.10/site-packages/pandas/core/internals/blocks.py:351: RuntimeWarning: invalid value encountered in log10\n",
      "  result = func(self.values, **kwargs)\n"
     ]
    },
    {
     "data": {
      "text/html": [
       "<div>\n",
       "<style scoped>\n",
       "    .dataframe tbody tr th:only-of-type {\n",
       "        vertical-align: middle;\n",
       "    }\n",
       "\n",
       "    .dataframe tbody tr th {\n",
       "        vertical-align: top;\n",
       "    }\n",
       "\n",
       "    .dataframe thead th {\n",
       "        text-align: right;\n",
       "    }\n",
       "</style>\n",
       "<table border=\"1\" class=\"dataframe\">\n",
       "  <thead>\n",
       "    <tr style=\"text-align: right;\">\n",
       "      <th></th>\n",
       "      <th>cost</th>\n",
       "      <th>flux</th>\n",
       "    </tr>\n",
       "  </thead>\n",
       "  <tbody>\n",
       "    <tr>\n",
       "      <th>PP_1664</th>\n",
       "      <td>-27.481708</td>\n",
       "      <td>2.960255</td>\n",
       "    </tr>\n",
       "    <tr>\n",
       "      <th>PP_4188</th>\n",
       "      <td>-2.788874</td>\n",
       "      <td>4.065109</td>\n",
       "    </tr>\n",
       "    <tr>\n",
       "      <th>PP_4300</th>\n",
       "      <td>-1.935593</td>\n",
       "      <td>-41.808264</td>\n",
       "    </tr>\n",
       "    <tr>\n",
       "      <th>PP_4810</th>\n",
       "      <td>-1.614476</td>\n",
       "      <td>3.234735</td>\n",
       "    </tr>\n",
       "    <tr>\n",
       "      <th>PP_1771</th>\n",
       "      <td>-1.614476</td>\n",
       "      <td>3.011041</td>\n",
       "    </tr>\n",
       "    <tr>\n",
       "      <th>...</th>\n",
       "      <td>...</td>\n",
       "      <td>...</td>\n",
       "    </tr>\n",
       "    <tr>\n",
       "      <th>PP_1678</th>\n",
       "      <td>1.250041</td>\n",
       "      <td>0.162413</td>\n",
       "    </tr>\n",
       "    <tr>\n",
       "      <th>PP_2638</th>\n",
       "      <td>1.250485</td>\n",
       "      <td>-inf</td>\n",
       "    </tr>\n",
       "    <tr>\n",
       "      <th>PP_4220</th>\n",
       "      <td>1.310892</td>\n",
       "      <td>-0.440924</td>\n",
       "    </tr>\n",
       "    <tr>\n",
       "      <th>PP_1333</th>\n",
       "      <td>1.480496</td>\n",
       "      <td>1.634410</td>\n",
       "    </tr>\n",
       "    <tr>\n",
       "      <th>PP_3099</th>\n",
       "      <td>1.613239</td>\n",
       "      <td>-18.731403</td>\n",
       "    </tr>\n",
       "  </tbody>\n",
       "</table>\n",
       "<p>752 rows × 2 columns</p>\n",
       "</div>"
      ],
      "text/plain": [
       "              cost       flux\n",
       "PP_1664 -27.481708   2.960255\n",
       "PP_4188  -2.788874   4.065109\n",
       "PP_4300  -1.935593 -41.808264\n",
       "PP_4810  -1.614476   3.234735\n",
       "PP_1771  -1.614476   3.011041\n",
       "...            ...        ...\n",
       "PP_1678   1.250041   0.162413\n",
       "PP_2638   1.250485       -inf\n",
       "PP_4220   1.310892  -0.440924\n",
       "PP_1333   1.480496   1.634410\n",
       "PP_3099   1.613239 -18.731403\n",
       "\n",
       "[752 rows x 2 columns]"
      ]
     },
     "execution_count": 69,
     "metadata": {},
     "output_type": "execute_result"
    }
   ],
   "source": [
    "numpy.log10(df).sort_values(\"cost\").dropna()"
   ]
  },
  {
   "cell_type": "code",
   "execution_count": null,
   "id": "8cd7b76e-8f01-47db-9616-80b049bd1bd7",
   "metadata": {},
   "outputs": [],
   "source": []
  }
 ],
 "metadata": {
  "kernelspec": {
   "display_name": "coralme-1.1.0",
   "language": "python",
   "name": "coralme-1.1.0"
  },
  "language_info": {
   "codemirror_mode": {
    "name": "ipython",
    "version": 3
   },
   "file_extension": ".py",
   "mimetype": "text/x-python",
   "name": "python",
   "nbconvert_exporter": "python",
   "pygments_lexer": "ipython3",
   "version": "3.10.15"
  }
 },
 "nbformat": 4,
 "nbformat_minor": 5
}
