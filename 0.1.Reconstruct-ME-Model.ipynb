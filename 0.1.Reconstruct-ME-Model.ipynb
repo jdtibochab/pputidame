{
 "cells": [
  {
   "cell_type": "markdown",
   "id": "091879b9-185a-4e74-8b0f-c0f99736a302",
   "metadata": {},
   "source": [
    "# Reconstruct ME-model"
   ]
  },
  {
   "cell_type": "code",
   "execution_count": null,
   "id": "fadf741b-d65e-4c02-a73f-3c1414e848ce",
   "metadata": {
    "ExecuteTime": {
     "end_time": "2022-12-12T06:27:35.182100Z",
     "start_time": "2022-12-12T06:27:35.157355Z"
    }
   },
   "outputs": [],
   "source": [
    "from IPython.display import display, HTML, Math, Markdown\n",
    "display(HTML(\"<style>.container { width:95% !important; }</style>\"))\n",
    "\n",
    "%load_ext autoreload\n",
    "%autoreload 2"
   ]
  },
  {
   "cell_type": "code",
   "execution_count": null,
   "id": "63414ed1-c7f0-4b1c-9dd0-534c4182f428",
   "metadata": {
    "ExecuteTime": {
     "end_time": "2022-12-12T06:27:36.177441Z",
     "start_time": "2022-12-12T06:27:35.183790Z"
    }
   },
   "outputs": [],
   "source": [
    "from coralme.builder.main import MEBuilder, MEReconstruction, METroubleshooter\n",
    "from coralme.builder.curation import MECurator, MEManualCuration\n",
    "import coralme\n",
    "import pandas\n",
    "pandas.set_option('display.max_colwidth', None)"
   ]
  },
  {
   "cell_type": "code",
   "execution_count": null,
   "id": "659ca4b2-ac94-4b00-98e8-68fdf89c0b16",
   "metadata": {},
   "outputs": [],
   "source": [
    "org = 'pputidame'\n",
    "organism = './{:s}/organism.json'.format(org)\n",
    "inputs = './{:s}/input.json'.format(org)"
   ]
  },
  {
   "cell_type": "code",
   "execution_count": null,
   "id": "ffb27bd5-5570-41bf-b8ca-82d7ee4f7cb2",
   "metadata": {},
   "outputs": [],
   "source": [
    "import cobra\n",
    "medium = cobra.io.load_json_model(\"./pputidame/inputs/m_model.json\").medium\n",
    "def enforce_medium(model,medium):\n",
    "    for r in model.query(\"^EX_\"):\n",
    "        if r.id in medium:\n",
    "            print(\"Enforcing \" + r.id)\n",
    "            r.lower_bound = -medium[r.id]\n",
    "        else:\n",
    "            print(\"Closing \" + r.id)\n",
    "            r.lower_bound = 0"
   ]
  },
  {
   "cell_type": "markdown",
   "id": "50f8ec29-232f-4f8a-9143-4ec0f89c3b94",
   "metadata": {},
   "source": [
    "### Full"
   ]
  },
  {
   "cell_type": "code",
   "execution_count": null,
   "id": "63010c92-3cab-4563-8252-51a4e489ae0e",
   "metadata": {
    "scrolled": true,
    "tags": []
   },
   "outputs": [],
   "source": [
    "builder = MEBuilder(*[organism, inputs])\n",
    "builder.configuration['run_bbh_blast'] = False"
   ]
  },
  {
   "cell_type": "code",
   "execution_count": null,
   "id": "cd56e9b5-9c24-40ac-bd8b-d1a1d6d23c2a",
   "metadata": {
    "ExecuteTime": {
     "end_time": "2022-12-12T06:30:28.060280Z",
     "start_time": "2022-12-12T06:30:01.706785Z"
    },
    "scrolled": true,
    "tags": []
   },
   "outputs": [],
   "source": [
    "builder.generate_files(overwrite=True)"
   ]
  },
  {
   "cell_type": "code",
   "execution_count": null,
   "id": "a0ca2c09-f407-472d-8902-2964eba510a5",
   "metadata": {
    "ExecuteTime": {
     "end_time": "2022-12-12T06:28:36.607889Z",
     "start_time": "2022-12-12T06:27:59.542579Z"
    },
    "scrolled": true,
    "tags": []
   },
   "outputs": [],
   "source": [
    "builder.build_me_model(overwrite=False)"
   ]
  },
  {
   "cell_type": "code",
   "execution_count": null,
   "id": "ee772d2b-3b27-4db7-9e6d-fa285ba78c87",
   "metadata": {
    "scrolled": true
   },
   "outputs": [],
   "source": [
    "enforce_medium(builder.me_model,medium)\n",
    "builder.me_model.reactions.EX_glc__D_e.bounds = (-1000,1000)"
   ]
  },
  {
   "cell_type": "code",
   "execution_count": null,
   "id": "ff926587-baa8-443c-90ab-dbc96ec668d0",
   "metadata": {},
   "outputs": [],
   "source": [
    "for r in builder.me_model.reactions:\n",
    "    if not isinstance(r,coralme.core.reaction.MetabolicReaction):\n",
    "        continue\n",
    "    r.keff = 35\n",
    "    r.update()"
   ]
  },
  {
   "cell_type": "code",
   "execution_count": null,
   "id": "f4d25344-e810-4eb0-8d63-476f5eb40789",
   "metadata": {
    "scrolled": true,
    "tags": []
   },
   "outputs": [],
   "source": [
    "builder.troubleshoot(growth_key_and_value = { builder.me_model.mu : 0.001 }, guesses = set([\"pg161_p\", \"4fe4s_c\",\"dpm_c\"]))"
   ]
  },
  {
   "cell_type": "code",
   "execution_count": null,
   "id": "c6b68d23",
   "metadata": {},
   "outputs": [],
   "source": [
    "# Save the model in quick access directory\n",
    "coralme.io.json.save_json_me_model(builder.me_model, './model/iPpu1676-ME.json')\n",
    "coralme.io.pickle.save_pickle_me_model(builder.me_model, './model/iPpu1676-ME.pkl')"
   ]
  }
 ],
 "metadata": {
  "kernelspec": {
   "display_name": "Python 3 (ipykernel)",
   "language": "python",
   "name": "python3"
  },
  "language_info": {
   "codemirror_mode": {
    "name": "ipython",
    "version": 3
   },
   "file_extension": ".py",
   "mimetype": "text/x-python",
   "name": "python",
   "nbconvert_exporter": "python",
   "pygments_lexer": "ipython3",
   "version": "3.10.12"
  }
 },
 "nbformat": 4,
 "nbformat_minor": 5
}
