{
 "cells": [
  {
   "cell_type": "markdown",
   "id": "091879b9-185a-4e74-8b0f-c0f99736a302",
   "metadata": {},
   "source": [
    "# Reconstruct ME-model"
   ]
  },
  {
   "cell_type": "code",
   "execution_count": 1,
   "id": "fadf741b-d65e-4c02-a73f-3c1414e848ce",
   "metadata": {
    "ExecuteTime": {
     "end_time": "2022-12-12T06:27:35.182100Z",
     "start_time": "2022-12-12T06:27:35.157355Z"
    }
   },
   "outputs": [
    {
     "data": {
      "text/html": [
       "<style>.container { width:95% !important; }</style>"
      ],
      "text/plain": [
       "<IPython.core.display.HTML object>"
      ]
     },
     "metadata": {},
     "output_type": "display_data"
    }
   ],
   "source": [
    "from IPython.display import display, HTML, Math, Markdown\n",
    "display(HTML(\"<style>.container { width:95% !important; }</style>\"))\n",
    "\n",
    "%load_ext autoreload\n",
    "%autoreload 2"
   ]
  },
  {
   "cell_type": "code",
   "execution_count": 2,
   "id": "63414ed1-c7f0-4b1c-9dd0-534c4182f428",
   "metadata": {
    "ExecuteTime": {
     "end_time": "2022-12-12T06:27:36.177441Z",
     "start_time": "2022-12-12T06:27:35.183790Z"
    }
   },
   "outputs": [],
   "source": [
    "from coralme.builder.main import MEBuilder, MEReconstruction, METroubleshooter\n",
    "from coralme.builder.curation import MECurator, MEManualCuration\n",
    "import coralme\n",
    "import pandas\n",
    "pandas.set_option('display.max_colwidth', None)"
   ]
  },
  {
   "cell_type": "code",
   "execution_count": 3,
   "id": "659ca4b2-ac94-4b00-98e8-68fdf89c0b16",
   "metadata": {},
   "outputs": [],
   "source": [
    "org = 'pputidame'\n",
    "organism = './{:s}/organism.json'.format(org)\n",
    "inputs = './{:s}/input.json'.format(org)"
   ]
  },
  {
   "cell_type": "code",
   "execution_count": 4,
   "id": "ffb27bd5-5570-41bf-b8ca-82d7ee4f7cb2",
   "metadata": {},
   "outputs": [],
   "source": [
    "import cobra\n",
    "medium = cobra.io.load_json_model(\"./pputidame/inputs/m_model.json\").medium\n",
    "def enforce_medium(model,medium):\n",
    "    for r in model.query(\"^EX_\"):\n",
    "        if r.id in medium:\n",
    "            print(\"Enforcing \" + r.id)\n",
    "            r.lower_bound = -medium[r.id]\n",
    "        else:\n",
    "            print(\"Closing \" + r.id)\n",
    "            r.lower_bound = 0"
   ]
  },
  {
   "cell_type": "markdown",
   "id": "50f8ec29-232f-4f8a-9143-4ec0f89c3b94",
   "metadata": {},
   "source": [
    "### Full"
   ]
  },
  {
   "cell_type": "code",
   "execution_count": 5,
   "id": "63010c92-3cab-4563-8252-51a4e489ae0e",
   "metadata": {
    "scrolled": true,
    "tags": []
   },
   "outputs": [],
   "source": [
    "builder = MEBuilder(*[organism, inputs])\n",
    "builder.configuration['run_bbh_blast'] = False"
   ]
  },
  {
   "cell_type": "code",
   "execution_count": 6,
   "id": "cd56e9b5-9c24-40ac-bd8b-d1a1d6d23c2a",
   "metadata": {
    "ExecuteTime": {
     "end_time": "2022-12-12T06:30:28.060280Z",
     "start_time": "2022-12-12T06:30:01.706785Z"
    },
    "scrolled": true,
    "tags": []
   },
   "outputs": [
    {
     "name": "stdout",
     "output_type": "stream",
     "text": [
      "Initiating file processing...\n",
      "~ Processing files for pputida...\n"
     ]
    },
    {
     "name": "stderr",
     "output_type": "stream",
     "text": [
      "Checking M-model metabolites...                                            : 100.0%|██████████|  2153/ 2153 [00:00<00:00]\n",
      "Checking M-model genes...                                                  : 100.0%|██████████|  1462/ 1462 [00:00<00:00]\n",
      "Checking M-model reactions...                                              : 100.0%|██████████|  2927/ 2927 [00:00<00:00]\n",
      "Generating complexes dataframe from optional proteins file...              : 100.0%|██████████|  5779/ 5779 [00:00<00:00]\n",
      "Syncing optional genes file...                                             : 100.0%|██████████|  5785/ 5785 [00:00<00:00]\n",
      "Looking for duplicates within datasets...                                  : 100.0%|██████████|     5/    5 [00:00<00:00]\n",
      "Gathering ID occurrences across datasets...                                : 100.0%|██████████| 14728/14728 [00:00<00:00]\n",
      "Solving duplicates across datasets...                                      : 0.0%|          |     0/    0 [00:00<?]\n",
      "Pruning GenBank...                                                         : 100.0%|██████████|     1/    1 [00:01<00:00]\n",
      "Updating Genbank file with optional files...                               : 100.0%|██████████|  5785/ 5785 [00:00<00:00]\n",
      "Syncing optional files with genbank contigs...                             : 100.0%|██████████|     1/    1 [00:06<00:00]\n",
      "Modifying metabolites with manual curation...                              : 100.0%|██████████|    19/   19 [00:00<00:00]\n",
      "Modifying metabolic reactions with manual curation...                      : 100.0%|██████████|    32/   32 [00:00<00:00]\n",
      "Adding manual curation of complexes...                                     : 100.0%|██████████|    16/   16 [00:00<00:00]\n",
      "Getting sigma factors...                                                   : 100.0%|██████████|    27/   27 [00:00<00:00]\n",
      "Getting generics from Genbank contigs...                                   : 100.0%|██████████|     1/    1 [00:00<00:00]\n",
      "Processing optional TUs file...                                            : 100.0%|██████████|  3707/ 3707 [00:00<00:00]\n",
      "Getting TU-gene associations from optional TUs file...                     : 100.0%|██████████|  3707/ 3707 [00:00<00:00]\n",
      "Adding protein location...                                                 : 100.0%|██████████|  5792/ 5792 [00:00<00:00]\n",
      "Purging M-model genes...                                                   : 100.0%|██████████|  1468/ 1468 [00:00<00:00]\n",
      "Getting enzyme-reaction associations...                                    : 100.0%|██████████|  2948/ 2948 [00:13<00:00]\n"
     ]
    },
    {
     "name": "stdout",
     "output_type": "stream",
     "text": [
      "Reading pputida done.\n"
     ]
    },
    {
     "name": "stderr",
     "output_type": "stream",
     "text": [
      "Gathering M-model compartments...                                          : 100.0%|██████████|     3/    3 [00:00<00:00]\n",
      "Fixing compartments in M-model metabolites...                              : 100.0%|██████████|  2172/ 2172 [00:00<00:00]\n",
      "Fixing missing names in M-model reactions...                               : 100.0%|██████████|  2948/ 2948 [00:00<00:00]\n"
     ]
    },
    {
     "name": "stdout",
     "output_type": "stream",
     "text": [
      "~ Processing files for iJL1678b...\n"
     ]
    },
    {
     "name": "stderr",
     "output_type": "stream",
     "text": [
      "Checking M-model metabolites...                                            : 100.0%|██████████|  1660/ 1660 [00:00<00:00]\n",
      "Checking M-model genes...                                                  : 100.0%|██████████|  1271/ 1271 [00:00<00:00]\n",
      "Checking M-model reactions...                                              : 100.0%|██████████|  2377/ 2377 [00:00<00:00]\n",
      "Looking for duplicates within datasets...                                  : 100.0%|██████████|     5/    5 [00:00<00:00]\n",
      "Gathering ID occurrences across datasets...                                : 100.0%|██████████|  9704/ 9704 [00:00<00:00]\n",
      "Solving duplicates across datasets...                                      : 0.0%|          |     0/    0 [00:00<?]\n",
      "Getting sigma factors...                                                   : 100.0%|██████████|     7/    7 [00:00<00:00]\n",
      "Getting TU-gene associations from optional TUs file...                     : 100.0%|██████████|  3707/ 3707 [00:00<00:00]\n",
      "Adding protein location...                                                 : 100.0%|██████████|  1304/ 1304 [00:00<00:00]\n",
      "Purging M-model genes...                                                   : 100.0%|██████████|  1271/ 1271 [00:00<00:00]\n"
     ]
    },
    {
     "name": "stdout",
     "output_type": "stream",
     "text": [
      "Reading iJL1678b done.\n"
     ]
    },
    {
     "name": "stderr",
     "output_type": "stream",
     "text": [
      "Updating translocation machinery from homology...                          : 100.0%|██████████|     9/    9 [00:00<00:00]\n",
      "Updating protein location from homology...                                 : 100.0%|██████████|   514/  514 [00:00<00:00]\n",
      "Updating translocation multipliers from homology...                        : 100.0%|██████████|     3/    3 [00:00<00:00]\n",
      "Updating lipoprotein precursors from homology...                           : 100.0%|██████████|    14/   14 [00:00<00:00]\n",
      "Updating cleaved-methionine proteins from homology...                      : 100.0%|██████████|   343/  343 [00:00<00:00]\n",
      "Mapping M-metabolites to E-metabolites...                                  : 100.0%|██████████|   147/  147 [00:00<00:00]\n",
      "Updating generics from homology...                                         : 100.0%|██████████|    10/   10 [00:00<00:00]\n",
      "Updating folding from homology...                                          : 100.0%|██████████|     2/    2 [00:00<00:00]\n",
      "Updating ribosome subreaction machinery from homology...                   : 100.0%|██████████|     3/    3 [00:00<00:00]\n",
      "Updating tRNA synthetases from homology...                                 : 100.0%|██████████|    20/   20 [00:00<00:00]\n",
      "Updating peptide release factors from homology...                          : 100.0%|██████████|     3/    3 [00:00<00:00]\n",
      "Updating transcription subreactions machinery from homology...             : 100.0%|██████████|     4/    4 [00:00<00:00]\n",
      "Updating translation initiation subreactions from homology...              : 100.0%|██████████|     4/    4 [00:00<00:00]\n",
      "Updating translation elongation subreactions from homology...              : 100.0%|██████████|     2/    2 [00:00<00:00]\n",
      "Updating translation termination subreactions from homology...             : 100.0%|██████████|     9/    9 [00:00<00:00]\n",
      "Updating special tRNA subreactions from homology...                        : 100.0%|██████████|     1/    1 [00:00<00:00]\n",
      "Updating RNA degradosome composition from homology...                      : 100.0%|██████████|     1/    1 [00:00<00:00]\n",
      "Updating excision machinery from homology...                               : 100.0%|██████████|     3/    3 [00:00<00:00]\n",
      "Updating tRNA subreactions from homology...                                : 100.0%|██████████|     6/    6 [00:00<00:00]\n",
      "Updating lipid modification machinery from homology...                     : 100.0%|██████████|     2/    2 [00:00<00:00]\n",
      "Fixing M-model metabolites with homology...                                : 100.0%|██████████|  2172/ 2172 [00:00<00:00]\n",
      "Updating enzyme reaction association...                                    : 100.0%|██████████|  2049/ 2049 [00:00<00:00]\n",
      "Getting tRNA to codon dictionary from AE015451.2                           : 100.0%|██████████|  5730/ 5730 [00:03<00:00]\n",
      "Checking defined translocation pathways...                                 : 100.0%|██████████|     9/    9 [00:00<00:00]\n",
      "Getting reaction Keffs...                                                  : 100.0%|██████████|  2049/ 2049 [00:00<00:00]\n"
     ]
    },
    {
     "name": "stdout",
     "output_type": "stream",
     "text": [
      "Writting the Organism-Specific Matrix...\n",
      "Organism-Specific Matrix saved to ./pputidame/building_data/automated-org-with-refs.xlsx file.\n",
      "File processing done.\n"
     ]
    }
   ],
   "source": [
    "builder.generate_files(overwrite=True)"
   ]
  },
  {
   "cell_type": "code",
   "execution_count": 7,
   "id": "a0ca2c09-f407-472d-8902-2964eba510a5",
   "metadata": {
    "ExecuteTime": {
     "end_time": "2022-12-12T06:28:36.607889Z",
     "start_time": "2022-12-12T06:27:59.542579Z"
    },
    "scrolled": true,
    "tags": []
   },
   "outputs": [
    {
     "name": "stdout",
     "output_type": "stream",
     "text": [
      "Initiating ME-model reconstruction...\n"
     ]
    },
    {
     "name": "stderr",
     "output_type": "stream",
     "text": [
      "Adding biomass constraint(s) into the ME-model...                          : 100.0%|██████████|    11/   11 [00:00<00:00]\n",
      "Adding Metabolites from M-model into the ME-model...                       : 100.0%|██████████|  2166/ 2166 [00:00<00:00]\n",
      "Adding Reactions from M-model into the ME-model...                         : 100.0%|██████████|  2947/ 2947 [00:00<00:00]\n",
      "Adding Transcriptional Units into the ME-model from user input...          : 100.0%|██████████|  3666/ 3666 [00:29<00:00]\n",
      "Adding features from contig AE015451.2 into the ME-model...                : 100.0%|██████████|  5730/ 5730 [00:12<00:00]\n",
      "Updating all TranslationReaction and TranscriptionReaction...              : 100.0%|██████████|  9897/ 9897 [00:11<00:00]\n",
      "Removing SubReactions from ComplexData...                                  : 100.0%|██████████|  6385/ 6385 [00:00<00:00]\n",
      "Adding ComplexFormation into the ME-model...                               : 100.0%|██████████|  6385/ 6385 [00:00<00:00]\n",
      "Adding Generic(s) into the ME-model...                                     : 100.0%|██████████|    10/   10 [00:00<00:00]\n",
      "Processing StoichiometricData in ME-model...                               : 100.0%|██████████|  2563/ 2563 [00:00<00:00]\n"
     ]
    },
    {
     "name": "stdout",
     "output_type": "stream",
     "text": [
      "ME-model was saved in the ./pputidame/ directory as MEModel-step1-pputida.pkl\n"
     ]
    },
    {
     "name": "stderr",
     "output_type": "stream",
     "text": [
      "Adding tRNA synthetase(s) information into the ME-model...                 : 100.0%|██████████|   271/  271 [00:00<00:00]\n",
      "Adding tRNA modification SubReactions...                                   : 100.0%|██████████|    27/   27 [00:00<00:00]\n",
      "Associating tRNA modification enzyme(s) to tRNA(s)...                      : 100.0%|██████████|   427/  427 [00:00<00:00]\n",
      "Adding SubReactions into TranslationReactions...                           : 100.0%|██████████|  5565/ 5565 [00:01<00:00]\n",
      "Adding RNA Polymerase(s) into the ME-model...                              : 100.0%|██████████|    27/   27 [00:00<00:00]\n",
      "Associating a RNA Polymerase to each Transcriptional Unit...               : 100.0%|██████████|  3666/ 3666 [00:00<00:00]\n",
      "Processing ComplexData in ME-model...                                      : 100.0%|██████████|   361/  361 [00:00<00:00]\n",
      "Adding ComplexFormation into the ME-model...                               : 100.0%|██████████|  6424/ 6424 [00:00<00:00]\n",
      "Adding SubReactions into TranslationReactions...                           : 100.0%|██████████|  5565/ 5565 [00:01<00:00]\n",
      "Adding Transcription SubReactions...                                       : 100.0%|██████████|  3668/ 3668 [00:00<00:00]\n",
      "Processing StoichiometricData in SubReactionData...                        : 100.0%|██████████|  2385/ 2385 [00:00<00:00]\n",
      "Adding reaction subsystems from M-model into the ME-model...               : 100.0%|██████████|  2947/ 2947 [00:00<00:00]\n",
      "Processing StoichiometricData in ME-model...                               : 100.0%|██████████|  2563/ 2563 [00:00<00:00]\n",
      "Updating ME-model Reactions...                                             : 100.0%|██████████| 25078/25078 [01:34<00:00]\n",
      "Updating all FormationReactions...                                         : 100.0%|██████████|  6424/ 6424 [00:00<00:00]\n",
      "Recalculation of the elemental contribution in SubReactions...             : 100.0%|██████████|   339/  339 [00:00<00:00]\n",
      "Updating all FormationReactions...                                         : 100.0%|██████████|  6424/ 6424 [00:00<00:00]\n",
      "Updating FormationReactions involving a lipoyl prosthetic group...         : 100.0%|██████████|    15/   15 [00:00<00:00]\n",
      "Updating FormationReactions involving a glycyl radical...                  : 0.0%|          |     0/    0 [00:00<?]\n",
      "Estimating effective turnover rates for reactions using the SASA method... : 100.0%|██████████|  7208/ 7208 [00:00<00:00]\n",
      "Mapping effective turnover rates from user input...                        : 0.0%|          |     0/    0 [00:00<?]\n",
      "Setting the effective turnover rates using user input...                   : 100.0%|██████████|  6254/ 6254 [00:00<00:00]\n",
      "Pruning unnecessary ComplexData reactions...                               : 100.0%|██████████|  6424/ 6424 [00:12<00:00]\n",
      "Pruning unnecessary FoldedProtein reactions...                             : 0.0%|          |     0/    0 [00:00<?]\n",
      "Pruning unnecessary ProcessedProtein reactions...                          : 100.0%|██████████|  7326/ 7326 [00:01<00:00]\n",
      "Pruning unnecessary TranslatedGene reactions...                            : 100.0%|██████████|  6144/ 6144 [00:13<00:00]\n",
      "Pruning unnecessary TranscribedGene reactions...                           : 100.0%|██████████|  5731/ 5731 [00:09<00:00]\n",
      "Pruning unnecessary Transcriptional Units...                               : 100.0%|██████████|  3668/ 3668 [00:05<00:00]\n",
      "Pruning unnecessary ComplexData reactions...                               : 100.0%|██████████|  1483/ 1483 [00:00<00:00]\n",
      "Pruning unnecessary FoldedProtein reactions...                             : 0.0%|          |     0/    0 [00:00<?]\n",
      "Pruning unnecessary ProcessedProtein reactions...                          : 100.0%|██████████|  2183/ 2183 [00:00<00:00]\n",
      "Pruning unnecessary TranslatedGene reactions...                            : 100.0%|██████████|  2180/ 2180 [00:00<00:00]\n",
      "Pruning unnecessary TranscribedGene reactions...                           : 100.0%|██████████|  1702/ 1702 [00:03<00:00]\n",
      "Pruning unnecessary Transcriptional Units...                               : 100.0%|██████████|  1103/ 1103 [00:01<00:00]\n",
      "Pruning unnecessary ComplexData reactions...                               : 100.0%|██████████|  1457/ 1457 [00:00<00:00]\n",
      "Pruning unnecessary FoldedProtein reactions...                             : 0.0%|          |     0/    0 [00:00<?]\n",
      "Pruning unnecessary ProcessedProtein reactions...                          : 100.0%|██████████|  2157/ 2157 [00:00<00:00]\n",
      "Pruning unnecessary TranslatedGene reactions...                            : 100.0%|██████████|  2157/ 2157 [00:00<00:00]\n",
      "Pruning unnecessary TranscribedGene reactions...                           : 100.0%|██████████|  1679/ 1679 [00:03<00:00]\n",
      "Pruning unnecessary Transcriptional Units...                               : 100.0%|██████████|  1079/ 1079 [00:01<00:00]\n"
     ]
    },
    {
     "name": "stdout",
     "output_type": "stream",
     "text": [
      "ME-model was saved in the ./pputidame/ directory as MEModel-step2-pputida.pkl\n",
      "ME-model reconstruction is done.\n",
      "Number of metabolites in the ME-model is 7528 (+248.20%, from 2162)\n",
      "Number of reactions in the ME-model is 14418 (+389.08%, from 2948)\n",
      "Number of genes in the ME-model is 1677 (+14.63%, from 1463)\n",
      "Number of missing genes from reconstruction with homology, but no function is 52. Check the curation notes for more details.\n"
     ]
    }
   ],
   "source": [
    "builder.build_me_model(overwrite=False)"
   ]
  },
  {
   "cell_type": "code",
   "execution_count": 8,
   "id": "ee772d2b-3b27-4db7-9e6d-fa285ba78c87",
   "metadata": {
    "scrolled": true
   },
   "outputs": [
    {
     "name": "stdout",
     "output_type": "stream",
     "text": [
      "Closing EX_12dgr160_e\n",
      "Closing EX_12dgr180_e\n",
      "Closing EX_13dampp_e\n",
      "Closing EX_15dap_e\n",
      "Closing EX_1ag160_e\n",
      "Closing EX_1ag180_e\n",
      "Closing EX_1ag181d9_e\n",
      "Closing EX_1ag182d9d12_e\n",
      "Closing EX_25dkglcn_e\n",
      "Closing EX_26dap__M_e\n",
      "Closing EX_AEP_e\n",
      "Closing EX_2ddglcn_e\n",
      "Closing EX_2dhglcn_e\n",
      "Closing EX_2m35mdntha_e\n",
      "Closing EX_34dhbz_e\n",
      "Closing EX_34dhcinm_e\n",
      "Closing EX_34dhphe_e\n",
      "Closing EX_35dnta_e\n",
      "Closing EX_3h4atb_e\n",
      "Closing EX_3mb_e\n",
      "Closing EX_btd_RR_e\n",
      "Closing EX_btn_e\n",
      "Closing EX_butso3_e\n",
      "Closing EX_bz_e\n",
      "Enforcing EX_ca2_e\n",
      "Closing EX_carn_e\n",
      "Closing EX_catechol_e\n",
      "Closing EX_cbi_e\n",
      "Closing EX_cbl1_e\n",
      "Closing EX_cd2_e\n",
      "Closing EX_cell4_e\n",
      "Closing EX_cgly_e\n",
      "Closing EX_chol_e\n",
      "Closing EX_chols_e\n",
      "Closing EX_chor_e\n",
      "Closing EX_cinnm_e\n",
      "Closing EX_cit_e\n",
      "Enforcing EX_cl_e\n",
      "Closing EX_cm_e\n",
      "Closing EX_cmcbtt_e\n",
      "Enforcing EX_co2_e\n",
      "Closing EX_co_e\n",
      "Enforcing EX_cobalt2_e\n",
      "Closing EX_confrl_e\n",
      "Closing EX_creat_e\n",
      "Closing EX_crn_e\n",
      "Closing EX_cro2_e\n",
      "Closing EX_cro4_e\n",
      "Closing EX_crtn_e\n",
      "Closing EX_csn_e\n",
      "Enforcing EX_cu2_e\n",
      "Closing EX_cu_e\n",
      "Closing EX_cyan_e\n",
      "Closing EX_cys__D_e\n",
      "Closing EX_cys__L_e\n",
      "Closing EX_dag181d9_e\n",
      "Closing EX_dag182d9d12_e\n",
      "Closing EX_dca_e\n",
      "Closing EX_ddca_e\n",
      "Closing EX_dgudbutn_e\n",
      "Closing EX_dmanur_e\n",
      "Closing EX_dmgly_e\n",
      "Closing EX_dmso2_e\n",
      "Closing EX_dopa_e\n",
      "Closing EX_ecto__L_e\n",
      "Closing EX_enter_e\n",
      "Closing EX_etha_e\n",
      "Closing EX_ethso3_e\n",
      "Closing EX_etoh_e\n",
      "Closing EX_fald_e\n",
      "Closing EX_fcmcbtt_e\n",
      "Enforcing EX_fe2_e\n",
      "Closing EX_fe3_e\n",
      "Closing EX_fe3dcit_e\n",
      "Closing EX_fe3mcbtt_e\n",
      "Closing EX_fe3pyovd_e\n",
      "Closing EX_fe3pyovd_kt_e\n",
      "Closing EX_fecrm_e\n",
      "Closing EX_fecrm_un_e\n",
      "Closing EX_feenter_e\n",
      "Closing EX_feoxam_e\n",
      "Closing EX_feoxam_un_e\n",
      "Closing EX_fer_e\n",
      "Closing EX_for_e\n",
      "Closing EX_fru_e\n",
      "Closing EX_fum_e\n",
      "Closing EX_ga_e\n",
      "Closing EX_galct__D_e\n",
      "Closing EX_galur_e\n",
      "Enforcing EX_glc__D_e\n",
      "Closing EX_glcn_e\n",
      "Closing EX_glcr_e\n",
      "Closing EX_glcur_e\n",
      "Closing EX_gln__L_e\n",
      "Closing EX_glu__L_e\n",
      "Closing EX_glutar_e\n",
      "Closing EX_gly_e\n",
      "Closing EX_glyald_e\n",
      "Closing EX_glyb_e\n",
      "Closing EX_glyc__R_e\n",
      "Closing EX_glyc_e\n",
      "Closing EX_glyclt_e\n",
      "Closing EX_glycol_e\n",
      "Closing EX_glygln_e\n",
      "Closing EX_glyglu_e\n",
      "Closing EX_glygly_e\n",
      "Closing EX_glymet_e\n",
      "Closing EX_glyphe_e\n",
      "Closing EX_glyser_e\n",
      "Closing EX_gua_e\n",
      "Closing EX_gudac_e\n",
      "Closing EX_gudptn_e\n",
      "Closing EX_h2o2_e\n",
      "Enforcing EX_h2o_e\n",
      "Closing EX_h2s_e\n",
      "Enforcing EX_h_e\n",
      "Enforcing EX_hco3_e\n",
      "Closing EX_hcys__L_e\n",
      "Closing EX_hdca_e\n",
      "Closing EX_hdcea_e\n",
      "Closing EX_hg2_e\n",
      "Closing EX_hgentis_e\n",
      "Closing EX_his__L_e\n",
      "Closing EX_hisgly_e\n",
      "Closing EX_hishis_e\n",
      "Closing EX_hom__L_e\n",
      "Closing EX_hpta_e\n",
      "Closing EX_hxa_e\n",
      "Closing EX_hxan_e\n",
      "Closing EX_icit_e\n",
      "Closing EX_ile__L_e\n",
      "Closing EX_ind3ac_e\n",
      "Closing EX_indole_e\n",
      "Closing EX_ins_e\n",
      "Closing EX_isetac_e\n",
      "Enforcing EX_k_e\n",
      "Closing EX_lac__D_e\n",
      "Closing EX_lac__L_e\n",
      "Closing EX_leu__D_e\n",
      "Closing EX_leu__L_e\n",
      "Closing EX_leuleu_e\n",
      "Closing EX_lnlc_e\n",
      "Closing EX_lpspput_e\n",
      "Closing EX_lys__D_e\n",
      "Closing EX_lys__L_e\n",
      "Closing EX_m_xyl_e\n",
      "Closing EX_mal__D_e\n",
      "Closing EX_mal__L_e\n",
      "Closing EX_man_e\n",
      "Closing EX_manur_e\n",
      "Closing EX_mcbtt_e\n",
      "Closing EX_meoh_e\n",
      "Closing EX_met__L_e\n",
      "Enforcing EX_mg2_e\n",
      "Closing EX_mmet_e\n",
      "Enforcing EX_mn2_e\n",
      "Enforcing EX_mobd_e\n",
      "Closing EX_mso3_e\n",
      "Enforcing EX_na1_e\n",
      "Closing EX_nac_e\n",
      "Enforcing EX_nh4_e\n",
      "Enforcing EX_ni2_e\n",
      "Closing EX_no2_e\n",
      "Closing EX_no3_e\n",
      "Closing EX_no_e\n",
      "Closing EX_nona_e\n",
      "Enforcing EX_o2_e\n",
      "Closing EX_o_xyl_e\n",
      "Closing EX_oaa_e\n",
      "Closing EX_ocdca_e\n",
      "Closing EX_ocdcea_e\n",
      "Closing EX_octa_e\n",
      "Closing EX_orn__D_e\n",
      "Closing EX_orn_e\n",
      "Closing EX_orot_e\n",
      "Closing EX_oxa_e\n",
      "Closing EX_5g2oxpt_e\n",
      "Closing EX_p_xyl_e\n",
      "Closing EX_pac_e\n",
      "Closing EX_pacald_e\n",
      "Closing EX_pb2_e\n",
      "Closing EX_pea_e\n",
      "Closing EX_peamn_e\n",
      "Closing EX_pentso3_e\n",
      "Closing EX_phe__D_e\n",
      "Closing EX_phe__L_e\n",
      "Closing EX_phedca_e\n",
      "Closing EX_phehpa_e\n",
      "Closing EX_phehxa_e\n",
      "Closing EX_pheme_e\n",
      "Closing EX_phenona_e\n",
      "Closing EX_pheocta_e\n",
      "Closing EX_phept_e\n",
      "Closing EX_phpyr_e\n",
      "Enforcing EX_pi_e\n",
      "Closing EX_pnto__R_e\n",
      "Closing EX_ppa_e\n",
      "Closing EX_ppi_e\n",
      "Closing EX_prealg_MG_14_e\n",
      "Closing EX_prealg_MG_23_e\n",
      "Closing EX_prealg_MG_32_e\n",
      "Closing EX_prealg_MG_41_e\n",
      "Closing EX_prealginate_G_e\n",
      "Closing EX_pro__D_e\n",
      "Closing EX_pro__L_e\n",
      "Closing EX_progly_e\n",
      "Closing EX_pta_e\n",
      "Closing EX_ptrc_e\n",
      "Closing EX_ptsla_e\n",
      "Closing EX_pydam_e\n",
      "Closing EX_pyovd_e\n",
      "Closing EX_pyovd_kt_e\n",
      "Closing EX_pyr_e\n",
      "Closing EX_quin_e\n",
      "Closing EX_rib__D_e\n",
      "Closing EX_sbo3_e\n",
      "Enforcing EX_sel_e\n",
      "Closing EX_ser__D_e\n",
      "Closing EX_ser__L_e\n",
      "Closing EX_sheme_e\n",
      "Closing EX_skm_e\n",
      "Closing EX_so2_e\n",
      "Closing EX_so3_e\n",
      "Enforcing EX_so4_e\n",
      "Closing EX_spmd_e\n",
      "Closing EX_succ_e\n",
      "Closing EX_sulfac_e\n",
      "Closing EX_tag160_e\n",
      "Closing EX_tag180_e\n",
      "Closing EX_tag181d9_e\n",
      "Closing EX_tag182d9d12_e\n",
      "Closing EX_taur_e\n",
      "Closing EX_tcynt_e\n",
      "Closing EX_thr__L_e\n",
      "Closing EX_thym_e\n",
      "Closing EX_tmanur_e\n",
      "Closing EX_tnt_e\n",
      "Closing EX_tol_e\n",
      "Closing EX_trp__L_e\n",
      "Closing EX_tsul_e\n",
      "Closing EX_ttdca_e\n",
      "Closing EX_ttdcea_e\n",
      "Closing EX_ttrcyc_e\n",
      "Enforcing EX_tungs_e\n",
      "Closing EX_tyr__D_e\n",
      "Closing EX_tyr__L_e\n",
      "Closing EX_ura_e\n",
      "Closing EX_urea_e\n",
      "Closing EX_uri_e\n",
      "Closing EX_vacc_e\n",
      "Closing EX_val__D_e\n",
      "Closing EX_val__L_e\n",
      "Closing EX_vanln_e\n",
      "Closing EX_vanlt_e\n",
      "Closing EX_xan_e\n",
      "Enforcing EX_zn2_e\n",
      "Closing EX_4hptn_e\n",
      "Closing EX_4oxptn_e\n",
      "Enforcing EX_acmtsoxin_e\n",
      "Enforcing EX_acpptrn_e\n",
      "Enforcing EX_d2one_e\n",
      "Enforcing EX_d3one_e\n",
      "Enforcing EX_d4one_e\n",
      "Enforcing EX_mtsoxin_e\n",
      "Enforcing EX_n2one_e\n",
      "Enforcing EX_pptrn_e\n",
      "Enforcing EX_und2one_e\n",
      "Closing EX_3oxoadp_e\n",
      "Closing EX_4abut_e\n",
      "Closing EX_4hbz_e\n",
      "Closing EX_4hpro_DC_e\n",
      "Closing EX_4hpro_LT_e\n",
      "Closing EX_5aptn_e\n",
      "Closing EX_5mcsn_e\n",
      "Closing EX_5oxpro_e\n",
      "Closing EX_6atha_e\n",
      "Closing EX_6hnac_e\n",
      "Closing EX_met__D_e\n",
      "Closing EX_LalaLglu_e\n",
      "Closing EX_Ncbmpts_e\n",
      "Closing EX_R3hdec4e_e\n",
      "Closing EX_R_3h4atba_e\n",
      "Closing EX_R_3h6atha_e\n",
      "Closing EX_R_3hcmrs7e_e\n",
      "Closing EX_R_3hdcaa_e\n",
      "Closing EX_R_3hdd5ea_e\n",
      "Closing EX_R_3hdd6e_e\n",
      "Closing EX_R_3hdda_e\n",
      "Closing EX_R_3hhdca_e\n",
      "Closing EX_R_3hhpa_e\n",
      "Closing EX_R_3hhxa_e\n",
      "Closing EX_R_3hnonaa_e\n",
      "Closing EX_R_3hocta_e\n",
      "Closing EX_R_3hpba_e\n",
      "Closing EX_R_3hpdeca_e\n",
      "Closing EX_R_3hphpa_e\n",
      "Closing EX_R_3hphxa_e\n",
      "Closing EX_R_3hpnona_e\n",
      "Closing EX_R_3hpocta_e\n",
      "Closing EX_R_3hppta_e\n",
      "Closing EX_R_3hpt_e\n",
      "Closing EX_R_3htd58e_e\n",
      "Closing EX_R_3htd5e_e\n",
      "Closing EX_R_3httdca_e\n",
      "Closing EX_T4hcinnm_e\n",
      "Closing EX_ac_e\n",
      "Closing EX_acac_e\n",
      "Closing EX_acald_e\n",
      "Closing EX_acon_C_e\n",
      "Closing EX_acser_e\n",
      "Closing EX_actn__R_e\n",
      "Closing EX_ade_e\n",
      "Closing EX_adn_e\n",
      "Closing EX_adocbl_e\n",
      "Closing EX_ag_e\n",
      "Closing EX_agm_e\n",
      "Closing EX_akg_e\n",
      "Closing EX_ala_B_e\n",
      "Closing EX_ala__D_e\n",
      "Closing EX_ala__L_e\n",
      "Closing EX_alaala_e\n",
      "Closing EX_alahis_e\n",
      "Closing EX_alaleu_e\n",
      "Closing EX_alathr_e\n",
      "Closing EX_alatrp_e\n",
      "Closing EX_algac_MG_14_e\n",
      "Closing EX_algac_MG_23_e\n",
      "Closing EX_algac_MG_32_e\n",
      "Closing EX_algac_MG_41_e\n",
      "Closing EX_algac__M_e\n",
      "Closing EX_alltn_e\n",
      "Closing EX_apc_e\n",
      "Closing EX_arbtn_e\n",
      "Closing EX_arbtn_fe3_e\n",
      "Closing EX_arg__D_e\n",
      "Closing EX_arg__L_e\n",
      "Closing EX_asn__D_e\n",
      "Closing EX_asn__L_e\n",
      "Closing EX_aso3_e\n",
      "Closing EX_aso4_e\n",
      "Closing EX_asp__L_e\n",
      "Closing EX_balaala_e\n",
      "Closing EX_balabala_e\n",
      "Closing EX_balagly_e\n",
      "Closing EX_balaleu_e\n",
      "Closing EX_balamd_e\n",
      "Closing EX_bhb_e\n",
      "Closing EX_biliverd_e\n",
      "Closing EX_5mtr_e\n",
      "Closing EX_btd_14_RR_e\n"
     ]
    }
   ],
   "source": [
    "enforce_medium(builder.me_model,medium)\n",
    "builder.me_model.reactions.EX_glc__D_e.bounds = (-1000,1000)"
   ]
  },
  {
   "cell_type": "code",
   "execution_count": 9,
   "id": "ff926587-baa8-443c-90ab-dbc96ec668d0",
   "metadata": {},
   "outputs": [],
   "source": [
    "for r in builder.me_model.reactions:\n",
    "    if not isinstance(r,coralme.core.reaction.MetabolicReaction):\n",
    "        continue\n",
    "    r.keff = 35\n",
    "    r.update()"
   ]
  },
  {
   "cell_type": "code",
   "execution_count": null,
   "id": "f4d25344-e810-4eb0-8d63-476f5eb40789",
   "metadata": {
    "scrolled": true,
    "tags": []
   },
   "outputs": [
    {
     "name": "stdout",
     "output_type": "stream",
     "text": [
      "The MINOS and quad MINOS solvers are a courtesy of Prof Michael A. Saunders. Please cite Ma, D., Yang, L., Fleming, R. et al. Reliable and efficient solution of genome-scale models of Metabolism and macromolecular Expression. Sci Rep 7, 40863 (2017). https://doi.org/10.1038/srep40863\n",
      "\n",
      "~ Troubleshooting started...\n",
      "  Checking if the ME-model can simulate growth without gapfilling reactions...\n",
      "  Original ME-model is feasible with a tested growth rate of 0.001000 1/h\n",
      "~ Final step. Fully optimizing with precision 1e-6 and save solution into the ME-model...\n"
     ]
    }
   ],
   "source": [
    "builder.troubleshoot(growth_key_and_value = { builder.me_model.mu : 0.001 }, guesses = set([\"pg161_p\", \"4fe4s_c\",\"dpm_c\"]))"
   ]
  }
 ],
 "metadata": {
  "kernelspec": {
   "display_name": "coralme-1.1.5",
   "language": "python",
   "name": "coralme-1.1.5"
  },
  "language_info": {
   "codemirror_mode": {
    "name": "ipython",
    "version": 3
   },
   "file_extension": ".py",
   "mimetype": "text/x-python",
   "name": "python",
   "nbconvert_exporter": "python",
   "pygments_lexer": "ipython3",
   "version": "3.10.12"
  }
 },
 "nbformat": 4,
 "nbformat_minor": 5
}
