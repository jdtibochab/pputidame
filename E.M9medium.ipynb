{
 "cells": [
  {
   "cell_type": "markdown",
   "id": "9ad65014-d930-42bc-8f61-592c01bf1585",
   "metadata": {},
   "source": [
    "# Calculating medium volumes and concentrations for experiments"
   ]
  },
  {
   "cell_type": "code",
   "execution_count": 1,
   "id": "e2d8555b-1fc5-4145-8acb-da843e08177f",
   "metadata": {},
   "outputs": [],
   "source": [
    "import pandas"
   ]
  },
  {
   "cell_type": "markdown",
   "id": "7b087c06-eb14-493f-ada6-9df7301b7e45",
   "metadata": {},
   "source": [
    "## M9 definition"
   ]
  },
  {
   "cell_type": "code",
   "execution_count": 67,
   "id": "2a99deaf-2b34-4438-bf24-2fda3b845943",
   "metadata": {},
   "outputs": [],
   "source": [
    "# From Alissa and https://www.sigmaaldrich.com/US/en/product/sigma/m6030?\n",
    "M9 = pandas.Series({\n",
    "    \"KH2PO4\" : 22.04,\n",
    "    \"NaCl\" : 8.56,\n",
    "    \"Na2HPO4-12H2O\" : 18.93,\n",
    "    \"NH4Cl\" : 18.69,\n",
    "    \"MgSO4-7H2O\" : 0.97\n",
    "}) # mM\n",
    "\n",
    "MW = pandas.Series({\n",
    "    \"KH2PO4\" : 136.086,\n",
    "    \"NaCl\" : 58.44,\n",
    "    \"Na2HPO4\" : 141.96,\n",
    "    \"NH4Cl\" : 53.491,\n",
    "}) # g/mol\n",
    "\n",
    "supp = pandas.Series({\n",
    "    \"CaCl2-2H2O\" : 1.5/1000,\n",
    "    \"FeSO4\" : 9.71/1000,\n",
    "    \"MgSO4\" : 2,\n",
    "    \"Glucose\" : 30\n",
    "}) # mM"
   ]
  },
  {
   "cell_type": "code",
   "execution_count": 68,
   "id": "2176e5ff-5ca5-425d-97ff-806710d7d2f4",
   "metadata": {},
   "outputs": [
    {
     "data": {
      "text/plain": [
       "KH2PO4           22.04000\n",
       "NaCl              8.56000\n",
       "Na2HPO4-12H2O    18.93000\n",
       "NH4Cl            18.69000\n",
       "MgSO4-7H2O        0.97000\n",
       "CaCl2-2H2O        0.00150\n",
       "FeSO4             0.00971\n",
       "MgSO4             2.00000\n",
       "Glucose          30.00000\n",
       "dtype: float64"
      ]
     },
     "execution_count": 68,
     "metadata": {},
     "output_type": "execute_result"
    }
   ],
   "source": [
    "M9_supp = pandas.concat([M9,supp]) # mM\n",
    "M9_supp"
   ]
  },
  {
   "cell_type": "markdown",
   "id": "653f7a36-975d-4cd1-9bfd-74c089387ffb",
   "metadata": {},
   "source": [
    "## Stock"
   ]
  },
  {
   "cell_type": "code",
   "execution_count": 69,
   "id": "88f3104c-3d06-46ee-ad7d-f8cf0281aaf4",
   "metadata": {},
   "outputs": [
    {
     "data": {
      "text/plain": [
       "KH2PO4           100\n",
       "NaCl             100\n",
       "Na2HPO4-12H2O    100\n",
       "NH4Cl            100\n",
       "MgSO4-7H2O       100\n",
       "CaCl2-2H2O       100\n",
       "FeSO4            100\n",
       "MgSO4            100\n",
       "Glucose          100\n",
       "dtype: int64"
      ]
     },
     "execution_count": 69,
     "metadata": {},
     "output_type": "execute_result"
    }
   ],
   "source": [
    "stock = pandas.Series({\n",
    "    k:100 for k in M9_supp.index\n",
    "})\n",
    "stock"
   ]
  },
  {
   "cell_type": "markdown",
   "id": "415ae882-1c77-401e-8ea0-47545f964f72",
   "metadata": {},
   "source": [
    "## Volumes"
   ]
  },
  {
   "cell_type": "code",
   "execution_count": 70,
   "id": "dfe5bee1-1bcf-4085-ab4d-e412f9fb9cfc",
   "metadata": {},
   "outputs": [],
   "source": [
    "v = 0.25 # L\n",
    "c = M9_supp # final conc\n",
    "c1 = stock"
   ]
  },
  {
   "cell_type": "code",
   "execution_count": 75,
   "id": "e12d100e-2cf4-4e1f-853d-c92d8d0a68a4",
   "metadata": {},
   "outputs": [
    {
     "data": {
      "text/plain": [
       "KH2PO4           55.100000\n",
       "NaCl             21.400000\n",
       "Na2HPO4-12H2O    47.325000\n",
       "NH4Cl            46.725000\n",
       "MgSO4-7H2O        2.425000\n",
       "CaCl2-2H2O        0.003750\n",
       "FeSO4             0.024275\n",
       "MgSO4             5.000000\n",
       "Glucose          75.000000\n",
       "dtype: float64"
      ]
     },
     "execution_count": 75,
     "metadata": {},
     "output_type": "execute_result"
    }
   ],
   "source": [
    "# Stock volumes, mL\n",
    "v1 = c*v/c1\n",
    "v1*1000"
   ]
  },
  {
   "cell_type": "code",
   "execution_count": 76,
   "id": "6ba5ac67-58cc-4e3f-a0b9-67a03c5860d1",
   "metadata": {},
   "outputs": [
    {
     "data": {
      "text/plain": [
       "253.00302499999998"
      ]
     },
     "execution_count": 76,
     "metadata": {},
     "output_type": "execute_result"
    }
   ],
   "source": [
    "v1.sum()*1000"
   ]
  },
  {
   "cell_type": "code",
   "execution_count": 79,
   "id": "11e0e62a-e533-4cf6-aac8-a357a4649cfd",
   "metadata": {},
   "outputs": [
    {
     "data": {
      "text/plain": [
       "-3.0030249999999925"
      ]
     },
     "execution_count": 79,
     "metadata": {},
     "output_type": "execute_result"
    }
   ],
   "source": [
    "# Water volume, mL\n",
    "v2 = v - v1.sum()\n",
    "v2*1000"
   ]
  }
 ],
 "metadata": {
  "kernelspec": {
   "display_name": "Python 3 (ipykernel)",
   "language": "python",
   "name": "python3"
  },
  "language_info": {
   "codemirror_mode": {
    "name": "ipython",
    "version": 3
   },
   "file_extension": ".py",
   "mimetype": "text/x-python",
   "name": "python",
   "nbconvert_exporter": "python",
   "pygments_lexer": "ipython3",
   "version": "3.10.12"
  }
 },
 "nbformat": 4,
 "nbformat_minor": 5
}
