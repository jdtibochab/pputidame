{
 "cells": [
  {
   "cell_type": "code",
   "execution_count": 1,
   "id": "80c32d0f-07e1-4aa2-adbb-4c340ab012ac",
   "metadata": {},
   "outputs": [],
   "source": [
    "import pandas\n",
    "import cobra"
   ]
  },
  {
   "cell_type": "code",
   "execution_count": 2,
   "id": "719902db-1e77-40db-a41e-9468a35cb4e2",
   "metadata": {},
   "outputs": [],
   "source": [
    "df = pandas.read_csv(\"./datasets/essentiality/LB-medium-knockouts.csv\",sep=\"\\t\")"
   ]
  },
  {
   "cell_type": "code",
   "execution_count": 3,
   "id": "6c9edb44-4a7d-48de-87ac-5433b48b8ede",
   "metadata": {},
   "outputs": [],
   "source": [
    "tp = df[(df[\"Model\"]==df[\"Experiment\"]) & (df[\"Experiment\"] == 1)]\n",
    "tn = df[(df[\"Model\"]==df[\"Experiment\"]) & (df[\"Experiment\"] == 0)]\n",
    "fp = df[(df[\"Model\"]!=df[\"Experiment\"]) & (df[\"Experiment\"] == 0)]\n",
    "fn = df[(df[\"Model\"]!=df[\"Experiment\"]) & (df[\"Experiment\"] == 1)]"
   ]
  },
  {
   "cell_type": "markdown",
   "id": "b8616e27-802e-4116-917e-15e4b3461685",
   "metadata": {},
   "source": [
    "From: https://enviromicro-journals.onlinelibrary.wiley.com/doi/10.1111/1462-2920.14843\n",
    "\n",
    "*\"We found that iJN1462 was significantly more accurate than iJN746, iEB1050 and PpuQY1140 with 85% accuracy\"*"
   ]
  },
  {
   "cell_type": "code",
   "execution_count": 4,
   "id": "952024d1-caba-42a3-bb12-d44cb0f758e2",
   "metadata": {},
   "outputs": [
    {
     "data": {
      "text/plain": [
       "0.8518518518518519"
      ]
     },
     "execution_count": 4,
     "metadata": {},
     "output_type": "execute_result"
    }
   ],
   "source": [
    "Accuracy = (tp.shape[0] + tn.shape[0])/df.shape[0]\n",
    "Accuracy"
   ]
  },
  {
   "cell_type": "code",
   "execution_count": 5,
   "id": "3465b95c-705d-42ed-9f03-4c487b38a401",
   "metadata": {},
   "outputs": [
    {
     "name": "stdout",
     "output_type": "stream",
     "text": [
      "Set parameter Username\n",
      "Academic license - for non-commercial use only - expires 2025-09-03\n"
     ]
    }
   ],
   "source": [
    "model = cobra.io.load_json_model(\"./pputidame/inputs/m_model.json\")"
   ]
  }
 ],
 "metadata": {
  "kernelspec": {
   "display_name": "coralme-1.1.5",
   "language": "python",
   "name": "coralme-1.1.5"
  },
  "language_info": {
   "codemirror_mode": {
    "name": "ipython",
    "version": 3
   },
   "file_extension": ".py",
   "mimetype": "text/x-python",
   "name": "python",
   "nbconvert_exporter": "python",
   "pygments_lexer": "ipython3",
   "version": "3.10.12"
  }
 },
 "nbformat": 4,
 "nbformat_minor": 5
}
